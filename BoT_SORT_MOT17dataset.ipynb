{
  "nbformat": 4,
  "nbformat_minor": 0,
  "metadata": {
    "colab": {
      "name": "BoT-SORT on Google Colab.ipynb",
      "provenance": [],
      "machine_shape": "hm",
      "authorship_tag": "ABX9TyMxUx36dJK77gAnMoxwlIi8",
      "include_colab_link": true
    },
    "kernelspec": {
      "name": "python3",
      "display_name": "Python 3"
    },
    "language_info": {
      "name": "python"
    },
    "accelerator": "GPU",
    "gpuClass": "standard"
  },
  "cells": [
    {
      "cell_type": "markdown",
      "metadata": {
        "id": "view-in-github",
        "colab_type": "text"
      },
      "source": [
        "<a href=\"https://colab.research.google.com/github/inspiringsource/BoT-SORT-GColab/blob/master/BoT_SORT_MOT17dataset.ipynb\" target=\"_parent\"><img src=\"https://colab.research.google.com/assets/colab-badge.svg\" alt=\"Open In Colab\"/></a>"
      ]
    },
    {
      "cell_type": "markdown",
      "source": [
        "# BoT-SORT MOT17 dataset on GColab\n",
        "\n",
        "> [**BoT-SORT: Robust Associations Multi-Pedestrian Tracking**](https://arxiv.org/abs/2206.14651)\n",
        "> \n",
        "> Nir Aharon, Roy Orfaig, Ben-Zion Bobrovsky"
      ],
      "metadata": {
        "id": "AyYE9V7uTqBX"
      }
    },
    {
      "cell_type": "markdown",
      "source": [
        "### optional-connect-to-Google-drive"
      ],
      "metadata": {
        "id": "jjYzsqudSScm"
      }
    },
    {
      "cell_type": "code",
      "execution_count": 1,
      "metadata": {
        "colab": {
          "base_uri": "https://localhost:8080/"
        },
        "id": "RJy6yRsGSOR2",
        "outputId": "bf603b04-87a1-4a8e-a7e1-887b30e0b124"
      },
      "outputs": [
        {
          "output_type": "stream",
          "name": "stdout",
          "text": [
            "Mounted at /content/gdrive\n"
          ]
        }
      ],
      "source": [
        "from google.colab import drive\n",
        "drive.mount('/content/gdrive')"
      ]
    },
    {
      "cell_type": "markdown",
      "source": [
        "###  Installing dependencies"
      ],
      "metadata": {
        "id": "kX2Gotoqv0-Q"
      }
    },
    {
      "cell_type": "code",
      "source": [
        "# == Download the repo content and install dependencies ==\n",
        "!git clone https://github.com/NirAharon/BoT-SORT.git\n",
        "%cd /content/BoT-SORT/\n",
        "%mkdir pretrained\n",
        "%cd pretrained\n",
        "\n",
        "# downloaded bytetrack_ablation.pth.tar source: https://github.com/ifzhang/ByteTrack#ablation-model\n",
        "!gdown --id \"1iqhM-6V_r1FpOlOzrdP_Ejshgk0DxOob\"\n",
        "# == Download pretrained X model weights ==\n",
        "!gdown --id \"1P4mY0Yyd3PPTybgZkjMYhFri88nTmJX5\"\n",
        "# downloaded mot17_sbs_S50.pth source: https://github.com/NirAharon/BoT-SORT#model-zoo\n",
        "!gdown --id \"1QZFWpoa80rqo7O-HXmlss8J8CnS7IUsN\""
      ],
      "metadata": {
        "id": "thDuKkneSiVF",
        "colab": {
          "base_uri": "https://localhost:8080/"
        },
        "outputId": "16264b82-f7b2-4425-ba14-90f61e5e95f0"
      },
      "execution_count": 2,
      "outputs": [
        {
          "output_type": "stream",
          "name": "stdout",
          "text": [
            "Cloning into 'BoT-SORT'...\n",
            "remote: Enumerating objects: 849, done.\u001b[K\n",
            "remote: Counting objects: 100% (56/56), done.\u001b[K\n",
            "remote: Compressing objects: 100% (47/47), done.\u001b[K\n",
            "remote: Total 849 (delta 25), reused 23 (delta 8), pack-reused 793\u001b[K\n",
            "Receiving objects: 100% (849/849), 51.45 MiB | 13.93 MiB/s, done.\n",
            "Resolving deltas: 100% (173/173), done.\n",
            "/content/BoT-SORT\n",
            "/content/BoT-SORT/pretrained\n",
            "/usr/local/lib/python3.7/dist-packages/gdown/cli.py:131: FutureWarning: Option `--id` was deprecated in version 4.3.1 and will be removed in 5.0. You don't need to pass it anymore to use a file ID.\n",
            "  category=FutureWarning,\n",
            "Downloading...\n",
            "From: https://drive.google.com/uc?id=1iqhM-6V_r1FpOlOzrdP_Ejshgk0DxOob\n",
            "To: /content/BoT-SORT/pretrained/bytetrack_ablation.pth.tar\n",
            "100% 793M/793M [00:07<00:00, 101MB/s]\n",
            "/usr/local/lib/python3.7/dist-packages/gdown/cli.py:131: FutureWarning: Option `--id` was deprecated in version 4.3.1 and will be removed in 5.0. You don't need to pass it anymore to use a file ID.\n",
            "  category=FutureWarning,\n",
            "Downloading...\n",
            "From: https://drive.google.com/uc?id=1P4mY0Yyd3PPTybgZkjMYhFri88nTmJX5\n",
            "To: /content/BoT-SORT/pretrained/bytetrack_x_mot17.pth.tar\n",
            "100% 793M/793M [00:03<00:00, 242MB/s]\n",
            "/usr/local/lib/python3.7/dist-packages/gdown/cli.py:131: FutureWarning: Option `--id` was deprecated in version 4.3.1 and will be removed in 5.0. You don't need to pass it anymore to use a file ID.\n",
            "  category=FutureWarning,\n",
            "Downloading...\n",
            "From: https://drive.google.com/uc?id=1QZFWpoa80rqo7O-HXmlss8J8CnS7IUsN\n",
            "To: /content/BoT-SORT/pretrained/mot17_sbs_S50.pth\n",
            "100% 318M/318M [00:05<00:00, 57.8MB/s]\n"
          ]
        }
      ]
    },
    {
      "cell_type": "code",
      "source": [
        "%cd /content/BoT-SORT/"
      ],
      "metadata": {
        "colab": {
          "base_uri": "https://localhost:8080/"
        },
        "id": "Fafj-BEjUonO",
        "outputId": "8a4b4d37-6358-4ad4-9ba0-fc971bb4f369"
      },
      "execution_count": 3,
      "outputs": [
        {
          "output_type": "stream",
          "name": "stdout",
          "text": [
            "/content/BoT-SORT\n"
          ]
        }
      ]
    },
    {
      "cell_type": "code",
      "source": [
        "!pip3 install -r requirements.txt\n",
        "!python3 setup.py develop"
      ],
      "metadata": {
        "id": "z_2toBfLVcfW",
        "colab": {
          "base_uri": "https://localhost:8080/"
        },
        "outputId": "8027a8e6-b42b-4706-e45a-1b023ea717d5"
      },
      "execution_count": 4,
      "outputs": [
        {
          "output_type": "stream",
          "name": "stdout",
          "text": [
            "Looking in indexes: https://pypi.org/simple, https://us-python.pkg.dev/colab-wheels/public/simple/\n",
            "Requirement already satisfied: numpy in /usr/local/lib/python3.7/dist-packages (from -r requirements.txt (line 1)) (1.21.6)\n",
            "Requirement already satisfied: opencv-python in /usr/local/lib/python3.7/dist-packages (from -r requirements.txt (line 2)) (4.1.2.30)\n",
            "Collecting loguru\n",
            "  Downloading loguru-0.6.0-py3-none-any.whl (58 kB)\n",
            "\u001b[K     |████████████████████████████████| 58 kB 2.7 MB/s \n",
            "\u001b[?25hRequirement already satisfied: scikit-image in /usr/local/lib/python3.7/dist-packages (from -r requirements.txt (line 4)) (0.18.3)\n",
            "Requirement already satisfied: scikit-learn in /usr/local/lib/python3.7/dist-packages (from -r requirements.txt (line 5)) (1.0.2)\n",
            "Requirement already satisfied: tqdm in /usr/local/lib/python3.7/dist-packages (from -r requirements.txt (line 6)) (4.64.0)\n",
            "Requirement already satisfied: torchvision>=0.10.0 in /usr/local/lib/python3.7/dist-packages (from -r requirements.txt (line 7)) (0.12.0+cu113)\n",
            "Requirement already satisfied: Pillow in /usr/local/lib/python3.7/dist-packages (from -r requirements.txt (line 8)) (7.1.2)\n",
            "Collecting thop\n",
            "  Downloading thop-0.1.0.post2207010342-py3-none-any.whl (15 kB)\n",
            "Collecting ninja\n",
            "  Downloading ninja-1.10.2.3-py2.py3-none-manylinux_2_5_x86_64.manylinux1_x86_64.whl (108 kB)\n",
            "\u001b[K     |████████████████████████████████| 108 kB 8.5 MB/s \n",
            "\u001b[?25hRequirement already satisfied: tabulate in /usr/local/lib/python3.7/dist-packages (from -r requirements.txt (line 11)) (0.8.9)\n",
            "Requirement already satisfied: tensorboard in /usr/local/lib/python3.7/dist-packages (from -r requirements.txt (line 12)) (2.8.0)\n",
            "Collecting lap\n",
            "  Downloading lap-0.4.0.tar.gz (1.5 MB)\n",
            "\u001b[K     |████████████████████████████████| 1.5 MB 51.0 MB/s \n",
            "\u001b[?25hCollecting motmetrics\n",
            "  Downloading motmetrics-1.2.5-py3-none-any.whl (161 kB)\n",
            "\u001b[K     |████████████████████████████████| 161 kB 78.3 MB/s \n",
            "\u001b[?25hCollecting filterpy\n",
            "  Downloading filterpy-1.4.5.zip (177 kB)\n",
            "\u001b[K     |████████████████████████████████| 177 kB 76.2 MB/s \n",
            "\u001b[?25hRequirement already satisfied: h5py in /usr/local/lib/python3.7/dist-packages (from -r requirements.txt (line 16)) (3.1.0)\n",
            "Requirement already satisfied: matplotlib in /usr/local/lib/python3.7/dist-packages (from -r requirements.txt (line 17)) (3.2.2)\n",
            "Requirement already satisfied: scipy in /usr/local/lib/python3.7/dist-packages (from -r requirements.txt (line 18)) (1.4.1)\n",
            "Requirement already satisfied: prettytable in /usr/local/lib/python3.7/dist-packages (from -r requirements.txt (line 19)) (3.3.0)\n",
            "Requirement already satisfied: easydict in /usr/local/lib/python3.7/dist-packages (from -r requirements.txt (line 20)) (1.9)\n",
            "Requirement already satisfied: pyyaml in /usr/local/lib/python3.7/dist-packages (from -r requirements.txt (line 22)) (3.13)\n",
            "Collecting yacs\n",
            "  Downloading yacs-0.1.8-py3-none-any.whl (14 kB)\n",
            "Requirement already satisfied: termcolor in /usr/local/lib/python3.7/dist-packages (from -r requirements.txt (line 24)) (1.1.0)\n",
            "Requirement already satisfied: gdown in /usr/local/lib/python3.7/dist-packages (from -r requirements.txt (line 25)) (4.4.0)\n",
            "Collecting onnx==1.8.1\n",
            "  Downloading onnx-1.8.1-cp37-cp37m-manylinux2010_x86_64.whl (14.5 MB)\n",
            "\u001b[K     |████████████████████████████████| 14.5 MB 31.1 MB/s \n",
            "\u001b[?25hCollecting onnxruntime==1.8.0\n",
            "  Downloading onnxruntime-1.8.0-cp37-cp37m-manylinux_2_17_x86_64.manylinux2014_x86_64.whl (4.5 MB)\n",
            "\u001b[K     |████████████████████████████████| 4.5 MB 61.0 MB/s \n",
            "\u001b[?25hCollecting onnx-simplifier==0.3.5\n",
            "  Downloading onnx-simplifier-0.3.5.tar.gz (13 kB)\n",
            "Requirement already satisfied: typing-extensions>=3.6.2.1 in /usr/local/lib/python3.7/dist-packages (from onnx==1.8.1->-r requirements.txt (line 26)) (4.1.1)\n",
            "Requirement already satisfied: six in /usr/local/lib/python3.7/dist-packages (from onnx==1.8.1->-r requirements.txt (line 26)) (1.15.0)\n",
            "Requirement already satisfied: protobuf in /usr/local/lib/python3.7/dist-packages (from onnx==1.8.1->-r requirements.txt (line 26)) (3.17.3)\n",
            "Requirement already satisfied: flatbuffers in /usr/local/lib/python3.7/dist-packages (from onnxruntime==1.8.0->-r requirements.txt (line 27)) (2.0)\n",
            "Collecting onnxoptimizer>=0.2.5\n",
            "  Downloading onnxoptimizer-0.2.7-cp37-cp37m-manylinux2014_x86_64.whl (498 kB)\n",
            "\u001b[K     |████████████████████████████████| 498 kB 81.4 MB/s \n",
            "\u001b[?25hRequirement already satisfied: requests in /usr/local/lib/python3.7/dist-packages (from torchvision>=0.10.0->-r requirements.txt (line 7)) (2.23.0)\n",
            "Requirement already satisfied: torch==1.11.0 in /usr/local/lib/python3.7/dist-packages (from torchvision>=0.10.0->-r requirements.txt (line 7)) (1.11.0+cu113)\n",
            "Requirement already satisfied: imageio>=2.3.0 in /usr/local/lib/python3.7/dist-packages (from scikit-image->-r requirements.txt (line 4)) (2.4.1)\n",
            "Requirement already satisfied: PyWavelets>=1.1.1 in /usr/local/lib/python3.7/dist-packages (from scikit-image->-r requirements.txt (line 4)) (1.3.0)\n",
            "Requirement already satisfied: tifffile>=2019.7.26 in /usr/local/lib/python3.7/dist-packages (from scikit-image->-r requirements.txt (line 4)) (2021.11.2)\n",
            "Requirement already satisfied: networkx>=2.0 in /usr/local/lib/python3.7/dist-packages (from scikit-image->-r requirements.txt (line 4)) (2.6.3)\n",
            "Requirement already satisfied: python-dateutil>=2.1 in /usr/local/lib/python3.7/dist-packages (from matplotlib->-r requirements.txt (line 17)) (2.8.2)\n",
            "Requirement already satisfied: kiwisolver>=1.0.1 in /usr/local/lib/python3.7/dist-packages (from matplotlib->-r requirements.txt (line 17)) (1.4.3)\n",
            "Requirement already satisfied: cycler>=0.10 in /usr/local/lib/python3.7/dist-packages (from matplotlib->-r requirements.txt (line 17)) (0.11.0)\n",
            "Requirement already satisfied: pyparsing!=2.0.4,!=2.1.2,!=2.1.6,>=2.0.1 in /usr/local/lib/python3.7/dist-packages (from matplotlib->-r requirements.txt (line 17)) (3.0.9)\n",
            "Requirement already satisfied: joblib>=0.11 in /usr/local/lib/python3.7/dist-packages (from scikit-learn->-r requirements.txt (line 5)) (1.1.0)\n",
            "Requirement already satisfied: threadpoolctl>=2.0.0 in /usr/local/lib/python3.7/dist-packages (from scikit-learn->-r requirements.txt (line 5)) (3.1.0)\n",
            "Requirement already satisfied: wheel>=0.26 in /usr/local/lib/python3.7/dist-packages (from tensorboard->-r requirements.txt (line 12)) (0.37.1)\n",
            "Requirement already satisfied: absl-py>=0.4 in /usr/local/lib/python3.7/dist-packages (from tensorboard->-r requirements.txt (line 12)) (1.1.0)\n",
            "Requirement already satisfied: markdown>=2.6.8 in /usr/local/lib/python3.7/dist-packages (from tensorboard->-r requirements.txt (line 12)) (3.3.7)\n",
            "Requirement already satisfied: tensorboard-plugin-wit>=1.6.0 in /usr/local/lib/python3.7/dist-packages (from tensorboard->-r requirements.txt (line 12)) (1.8.1)\n",
            "Requirement already satisfied: werkzeug>=0.11.15 in /usr/local/lib/python3.7/dist-packages (from tensorboard->-r requirements.txt (line 12)) (1.0.1)\n",
            "Requirement already satisfied: google-auth-oauthlib<0.5,>=0.4.1 in /usr/local/lib/python3.7/dist-packages (from tensorboard->-r requirements.txt (line 12)) (0.4.6)\n",
            "Requirement already satisfied: google-auth<3,>=1.6.3 in /usr/local/lib/python3.7/dist-packages (from tensorboard->-r requirements.txt (line 12)) (1.35.0)\n",
            "Requirement already satisfied: setuptools>=41.0.0 in /usr/local/lib/python3.7/dist-packages (from tensorboard->-r requirements.txt (line 12)) (57.4.0)\n",
            "Requirement already satisfied: tensorboard-data-server<0.7.0,>=0.6.0 in /usr/local/lib/python3.7/dist-packages (from tensorboard->-r requirements.txt (line 12)) (0.6.1)\n",
            "Requirement already satisfied: grpcio>=1.24.3 in /usr/local/lib/python3.7/dist-packages (from tensorboard->-r requirements.txt (line 12)) (1.46.3)\n",
            "Requirement already satisfied: pyasn1-modules>=0.2.1 in /usr/local/lib/python3.7/dist-packages (from google-auth<3,>=1.6.3->tensorboard->-r requirements.txt (line 12)) (0.2.8)\n",
            "Requirement already satisfied: cachetools<5.0,>=2.0.0 in /usr/local/lib/python3.7/dist-packages (from google-auth<3,>=1.6.3->tensorboard->-r requirements.txt (line 12)) (4.2.4)\n",
            "Requirement already satisfied: rsa<5,>=3.1.4 in /usr/local/lib/python3.7/dist-packages (from google-auth<3,>=1.6.3->tensorboard->-r requirements.txt (line 12)) (4.8)\n",
            "Requirement already satisfied: requests-oauthlib>=0.7.0 in /usr/local/lib/python3.7/dist-packages (from google-auth-oauthlib<0.5,>=0.4.1->tensorboard->-r requirements.txt (line 12)) (1.3.1)\n",
            "Requirement already satisfied: importlib-metadata>=4.4 in /usr/local/lib/python3.7/dist-packages (from markdown>=2.6.8->tensorboard->-r requirements.txt (line 12)) (4.11.4)\n",
            "Requirement already satisfied: zipp>=0.5 in /usr/local/lib/python3.7/dist-packages (from importlib-metadata>=4.4->markdown>=2.6.8->tensorboard->-r requirements.txt (line 12)) (3.8.0)\n",
            "Requirement already satisfied: pyasn1<0.5.0,>=0.4.6 in /usr/local/lib/python3.7/dist-packages (from pyasn1-modules>=0.2.1->google-auth<3,>=1.6.3->tensorboard->-r requirements.txt (line 12)) (0.4.8)\n",
            "Requirement already satisfied: idna<3,>=2.5 in /usr/local/lib/python3.7/dist-packages (from requests->torchvision>=0.10.0->-r requirements.txt (line 7)) (2.10)\n",
            "Requirement already satisfied: certifi>=2017.4.17 in /usr/local/lib/python3.7/dist-packages (from requests->torchvision>=0.10.0->-r requirements.txt (line 7)) (2022.6.15)\n",
            "Requirement already satisfied: urllib3!=1.25.0,!=1.25.1,<1.26,>=1.21.1 in /usr/local/lib/python3.7/dist-packages (from requests->torchvision>=0.10.0->-r requirements.txt (line 7)) (1.24.3)\n",
            "Requirement already satisfied: chardet<4,>=3.0.2 in /usr/local/lib/python3.7/dist-packages (from requests->torchvision>=0.10.0->-r requirements.txt (line 7)) (3.0.4)\n",
            "Requirement already satisfied: oauthlib>=3.0.0 in /usr/local/lib/python3.7/dist-packages (from requests-oauthlib>=0.7.0->google-auth-oauthlib<0.5,>=0.4.1->tensorboard->-r requirements.txt (line 12)) (3.2.0)\n",
            "Collecting xmltodict>=0.12.0\n",
            "  Downloading xmltodict-0.13.0-py2.py3-none-any.whl (10.0 kB)\n",
            "Requirement already satisfied: pandas>=0.23.1 in /usr/local/lib/python3.7/dist-packages (from motmetrics->-r requirements.txt (line 14)) (1.3.5)\n",
            "Requirement already satisfied: pytz>=2017.3 in /usr/local/lib/python3.7/dist-packages (from pandas>=0.23.1->motmetrics->-r requirements.txt (line 14)) (2022.1)\n",
            "Requirement already satisfied: cached-property in /usr/local/lib/python3.7/dist-packages (from h5py->-r requirements.txt (line 16)) (1.5.2)\n",
            "Requirement already satisfied: wcwidth in /usr/local/lib/python3.7/dist-packages (from prettytable->-r requirements.txt (line 19)) (0.2.5)\n",
            "Requirement already satisfied: beautifulsoup4 in /usr/local/lib/python3.7/dist-packages (from gdown->-r requirements.txt (line 25)) (4.6.3)\n",
            "Requirement already satisfied: filelock in /usr/local/lib/python3.7/dist-packages (from gdown->-r requirements.txt (line 25)) (3.7.1)\n",
            "Requirement already satisfied: PySocks!=1.5.7,>=1.5.6 in /usr/local/lib/python3.7/dist-packages (from requests->torchvision>=0.10.0->-r requirements.txt (line 7)) (1.7.1)\n",
            "Building wheels for collected packages: onnx-simplifier, lap, filterpy\n",
            "  Building wheel for onnx-simplifier (setup.py) ... \u001b[?25l\u001b[?25hdone\n",
            "  Created wheel for onnx-simplifier: filename=onnx_simplifier-0.3.5-py3-none-any.whl size=12878 sha256=77d331a0c0c6c108e46b4a860d76557ec81906dfda7ef07f9a257c1ee9365066\n",
            "  Stored in directory: /root/.cache/pip/wheels/8a/b4/1b/6acdd4eb854b215cd4aa1c18ca79399f9d34728edaff47ecce\n",
            "  Building wheel for lap (setup.py) ... \u001b[?25l\u001b[?25hdone\n",
            "  Created wheel for lap: filename=lap-0.4.0-cp37-cp37m-linux_x86_64.whl size=1590200 sha256=b72cb0c691acd25d0a98cfb0203ce724b7b1b4030f2b115549d7f4d5afad9345\n",
            "  Stored in directory: /root/.cache/pip/wheels/b1/0b/e3/ef9daf1b5547b56389e42c80c3100f1e6479bf5fd00fd9d6ba\n",
            "  Building wheel for filterpy (setup.py) ... \u001b[?25l\u001b[?25hdone\n",
            "  Created wheel for filterpy: filename=filterpy-1.4.5-py3-none-any.whl size=110474 sha256=f4af5e5ac0b789627e943544695d535f89f57566607264f60bd96bb7834dc61e\n",
            "  Stored in directory: /root/.cache/pip/wheels/ce/e0/ee/a2b3c5caab3418c1ccd8c4de573d4cbe13315d7e8b0a55fbc2\n",
            "Successfully built onnx-simplifier lap filterpy\n",
            "Installing collected packages: onnx, xmltodict, onnxruntime, onnxoptimizer, yacs, thop, onnx-simplifier, ninja, motmetrics, loguru, lap, filterpy\n",
            "Successfully installed filterpy-1.4.5 lap-0.4.0 loguru-0.6.0 motmetrics-1.2.5 ninja-1.10.2.3 onnx-1.8.1 onnx-simplifier-0.3.5 onnxoptimizer-0.2.7 onnxruntime-1.8.0 thop-0.1.0.post2207010342 xmltodict-0.13.0 yacs-0.1.8\n",
            "running develop\n",
            "running egg_info\n",
            "creating yolox.egg-info\n",
            "writing yolox.egg-info/PKG-INFO\n",
            "writing dependency_links to yolox.egg-info/dependency_links.txt\n",
            "writing top-level names to yolox.egg-info/top_level.txt\n",
            "writing manifest file 'yolox.egg-info/SOURCES.txt'\n",
            "package init file 'pretrained/__init__.py' not found (or not a regular file)\n",
            "package init file 'fast_reid/__init__.py' not found (or not a regular file)\n",
            "package init file 'tracker/__init__.py' not found (or not a regular file)\n",
            "package init file 'VideoCameraCorrection/__init__.py' not found (or not a regular file)\n",
            "package init file 'assets/__init__.py' not found (or not a regular file)\n",
            "package init file 'tools/__init__.py' not found (or not a regular file)\n",
            "package init file 'fast_reid/docker/__init__.py' not found (or not a regular file)\n",
            "package init file 'fast_reid/docs/__init__.py' not found (or not a regular file)\n",
            "package init file 'fast_reid/datasets/__init__.py' not found (or not a regular file)\n",
            "package init file 'fast_reid/demo/__init__.py' not found (or not a regular file)\n",
            "package init file 'fast_reid/projects/__init__.py' not found (or not a regular file)\n",
            "package init file 'fast_reid/tools/__init__.py' not found (or not a regular file)\n",
            "package init file 'fast_reid/configs/__init__.py' not found (or not a regular file)\n",
            "package init file 'fast_reid/docs/_static/__init__.py' not found (or not a regular file)\n",
            "package init file 'fast_reid/docs/modules/__init__.py' not found (or not a regular file)\n",
            "package init file 'fast_reid/docs/_static/css/__init__.py' not found (or not a regular file)\n",
            "package init file 'fast_reid/projects/FastClas/__init__.py' not found (or not a regular file)\n",
            "package init file 'fast_reid/projects/PartialReID/__init__.py' not found (or not a regular file)\n",
            "package init file 'fast_reid/projects/HAA/__init__.py' not found (or not a regular file)\n",
            "package init file 'fast_reid/projects/NAIC20/__init__.py' not found (or not a regular file)\n",
            "package init file 'fast_reid/projects/FastRetri/__init__.py' not found (or not a regular file)\n",
            "package init file 'fast_reid/projects/FastTune/__init__.py' not found (or not a regular file)\n",
            "package init file 'fast_reid/projects/DG-ReID/__init__.py' not found (or not a regular file)\n",
            "package init file 'fast_reid/projects/FastFace/__init__.py' not found (or not a regular file)\n",
            "package init file 'fast_reid/projects/CrossDomainReID/__init__.py' not found (or not a regular file)\n",
            "package init file 'fast_reid/projects/FastAttr/__init__.py' not found (or not a regular file)\n",
            "package init file 'fast_reid/projects/FastRT/__init__.py' not found (or not a regular file)\n",
            "package init file 'fast_reid/projects/FastDistill/__init__.py' not found (or not a regular file)\n",
            "package init file 'fast_reid/projects/FastClas/configs/__init__.py' not found (or not a regular file)\n",
            "package init file 'fast_reid/projects/PartialReID/configs/__init__.py' not found (or not a regular file)\n",
            "package init file 'fast_reid/projects/NAIC20/configs/__init__.py' not found (or not a regular file)\n",
            "package init file 'fast_reid/projects/FastRetri/configs/__init__.py' not found (or not a regular file)\n",
            "package init file 'fast_reid/projects/FastTune/configs/__init__.py' not found (or not a regular file)\n",
            "package init file 'fast_reid/projects/FastFace/configs/__init__.py' not found (or not a regular file)\n",
            "package init file 'fast_reid/projects/FastAttr/configs/__init__.py' not found (or not a regular file)\n",
            "package init file 'fast_reid/projects/FastRT/pybind_interface/__init__.py' not found (or not a regular file)\n",
            "package init file 'fast_reid/projects/FastRT/docker/__init__.py' not found (or not a regular file)\n",
            "package init file 'fast_reid/projects/FastRT/demo/__init__.py' not found (or not a regular file)\n",
            "package init file 'fast_reid/projects/FastRT/fastrt/__init__.py' not found (or not a regular file)\n",
            "package init file 'fast_reid/projects/FastRT/include/__init__.py' not found (or not a regular file)\n",
            "package init file 'fast_reid/projects/FastRT/third_party/__init__.py' not found (or not a regular file)\n",
            "package init file 'fast_reid/projects/FastRT/tools/__init__.py' not found (or not a regular file)\n",
            "package init file 'fast_reid/projects/FastRT/pybind_interface/docker/__init__.py' not found (or not a regular file)\n",
            "package init file 'fast_reid/projects/FastRT/pybind_interface/docker/trt7cu102_torch160/__init__.py' not found (or not a regular file)\n",
            "package init file 'fast_reid/projects/FastRT/pybind_interface/docker/trt7cu100/__init__.py' not found (or not a regular file)\n",
            "package init file 'fast_reid/projects/FastRT/docker/trt7cu102/__init__.py' not found (or not a regular file)\n",
            "package init file 'fast_reid/projects/FastRT/docker/trt7cu100/__init__.py' not found (or not a regular file)\n",
            "package init file 'fast_reid/projects/FastRT/fastrt/heads/__init__.py' not found (or not a regular file)\n",
            "package init file 'fast_reid/projects/FastRT/fastrt/layers/__init__.py' not found (or not a regular file)\n",
            "package init file 'fast_reid/projects/FastRT/fastrt/engine/__init__.py' not found (or not a regular file)\n",
            "package init file 'fast_reid/projects/FastRT/fastrt/backbones/__init__.py' not found (or not a regular file)\n",
            "package init file 'fast_reid/projects/FastRT/fastrt/common/__init__.py' not found (or not a regular file)\n",
            "package init file 'fast_reid/projects/FastRT/fastrt/factory/__init__.py' not found (or not a regular file)\n",
            "package init file 'fast_reid/projects/FastRT/fastrt/meta_arch/__init__.py' not found (or not a regular file)\n",
            "package init file 'fast_reid/projects/FastRT/include/fastrt/__init__.py' not found (or not a regular file)\n",
            "package init file 'fast_reid/projects/FastRT/third_party/cnpy/__init__.py' not found (or not a regular file)\n",
            "package init file 'fast_reid/projects/FastDistill/configs/__init__.py' not found (or not a regular file)\n",
            "package init file 'fast_reid/tools/deploy/__init__.py' not found (or not a regular file)\n",
            "package init file 'fast_reid/tools/deploy/test_data/__init__.py' not found (or not a regular file)\n",
            "package init file 'fast_reid/configs/Market1501/__init__.py' not found (or not a regular file)\n",
            "package init file 'fast_reid/configs/MOT17/__init__.py' not found (or not a regular file)\n",
            "package init file 'fast_reid/configs/MSMT17/__init__.py' not found (or not a regular file)\n",
            "package init file 'fast_reid/configs/VeRi/__init__.py' not found (or not a regular file)\n",
            "package init file 'fast_reid/configs/DukeMTMC/__init__.py' not found (or not a regular file)\n",
            "package init file 'fast_reid/configs/MOT20/__init__.py' not found (or not a regular file)\n",
            "package init file 'fast_reid/configs/VehicleID/__init__.py' not found (or not a regular file)\n",
            "package init file 'fast_reid/configs/VERIWild/__init__.py' not found (or not a regular file)\n",
            "package init file 'fast_reid/fastreid/modeling/backbones/regnet/regnety/__init__.py' not found (or not a regular file)\n",
            "package init file 'fast_reid/fastreid/modeling/backbones/regnet/regnetx/__init__.py' not found (or not a regular file)\n",
            "package init file 'fast_reid/fastreid/modeling/backbones/regnet/effnet/__init__.py' not found (or not a regular file)\n",
            "package init file 'tracker/tracking_utils/__init__.py' not found (or not a regular file)\n",
            "package init file 'tracker/GMC_files/__init__.py' not found (or not a regular file)\n",
            "package init file 'tracker/GMC_files/MOT17_ablation/__init__.py' not found (or not a regular file)\n",
            "package init file 'tracker/GMC_files/MOTChallenge/__init__.py' not found (or not a regular file)\n",
            "package init file 'VideoCameraCorrection/VideoCameraCorrection/__init__.py' not found (or not a regular file)\n",
            "package init file 'yolox/exps/__init__.py' not found (or not a regular file)\n",
            "package init file 'yolox/layers/csrc/__init__.py' not found (or not a regular file)\n",
            "package init file 'yolox/layers/csrc/cocoeval/__init__.py' not found (or not a regular file)\n",
            "package init file 'yolox/exps/example/__init__.py' not found (or not a regular file)\n",
            "package init file 'yolox/exps/default/__init__.py' not found (or not a regular file)\n",
            "package init file 'yolox/exps/example/mot/__init__.py' not found (or not a regular file)\n",
            "package init file 'tools/datasets/__init__.py' not found (or not a regular file)\n",
            "adding license file 'LICENSE'\n",
            "writing manifest file 'yolox.egg-info/SOURCES.txt'\n",
            "running build_ext\n",
            "building 'yolox._C' extension\n",
            "creating /content/BoT-SORT/build\n",
            "creating /content/BoT-SORT/build/temp.linux-x86_64-3.7\n",
            "creating /content/BoT-SORT/build/temp.linux-x86_64-3.7/content\n",
            "creating /content/BoT-SORT/build/temp.linux-x86_64-3.7/content/BoT-SORT\n",
            "creating /content/BoT-SORT/build/temp.linux-x86_64-3.7/content/BoT-SORT/yolox\n",
            "creating /content/BoT-SORT/build/temp.linux-x86_64-3.7/content/BoT-SORT/yolox/layers\n",
            "creating /content/BoT-SORT/build/temp.linux-x86_64-3.7/content/BoT-SORT/yolox/layers/csrc\n",
            "creating /content/BoT-SORT/build/temp.linux-x86_64-3.7/content/BoT-SORT/yolox/layers/csrc/cocoeval\n",
            "Emitting ninja build file /content/BoT-SORT/build/temp.linux-x86_64-3.7/build.ninja...\n",
            "Compiling objects...\n",
            "Allowing ninja to set a default number of workers... (overridable by setting the environment variable MAX_JOBS=N)\n",
            "[1/2] c++ -MMD -MF /content/BoT-SORT/build/temp.linux-x86_64-3.7/content/BoT-SORT/yolox/layers/csrc/cocoeval/cocoeval.o.d -pthread -Wno-unused-result -Wsign-compare -DNDEBUG -g -fwrapv -O2 -Wall -g -fstack-protector-strong -Wformat -Werror=format-security -g -fwrapv -O2 -g -fstack-protector-strong -Wformat -Werror=format-security -Wdate-time -D_FORTIFY_SOURCE=2 -fPIC -I/content/BoT-SORT/yolox/layers/csrc -I/usr/local/lib/python3.7/dist-packages/torch/include -I/usr/local/lib/python3.7/dist-packages/torch/include/torch/csrc/api/include -I/usr/local/lib/python3.7/dist-packages/torch/include/TH -I/usr/local/lib/python3.7/dist-packages/torch/include/THC -I/usr/include/python3.7m -c -c /content/BoT-SORT/yolox/layers/csrc/cocoeval/cocoeval.cpp -o /content/BoT-SORT/build/temp.linux-x86_64-3.7/content/BoT-SORT/yolox/layers/csrc/cocoeval/cocoeval.o -O3 -DTORCH_API_INCLUDE_EXTENSION_H '-DPYBIND11_COMPILER_TYPE=\"_gcc\"' '-DPYBIND11_STDLIB=\"_libstdcpp\"' '-DPYBIND11_BUILD_ABI=\"_cxxabi1011\"' -DTORCH_EXTENSION_NAME=_C -D_GLIBCXX_USE_CXX11_ABI=0 -std=c++14\n",
            "[2/2] c++ -MMD -MF /content/BoT-SORT/build/temp.linux-x86_64-3.7/content/BoT-SORT/yolox/layers/csrc/vision.o.d -pthread -Wno-unused-result -Wsign-compare -DNDEBUG -g -fwrapv -O2 -Wall -g -fstack-protector-strong -Wformat -Werror=format-security -g -fwrapv -O2 -g -fstack-protector-strong -Wformat -Werror=format-security -Wdate-time -D_FORTIFY_SOURCE=2 -fPIC -I/content/BoT-SORT/yolox/layers/csrc -I/usr/local/lib/python3.7/dist-packages/torch/include -I/usr/local/lib/python3.7/dist-packages/torch/include/torch/csrc/api/include -I/usr/local/lib/python3.7/dist-packages/torch/include/TH -I/usr/local/lib/python3.7/dist-packages/torch/include/THC -I/usr/include/python3.7m -c -c /content/BoT-SORT/yolox/layers/csrc/vision.cpp -o /content/BoT-SORT/build/temp.linux-x86_64-3.7/content/BoT-SORT/yolox/layers/csrc/vision.o -O3 -DTORCH_API_INCLUDE_EXTENSION_H '-DPYBIND11_COMPILER_TYPE=\"_gcc\"' '-DPYBIND11_STDLIB=\"_libstdcpp\"' '-DPYBIND11_BUILD_ABI=\"_cxxabi1011\"' -DTORCH_EXTENSION_NAME=_C -D_GLIBCXX_USE_CXX11_ABI=0 -std=c++14\n",
            "creating build/lib.linux-x86_64-3.7\n",
            "creating build/lib.linux-x86_64-3.7/yolox\n",
            "x86_64-linux-gnu-g++ -pthread -shared -Wl,-O1 -Wl,-Bsymbolic-functions -Wl,-Bsymbolic-functions -g -fwrapv -O2 -Wl,-Bsymbolic-functions -g -fwrapv -O2 -g -fstack-protector-strong -Wformat -Werror=format-security -Wdate-time -D_FORTIFY_SOURCE=2 /content/BoT-SORT/build/temp.linux-x86_64-3.7/content/BoT-SORT/yolox/layers/csrc/vision.o /content/BoT-SORT/build/temp.linux-x86_64-3.7/content/BoT-SORT/yolox/layers/csrc/cocoeval/cocoeval.o -L/usr/local/lib/python3.7/dist-packages/torch/lib -lc10 -ltorch -ltorch_cpu -ltorch_python -o build/lib.linux-x86_64-3.7/yolox/_C.cpython-37m-x86_64-linux-gnu.so\n",
            "copying build/lib.linux-x86_64-3.7/yolox/_C.cpython-37m-x86_64-linux-gnu.so -> yolox\n",
            "Creating /usr/local/lib/python3.7/dist-packages/yolox.egg-link (link to .)\n",
            "Adding yolox 0.1.0 to easy-install.pth file\n",
            "\n",
            "Installed /content/BoT-SORT\n",
            "Processing dependencies for yolox==0.1.0\n",
            "Finished processing dependencies for yolox==0.1.0\n"
          ]
        }
      ]
    },
    {
      "cell_type": "code",
      "source": [
        "!pip3 install cython; \n",
        "!pip3 install 'git+https://github.com/cocodataset/cocoapi.git#subdirectory=PythonAPI'"
      ],
      "metadata": {
        "id": "DFVvlDzMVtU9",
        "colab": {
          "base_uri": "https://localhost:8080/"
        },
        "outputId": "52fafb06-4821-4d95-ddf7-2356eea93f50"
      },
      "execution_count": 5,
      "outputs": [
        {
          "output_type": "stream",
          "name": "stdout",
          "text": [
            "Looking in indexes: https://pypi.org/simple, https://us-python.pkg.dev/colab-wheels/public/simple/\n",
            "Requirement already satisfied: cython in /usr/local/lib/python3.7/dist-packages (0.29.30)\n",
            "Looking in indexes: https://pypi.org/simple, https://us-python.pkg.dev/colab-wheels/public/simple/\n",
            "Collecting git+https://github.com/cocodataset/cocoapi.git#subdirectory=PythonAPI\n",
            "  Cloning https://github.com/cocodataset/cocoapi.git to /tmp/pip-req-build-r0d8iigs\n",
            "  Running command git clone -q https://github.com/cocodataset/cocoapi.git /tmp/pip-req-build-r0d8iigs\n",
            "Requirement already satisfied: setuptools>=18.0 in /usr/local/lib/python3.7/dist-packages (from pycocotools==2.0) (57.4.0)\n",
            "Requirement already satisfied: cython>=0.27.3 in /usr/local/lib/python3.7/dist-packages (from pycocotools==2.0) (0.29.30)\n",
            "Requirement already satisfied: matplotlib>=2.1.0 in /usr/local/lib/python3.7/dist-packages (from pycocotools==2.0) (3.2.2)\n",
            "Requirement already satisfied: cycler>=0.10 in /usr/local/lib/python3.7/dist-packages (from matplotlib>=2.1.0->pycocotools==2.0) (0.11.0)\n",
            "Requirement already satisfied: python-dateutil>=2.1 in /usr/local/lib/python3.7/dist-packages (from matplotlib>=2.1.0->pycocotools==2.0) (2.8.2)\n",
            "Requirement already satisfied: pyparsing!=2.0.4,!=2.1.2,!=2.1.6,>=2.0.1 in /usr/local/lib/python3.7/dist-packages (from matplotlib>=2.1.0->pycocotools==2.0) (3.0.9)\n",
            "Requirement already satisfied: numpy>=1.11 in /usr/local/lib/python3.7/dist-packages (from matplotlib>=2.1.0->pycocotools==2.0) (1.21.6)\n",
            "Requirement already satisfied: kiwisolver>=1.0.1 in /usr/local/lib/python3.7/dist-packages (from matplotlib>=2.1.0->pycocotools==2.0) (1.4.3)\n",
            "Requirement already satisfied: typing-extensions in /usr/local/lib/python3.7/dist-packages (from kiwisolver>=1.0.1->matplotlib>=2.1.0->pycocotools==2.0) (4.1.1)\n",
            "Requirement already satisfied: six>=1.5 in /usr/local/lib/python3.7/dist-packages (from python-dateutil>=2.1->matplotlib>=2.1.0->pycocotools==2.0) (1.15.0)\n",
            "Building wheels for collected packages: pycocotools\n",
            "  Building wheel for pycocotools (setup.py) ... \u001b[?25l\u001b[?25hdone\n",
            "  Created wheel for pycocotools: filename=pycocotools-2.0-cp37-cp37m-linux_x86_64.whl size=265174 sha256=6b99f776f2cefb1bf686e63c1a21897a4d8399ac5767a63444770a617654974a\n",
            "  Stored in directory: /tmp/pip-ephem-wheel-cache-rz1ky1ot/wheels/e2/6b/1d/344ac773c7495ea0b85eb228bc66daec7400a143a92d36b7b1\n",
            "Successfully built pycocotools\n",
            "Installing collected packages: pycocotools\n",
            "  Attempting uninstall: pycocotools\n",
            "    Found existing installation: pycocotools 2.0.4\n",
            "    Uninstalling pycocotools-2.0.4:\n",
            "      Successfully uninstalled pycocotools-2.0.4\n",
            "Successfully installed pycocotools-2.0\n"
          ]
        }
      ]
    },
    {
      "cell_type": "code",
      "source": [
        "# Cython-bbox\n",
        "!pip3 install cython_bbox\n",
        "\n",
        "# faiss gpu\n",
        "!pip3 install faiss-gpu\n",
        "#cpu\n",
        "#!pip3 install faiss-cpu"
      ],
      "metadata": {
        "id": "jP6QELC9V2jt",
        "colab": {
          "base_uri": "https://localhost:8080/"
        },
        "outputId": "ca7f1d2b-8dc9-4471-b2c4-f13f6a1f97d7"
      },
      "execution_count": 6,
      "outputs": [
        {
          "output_type": "stream",
          "name": "stdout",
          "text": [
            "Looking in indexes: https://pypi.org/simple, https://us-python.pkg.dev/colab-wheels/public/simple/\n",
            "Collecting cython_bbox\n",
            "  Downloading cython_bbox-0.1.3.tar.gz (41 kB)\n",
            "\u001b[K     |████████████████████████████████| 41 kB 251 kB/s \n",
            "\u001b[?25hBuilding wheels for collected packages: cython-bbox\n",
            "  Building wheel for cython-bbox (setup.py) ... \u001b[?25l\u001b[?25hdone\n",
            "  Created wheel for cython-bbox: filename=cython_bbox-0.1.3-cp37-cp37m-linux_x86_64.whl size=58457 sha256=d22bb1a0c12e3930ae0032fb51e0df3afb3e943466c4e95248b393bdb1b4b0fe\n",
            "  Stored in directory: /root/.cache/pip/wheels/51/82/21/5def8bc98ae4ea436d7f0decb7194d20d7e3e6d0578a4129d7\n",
            "Successfully built cython-bbox\n",
            "Installing collected packages: cython-bbox\n",
            "Successfully installed cython-bbox-0.1.3\n",
            "Looking in indexes: https://pypi.org/simple, https://us-python.pkg.dev/colab-wheels/public/simple/\n",
            "Collecting faiss-gpu\n",
            "  Downloading faiss_gpu-1.7.2-cp37-cp37m-manylinux_2_17_x86_64.manylinux2014_x86_64.whl (85.5 MB)\n",
            "\u001b[K     |████████████████████████████████| 85.5 MB 1.1 MB/s \n",
            "\u001b[?25hInstalling collected packages: faiss-gpu\n",
            "Successfully installed faiss-gpu-1.7.2\n"
          ]
        }
      ]
    },
    {
      "cell_type": "markdown",
      "source": [
        "### Downloading the dataset MOT17\n",
        "\n",
        "The dataset set is 5.5 GB all data is lost when google colab is terminated.\n",
        "\n",
        "Make sure to [mount Google drive](#scrollTo=jjYzsqudSScm) to keep data.\n",
        "```\n",
        "#  Example directory to store on Google drive \n",
        "!wget -P /content/gdrive/MyDrive/Example https://motchallenge.net/data/MOT17.zip\n",
        "```\n",
        "\n",
        "\n"
      ],
      "metadata": {
        "id": "CZmzP1tRWa-c"
      }
    },
    {
      "cell_type": "code",
      "source": [
        "#<BoT-SORT_dir>\n",
        "%pwd"
      ],
      "metadata": {
        "colab": {
          "base_uri": "https://localhost:8080/",
          "height": 35
        },
        "id": "kLYDofrQajIF",
        "outputId": "513ecd25-016d-4bc5-fd33-a384706c3709"
      },
      "execution_count": null,
      "outputs": [
        {
          "output_type": "execute_result",
          "data": {
            "text/plain": [
              "'/content/BoT-SORT'"
            ],
            "application/vnd.google.colaboratory.intrinsic+json": {
              "type": "string"
            }
          },
          "metadata": {},
          "execution_count": 18
        }
      ]
    },
    {
      "cell_type": "code",
      "source": [
        "# Download MOT17 and MOT20 from the official website.\n",
        "!wget -P /content/gdrive/MyDrive/datasets https://motchallenge.net/data/MOT17.zip"
      ],
      "metadata": {
        "id": "LPvLN7iuWHce"
      },
      "execution_count": null,
      "outputs": []
    },
    {
      "cell_type": "code",
      "source": [
        "#unzip file solution: https://stackoverflow.com/a/3451150/11464527\n",
        "import zipfile\n",
        "path_to_zip_file = './Download/MOT17.zip'\n",
        "directory_to_extract_to = './fast_reid/datasets'\n",
        "with zipfile.ZipFile(path_to_zip_file, 'r') as zip_ref:\n",
        "    zip_ref.extractall(directory_to_extract_to)"
      ],
      "metadata": {
        "id": "pg7BD9K0Z9lN"
      },
      "execution_count": null,
      "outputs": []
    },
    {
      "cell_type": "code",
      "source": [
        "#copy dir: Source Destination\n",
        "!cp -r /content/gdrive/MyDrive/Colab/BoT-SORT-data/MOT17 /content/gdrive/MyDrive/gcolab/BoT-SORT/fast_reid/datasets"
      ],
      "metadata": {
        "id": "hVR2L4nmZ7D1"
      },
      "execution_count": null,
      "outputs": []
    },
    {
      "cell_type": "code",
      "source": [
        "#rsync --info=progress2 SOURCE DEST #shows progress solution from https://unix.stackexchange.com/q/68582/455321\n",
        "#This process can take +1hour very slow\n",
        "!rsync -r --info=progress2 /content/gdrive/MyDrive/Colab/BoT-SORT-data/MOT17 ./fast_reid/datasets"
      ],
      "metadata": {
        "id": "1UyQ2etVcHj2"
      },
      "execution_count": null,
      "outputs": []
    },
    {
      "cell_type": "markdown",
      "source": [
        "### Data Preparation\n",
        "For training the ReID, detection patches must be generated as follows:"
      ],
      "metadata": {
        "id": "K3JQ3ciZe2jF"
      }
    },
    {
      "cell_type": "code",
      "source": [
        "# For MOT17 \n",
        "!python3 fast_reid/datasets/generate_mot_patches.py --data_path /content/gdrive/MyDrive/Colab/BoT-SORT-data/ --mot 17"
      ],
      "metadata": {
        "id": "U7k9rgapepps",
        "colab": {
          "base_uri": "https://localhost:8080/"
        },
        "outputId": "ed869225-09fb-42b7-bce8-54c721da5256"
      },
      "execution_count": 7,
      "outputs": [
        {
          "output_type": "stream",
          "name": "stdout",
          "text": [
            "MOT17-02-DPM\n",
            "0\n",
            "MOT17-02-FRCNN\n",
            "83\n",
            "MOT17-02-SDP\n",
            "166\n",
            "MOT17-04-DPM\n",
            "249\n",
            "MOT17-04-FRCNN\n",
            "390\n",
            "MOT17-04-SDP\n",
            "531\n",
            "MOT17-05-DPM\n",
            "672\n",
            "MOT17-05-FRCNN\n",
            "828\n",
            "MOT17-05-SDP\n",
            "984\n",
            "MOT17-09-DPM\n",
            "1140\n",
            "MOT17-09-FRCNN\n",
            "1204\n",
            "MOT17-09-SDP\n",
            "1268\n",
            "MOT17-10-DPM\n",
            "1332\n",
            "MOT17-10-FRCNN\n",
            "1405\n",
            "MOT17-10-SDP\n",
            "1478\n",
            "MOT17-11-DPM\n",
            "1551\n",
            "MOT17-11-FRCNN\n",
            "1641\n",
            "MOT17-11-SDP\n",
            "1731\n",
            "MOT17-13-DPM\n",
            "1821\n",
            "MOT17-13-FRCNN\n",
            "2009\n",
            "MOT17-13-SDP\n",
            "2197\n"
          ]
        }
      ]
    },
    {
      "cell_type": "code",
      "source": [
        "!export FASTREID_DATASETS=/content/gdrive/MyDrive/Colab/BoT-SORT-data/"
      ],
      "metadata": {
        "id": "gRaub7-di2S5"
      },
      "execution_count": 8,
      "outputs": []
    },
    {
      "cell_type": "markdown",
      "source": [
        "### Training\n",
        "\n",
        "Make sure you are in the BoT-SORT main directory `<BoT-SORT_dir>`."
      ],
      "metadata": {
        "id": "3G_yPXpUfGpm"
      }
    },
    {
      "cell_type": "code",
      "source": [
        "%pwd"
      ],
      "metadata": {
        "colab": {
          "base_uri": "https://localhost:8080/",
          "height": 35
        },
        "id": "q7V7uS3dwejv",
        "outputId": "4c30dfbc-06de-49c5-aac3-ed82a4565354"
      },
      "execution_count": 9,
      "outputs": [
        {
          "output_type": "execute_result",
          "data": {
            "text/plain": [
              "'/content/BoT-SORT'"
            ],
            "application/vnd.google.colaboratory.intrinsic+json": {
              "type": "string"
            }
          },
          "metadata": {},
          "execution_count": 9
        }
      ]
    },
    {
      "cell_type": "code",
      "source": [
        "# For training MOT17 \n",
        "!python3 fast_reid/tools/train_net.py --config-file ./fast_reid/configs/MOT17/sbs_S50.yml MODEL.DEVICE \"cuda:0\""
      ],
      "metadata": {
        "id": "KPTLfeYwfHjj",
        "colab": {
          "base_uri": "https://localhost:8080/"
        },
        "outputId": "14952294-ac30-445b-c06e-3b17df166856"
      },
      "execution_count": 10,
      "outputs": [
        {
          "output_type": "stream",
          "name": "stdout",
          "text": [
            "Command Line Args: Namespace(config_file='./fast_reid/configs/MOT17/sbs_S50.yml', dist_url='tcp://127.0.0.1:49152', eval_only=False, machine_rank=0, num_gpus=1, num_machines=1, opts=['MODEL.DEVICE', 'cuda:0'], resume=False)\n",
            "\u001b[32m[07/08 15:38:51 fastreid]: \u001b[0mRank of current process: 0. World size: 1\n",
            "\u001b[32m[07/08 15:38:52 fastreid]: \u001b[0mEnvironment info:\n",
            "----------------------  ----------------------------------------------------------------\n",
            "sys.platform            linux\n",
            "Python                  3.7.13 (default, Apr 24 2022, 01:04:09) [GCC 7.5.0]\n",
            "numpy                   1.21.6\n",
            "fastreid                failed to import\n",
            "FASTREID_ENV_MODULE     <not set>\n",
            "PyTorch                 1.11.0+cu113 @/usr/local/lib/python3.7/dist-packages/torch\n",
            "PyTorch debug build     False\n",
            "GPU available           True\n",
            "GPU 0                   Tesla P100-PCIE-16GB\n",
            "CUDA_HOME               /usr/local/cuda\n",
            "Pillow                  7.1.2\n",
            "torchvision             0.12.0+cu113 @/usr/local/lib/python3.7/dist-packages/torchvision\n",
            "torchvision arch flags  sm_35, sm_50, sm_60, sm_70, sm_75, sm_80, sm_86\n",
            "cv2                     4.1.2\n",
            "----------------------  ----------------------------------------------------------------\n",
            "PyTorch built with:\n",
            "  - GCC 7.3\n",
            "  - C++ Version: 201402\n",
            "  - Intel(R) Math Kernel Library Version 2020.0.0 Product Build 20191122 for Intel(R) 64 architecture applications\n",
            "  - Intel(R) MKL-DNN v2.5.2 (Git Hash a9302535553c73243c632ad3c4c80beec3d19a1e)\n",
            "  - OpenMP 201511 (a.k.a. OpenMP 4.5)\n",
            "  - LAPACK is enabled (usually provided by MKL)\n",
            "  - NNPACK is enabled\n",
            "  - CPU capability usage: AVX2\n",
            "  - CUDA Runtime 11.3\n",
            "  - NVCC architecture flags: -gencode;arch=compute_37,code=sm_37;-gencode;arch=compute_50,code=sm_50;-gencode;arch=compute_60,code=sm_60;-gencode;arch=compute_70,code=sm_70;-gencode;arch=compute_75,code=sm_75;-gencode;arch=compute_80,code=sm_80;-gencode;arch=compute_86,code=sm_86\n",
            "  - CuDNN 8.2\n",
            "  - Magma 2.5.2\n",
            "  - Build settings: BLAS_INFO=mkl, BUILD_TYPE=Release, CUDA_VERSION=11.3, CUDNN_VERSION=8.2.0, CXX_COMPILER=/opt/rh/devtoolset-7/root/usr/bin/c++, CXX_FLAGS= -Wno-deprecated -fvisibility-inlines-hidden -DUSE_PTHREADPOOL -fopenmp -DNDEBUG -DUSE_KINETO -DUSE_FBGEMM -DUSE_QNNPACK -DUSE_PYTORCH_QNNPACK -DUSE_XNNPACK -DSYMBOLICATE_MOBILE_DEBUG_HANDLE -DEDGE_PROFILER_USE_KINETO -O2 -fPIC -Wno-narrowing -Wall -Wextra -Werror=return-type -Wno-missing-field-initializers -Wno-type-limits -Wno-array-bounds -Wno-unknown-pragmas -Wno-sign-compare -Wno-unused-parameter -Wno-unused-function -Wno-unused-result -Wno-unused-local-typedefs -Wno-strict-overflow -Wno-strict-aliasing -Wno-error=deprecated-declarations -Wno-stringop-overflow -Wno-psabi -Wno-error=pedantic -Wno-error=redundant-decls -Wno-error=old-style-cast -fdiagnostics-color=always -faligned-new -Wno-unused-but-set-variable -Wno-maybe-uninitialized -fno-math-errno -fno-trapping-math -Werror=format -Wno-stringop-overflow, LAPACK_INFO=mkl, PERF_WITH_AVX=1, PERF_WITH_AVX2=1, PERF_WITH_AVX512=1, TORCH_VERSION=1.11.0, USE_CUDA=ON, USE_CUDNN=ON, USE_EXCEPTION_PTR=1, USE_GFLAGS=OFF, USE_GLOG=OFF, USE_MKL=ON, USE_MKLDNN=OFF, USE_MPI=OFF, USE_NCCL=ON, USE_NNPACK=ON, USE_OPENMP=ON, USE_ROCM=OFF, \n",
            "\n",
            "\u001b[32m[07/08 15:38:52 fastreid]: \u001b[0mCommand line arguments: Namespace(config_file='./fast_reid/configs/MOT17/sbs_S50.yml', dist_url='tcp://127.0.0.1:49152', eval_only=False, machine_rank=0, num_gpus=1, num_machines=1, opts=['MODEL.DEVICE', 'cuda:0'], resume=False)\n",
            "\u001b[32m[07/08 15:38:52 fastreid]: \u001b[0mContents of args.config_file=./fast_reid/configs/MOT17/sbs_S50.yml:\n",
            "_BASE_: ../Base-SBS.yml\n",
            "\n",
            "MODEL:\n",
            "  BACKBONE:\n",
            "    NAME: build_resnest_backbone\n",
            "\n",
            "DATASETS:\n",
            "  NAMES: (\"MOT17\",)\n",
            "  TESTS: (\"MOT17\",)\n",
            "\n",
            "OUTPUT_DIR: logs/MOT17/sbs_S50\n",
            "\n",
            "\u001b[32m[07/08 15:38:52 fastreid]: \u001b[0mRunning with full config:\n",
            "CUDNN_BENCHMARK: False\n",
            "DATALOADER:\n",
            "  NUM_INSTANCE: 16\n",
            "  NUM_WORKERS: 8\n",
            "  SAMPLER_TRAIN: NaiveIdentitySampler\n",
            "  SET_WEIGHT: []\n",
            "DATASETS:\n",
            "  COMBINEALL: False\n",
            "  NAMES: ('MOT17',)\n",
            "  TESTS: ('MOT17',)\n",
            "INPUT:\n",
            "  AFFINE:\n",
            "    ENABLED: False\n",
            "  AUGMIX:\n",
            "    ENABLED: False\n",
            "    PROB: 0.0\n",
            "  AUTOAUG:\n",
            "    ENABLED: True\n",
            "    PROB: 0.1\n",
            "  CJ:\n",
            "    BRIGHTNESS: 0.15\n",
            "    CONTRAST: 0.15\n",
            "    ENABLED: False\n",
            "    HUE: 0.1\n",
            "    PROB: 0.5\n",
            "    SATURATION: 0.1\n",
            "  CROP:\n",
            "    ENABLED: False\n",
            "    RATIO: [0.75, 1.3333333333333333]\n",
            "    SCALE: [0.16, 1]\n",
            "    SIZE: [224, 224]\n",
            "  FLIP:\n",
            "    ENABLED: True\n",
            "    PROB: 0.5\n",
            "  PADDING:\n",
            "    ENABLED: True\n",
            "    MODE: constant\n",
            "    SIZE: 10\n",
            "  REA:\n",
            "    ENABLED: True\n",
            "    PROB: 0.5\n",
            "    VALUE: [123.675, 116.28, 103.53]\n",
            "  RPT:\n",
            "    ENABLED: False\n",
            "    PROB: 0.5\n",
            "  SIZE_TEST: [384, 128]\n",
            "  SIZE_TRAIN: [384, 128]\n",
            "KD:\n",
            "  EMA:\n",
            "    ENABLED: False\n",
            "    MOMENTUM: 0.999\n",
            "  MODEL_CONFIG: []\n",
            "  MODEL_WEIGHTS: []\n",
            "MODEL:\n",
            "  BACKBONE:\n",
            "    ATT_DROP_RATE: 0.0\n",
            "    DEPTH: 50x\n",
            "    DROP_PATH_RATIO: 0.1\n",
            "    DROP_RATIO: 0.0\n",
            "    FEAT_DIM: 2048\n",
            "    LAST_STRIDE: 1\n",
            "    NAME: build_resnest_backbone\n",
            "    NORM: BN\n",
            "    PRETRAIN: True\n",
            "    PRETRAIN_PATH: \n",
            "    SIE_COE: 3.0\n",
            "    STRIDE_SIZE: (16, 16)\n",
            "    WITH_IBN: False\n",
            "    WITH_NL: True\n",
            "    WITH_SE: False\n",
            "  DEVICE: cuda:0\n",
            "  FREEZE_LAYERS: ['backbone']\n",
            "  HEADS:\n",
            "    CLS_LAYER: CircleSoftmax\n",
            "    EMBEDDING_DIM: 0\n",
            "    MARGIN: 0.35\n",
            "    NAME: EmbeddingHead\n",
            "    NECK_FEAT: after\n",
            "    NORM: BN\n",
            "    NUM_CLASSES: 0\n",
            "    POOL_LAYER: GeneralizedMeanPoolingP\n",
            "    SCALE: 64\n",
            "    WITH_BNNECK: True\n",
            "  LOSSES:\n",
            "    CE:\n",
            "      ALPHA: 0.2\n",
            "      EPSILON: 0.1\n",
            "      SCALE: 1.0\n",
            "    CIRCLE:\n",
            "      GAMMA: 128\n",
            "      MARGIN: 0.25\n",
            "      SCALE: 1.0\n",
            "    COSFACE:\n",
            "      GAMMA: 128\n",
            "      MARGIN: 0.25\n",
            "      SCALE: 1.0\n",
            "    FL:\n",
            "      ALPHA: 0.25\n",
            "      GAMMA: 2\n",
            "      SCALE: 1.0\n",
            "    NAME: ('CrossEntropyLoss', 'TripletLoss')\n",
            "    TRI:\n",
            "      HARD_MINING: True\n",
            "      MARGIN: 0.0\n",
            "      NORM_FEAT: False\n",
            "      SCALE: 1.0\n",
            "  META_ARCHITECTURE: Baseline\n",
            "  PIXEL_MEAN: [123.675, 116.28, 103.53]\n",
            "  PIXEL_STD: [58.395, 57.120000000000005, 57.375]\n",
            "  QUEUE_SIZE: 8192\n",
            "  WEIGHTS: \n",
            "OUTPUT_DIR: logs/MOT17/sbs_S50\n",
            "SOLVER:\n",
            "  AMP:\n",
            "    ENABLED: True\n",
            "  BASE_LR: 0.00035\n",
            "  BIAS_LR_FACTOR: 1.0\n",
            "  CHECKPOINT_PERIOD: 1\n",
            "  CLIP_GRADIENTS:\n",
            "    CLIP_TYPE: norm\n",
            "    CLIP_VALUE: 5.0\n",
            "    ENABLED: False\n",
            "    NORM_TYPE: 2.0\n",
            "  DELAY_EPOCHS: 30\n",
            "  ETA_MIN_LR: 7e-07\n",
            "  FREEZE_ITERS: 1000\n",
            "  GAMMA: 0.1\n",
            "  HEADS_LR_FACTOR: 1.0\n",
            "  IMS_PER_BATCH: 64\n",
            "  MAX_EPOCH: 60\n",
            "  MOMENTUM: 0.9\n",
            "  NESTEROV: False\n",
            "  OPT: Adam\n",
            "  SCHED: CosineAnnealingLR\n",
            "  STEPS: [40, 90]\n",
            "  WARMUP_FACTOR: 0.1\n",
            "  WARMUP_ITERS: 2000\n",
            "  WARMUP_METHOD: linear\n",
            "  WEIGHT_DECAY: 0.0005\n",
            "  WEIGHT_DECAY_BIAS: 0.0005\n",
            "  WEIGHT_DECAY_NORM: 0.0005\n",
            "TEST:\n",
            "  AQE:\n",
            "    ALPHA: 3.0\n",
            "    ENABLED: False\n",
            "    QE_K: 5\n",
            "    QE_TIME: 1\n",
            "  EVAL_PERIOD: 1000\n",
            "  FLIP:\n",
            "    ENABLED: False\n",
            "  IMS_PER_BATCH: 128\n",
            "  METRIC: cosine\n",
            "  PRECISE_BN:\n",
            "    DATASET: Market1501\n",
            "    ENABLED: False\n",
            "    NUM_ITER: 300\n",
            "  RERANK:\n",
            "    ENABLED: False\n",
            "    K1: 20\n",
            "    K2: 6\n",
            "    LAMBDA: 0.3\n",
            "  ROC:\n",
            "    ENABLED: False\n",
            "\u001b[32m[07/08 15:38:52 fastreid]: \u001b[0mFull config saved to /content/BoT-SORT/logs/MOT17/sbs_S50/config.yaml\n",
            "/usr/local/lib/python3.7/dist-packages/torchvision/transforms/transforms.py:333: UserWarning: Argument interpolation should be of type InterpolationMode instead of int. Please, use InterpolationMode enum.\n",
            "  \"Argument interpolation should be of type InterpolationMode instead of int. \"\n",
            "Traceback (most recent call last):\n",
            "  File \"fast_reid/tools/train_net.py\", line 60, in <module>\n",
            "    args=(args,),\n",
            "  File \"/content/BoT-SORT/fast_reid/fastreid/engine/launch.py\", line 71, in launch\n",
            "    main_func(*args)\n",
            "  File \"fast_reid/tools/train_net.py\", line 43, in main\n",
            "    trainer = DefaultTrainer(cfg)\n",
            "  File \"/content/BoT-SORT/fast_reid/fastreid/engine/defaults.py\", line 203, in __init__\n",
            "    data_loader = self.build_train_loader(cfg)\n",
            "  File \"/content/BoT-SORT/fast_reid/fastreid/engine/defaults.py\", line 402, in build_train_loader\n",
            "    return build_reid_train_loader(cfg, combineall=cfg.DATASETS.COMBINEALL)\n",
            "  File \"/content/BoT-SORT/fast_reid/fastreid/config/config.py\", line 264, in wrapped\n",
            "    explicit_args = _get_args_from_config(from_config, *args, **kwargs)\n",
            "  File \"/content/BoT-SORT/fast_reid/fastreid/config/config.py\", line 293, in _get_args_from_config\n",
            "    ret = from_config_func(*args, **kwargs)\n",
            "  File \"/content/BoT-SORT/fast_reid/fastreid/data/build.py\", line 40, in _train_loader_from_config\n",
            "    data = DATASET_REGISTRY.get(d)(root=_root, **kwargs)\n",
            "  File \"/content/BoT-SORT/fast_reid/fastreid/data/datasets/mot17.py\", line 70, in __init__\n",
            "    super(MOT17, self).__init__(train, query, gallery, **kwargs)\n",
            "  File \"/content/BoT-SORT/fast_reid/fastreid/data/datasets/bases.py\", line 47, in __init__\n",
            "    self.data = self.train\n",
            "  File \"/content/BoT-SORT/fast_reid/fastreid/data/datasets/bases.py\", line 59, in train\n",
            "    self._train = self._train()\n",
            "  File \"/content/BoT-SORT/fast_reid/fastreid/data/datasets/mot17.py\", line 65, in <lambda>\n",
            "    train = lambda: self.process_dir(self.train_dir)\n",
            "  File \"/content/BoT-SORT/fast_reid/fastreid/data/datasets/mot17.py\", line 79, in process_dir\n",
            "    pid, camid = map(int, pattern.search(img_path).groups())\n",
            "AttributeError: 'NoneType' object has no attribute 'groups'\n"
          ]
        }
      ]
    },
    {
      "cell_type": "markdown",
      "source": [
        "### Tracking"
      ],
      "metadata": {
        "id": "6JUNWYdyfMn8"
      }
    },
    {
      "cell_type": "markdown",
      "source": [
        "*   Test on MOT17\n",
        "\n",
        "\n"
      ],
      "metadata": {
        "id": "duuYkR9ZSIP5"
      }
    },
    {
      "cell_type": "code",
      "source": [
        "!python3 tools/track.py /content/gdrive/MyDrive/Colab/BoT-SORT-data/ --default-parameters --with-reid --benchmark \"MOT17\" --eval \"test\" --fp16 --fuse"
      ],
      "metadata": {
        "id": "JwWkB7WgjDOA"
      },
      "execution_count": null,
      "outputs": []
    },
    {
      "cell_type": "code",
      "source": [
        "!mkdir results\n",
        "!python3 tools/interpolation.py --txt_path ./results"
      ],
      "metadata": {
        "id": "aZhYau3tfR7c"
      },
      "execution_count": null,
      "outputs": []
    },
    {
      "cell_type": "code",
      "source": [
        "!python3 tools/track.py /content/gdrive/MyDrive/Colab/BoT-SORT-data/ --default-parameters --benchmark \"MOT17\" --eval \"val\" --fp16 --fuse"
      ],
      "metadata": {
        "id": "N1mjLS6jfTUc"
      },
      "execution_count": null,
      "outputs": []
    },
    {
      "cell_type": "markdown",
      "source": [
        "\n",
        "\n",
        "*   Evaluation on MOT17 validation set (the second half of the train set)\n",
        "\n"
      ],
      "metadata": {
        "id": "UO-VN7dbfXDl"
      }
    },
    {
      "cell_type": "code",
      "source": [
        "#cd <BoT-SORT_dir>\n",
        "\n",
        "# BoT-SORT\n",
        "!python3 tools/track.py /content/gdrive/MyDrive/Colab/BoT-SORT-data/ --default-parameters --benchmark \"MOT17\" --eval \"val\" --fp16 --fuse"
      ],
      "metadata": {
        "id": "hs7otrDnfYrZ"
      },
      "execution_count": null,
      "outputs": []
    },
    {
      "cell_type": "code",
      "source": [
        "# BoT-SORT-ReID\n",
        "!python3 tools/track.py /content/gdrive/MyDrive/Colab/BoT-SORT-data/ --default-parameters --with-reid --benchmark \"MOT17\" --eval \"val\" --fp16 --fuse"
      ],
      "metadata": {
        "id": "9aGABminTExH"
      },
      "execution_count": null,
      "outputs": []
    }
  ]
}