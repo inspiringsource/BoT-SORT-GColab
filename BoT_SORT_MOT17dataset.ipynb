{
  "nbformat": 4,
  "nbformat_minor": 0,
  "metadata": {
    "colab": {
      "name": "BoT-SORT on Google Colab.ipynb",
      "provenance": [],
      "machine_shape": "hm",
      "collapsed_sections": [],
      "authorship_tag": "ABX9TyPKQkfP75gyNDC1+wpdLkAO",
      "include_colab_link": true
    },
    "kernelspec": {
      "name": "python3",
      "display_name": "Python 3"
    },
    "language_info": {
      "name": "python"
    },
    "accelerator": "GPU",
    "gpuClass": "standard"
  },
  "cells": [
    {
      "cell_type": "markdown",
      "metadata": {
        "id": "view-in-github",
        "colab_type": "text"
      },
      "source": [
        "<a href=\"https://colab.research.google.com/github/inspiringsource/BoT-SORT-GColab/blob/master/BoT_SORT_MOT17dataset.ipynb\" target=\"_parent\"><img src=\"https://colab.research.google.com/assets/colab-badge.svg\" alt=\"Open In Colab\"/></a>"
      ]
    },
    {
      "cell_type": "markdown",
      "source": [
        "# BoT-SORT MOT17 dataset on GColab\n",
        "\n",
        "> [**BoT-SORT: Robust Associations Multi-Pedestrian Tracking**](https://arxiv.org/abs/2206.14651)\n",
        "> \n",
        "> Nir Aharon, Roy Orfaig, Ben-Zion Bobrovsky"
      ],
      "metadata": {
        "id": "AyYE9V7uTqBX"
      }
    },
    {
      "cell_type": "markdown",
      "source": [
        "### optional-connect-to-Google-drive"
      ],
      "metadata": {
        "id": "jjYzsqudSScm"
      }
    },
    {
      "cell_type": "code",
      "execution_count": null,
      "metadata": {
        "colab": {
          "base_uri": "https://localhost:8080/"
        },
        "id": "RJy6yRsGSOR2",
        "outputId": "0cde2744-2463-41a6-e0ab-a355adb3f749"
      },
      "outputs": [
        {
          "output_type": "stream",
          "name": "stdout",
          "text": [
            "Mounted at /content/gdrive\n"
          ]
        }
      ],
      "source": [
        "from google.colab import drive\n",
        "drive.mount('/content/gdrive')"
      ]
    },
    {
      "cell_type": "markdown",
      "source": [
        "###  Installing dependencies"
      ],
      "metadata": {
        "id": "kX2Gotoqv0-Q"
      }
    },
    {
      "cell_type": "code",
      "source": [
        "#import os"
      ],
      "metadata": {
        "id": "dwF6CCnsL0Fi"
      },
      "execution_count": null,
      "outputs": []
    },
    {
      "cell_type": "code",
      "source": [
        "# == Download the repo content and install dependencies ==\n",
        "!git clone https://github.com/NirAharon/BoT-SORT.git\n",
        "#os.chdir('/content/BoT-SORT/') #More Pythonic\n",
        "%cd /content/BoT-SORT/\n",
        "#os.mkdir('pretrained') #More Pythonic\n",
        "%mkdir pretrained\n",
        "%cd pretrained\n",
        "\n",
        "# downloaded bytetrack_ablation.pth.tar source: https://github.com/ifzhang/ByteTrack#ablation-model\n",
        "!gdown --id \"1iqhM-6V_r1FpOlOzrdP_Ejshgk0DxOob\"\n",
        "# == Download pretrained X model weights ==\n",
        "!gdown --id \"1P4mY0Yyd3PPTybgZkjMYhFri88nTmJX5\"\n",
        "# downloaded mot17_sbs_S50.pth source: https://github.com/NirAharon/BoT-SORT#model-zoo\n",
        "!gdown --id \"1QZFWpoa80rqo7O-HXmlss8J8CnS7IUsN\""
      ],
      "metadata": {
        "id": "thDuKkneSiVF",
        "colab": {
          "base_uri": "https://localhost:8080/"
        },
        "outputId": "20cdb260-71a7-4a27-a295-e9d8533e9056"
      },
      "execution_count": null,
      "outputs": [
        {
          "output_type": "stream",
          "name": "stdout",
          "text": [
            "Cloning into 'BoT-SORT'...\n",
            "remote: Enumerating objects: 849, done.\u001b[K\n",
            "remote: Counting objects: 100% (56/56), done.\u001b[K\n",
            "remote: Compressing objects: 100% (47/47), done.\u001b[K\n",
            "remote: Total 849 (delta 25), reused 23 (delta 8), pack-reused 793\u001b[K\n",
            "Receiving objects: 100% (849/849), 51.45 MiB | 45.54 MiB/s, done.\n",
            "Resolving deltas: 100% (173/173), done.\n",
            "/content/BoT-SORT\n",
            "/content/BoT-SORT/pretrained\n",
            "/usr/local/lib/python3.7/dist-packages/gdown/cli.py:131: FutureWarning: Option `--id` was deprecated in version 4.3.1 and will be removed in 5.0. You don't need to pass it anymore to use a file ID.\n",
            "  category=FutureWarning,\n",
            "Downloading...\n",
            "From: https://drive.google.com/uc?id=1iqhM-6V_r1FpOlOzrdP_Ejshgk0DxOob\n",
            "To: /content/BoT-SORT/pretrained/bytetrack_ablation.pth.tar\n",
            "100% 793M/793M [00:05<00:00, 152MB/s]\n",
            "/usr/local/lib/python3.7/dist-packages/gdown/cli.py:131: FutureWarning: Option `--id` was deprecated in version 4.3.1 and will be removed in 5.0. You don't need to pass it anymore to use a file ID.\n",
            "  category=FutureWarning,\n",
            "Downloading...\n",
            "From: https://drive.google.com/uc?id=1P4mY0Yyd3PPTybgZkjMYhFri88nTmJX5\n",
            "To: /content/BoT-SORT/pretrained/bytetrack_x_mot17.pth.tar\n",
            "100% 793M/793M [00:07<00:00, 113MB/s] \n",
            "/usr/local/lib/python3.7/dist-packages/gdown/cli.py:131: FutureWarning: Option `--id` was deprecated in version 4.3.1 and will be removed in 5.0. You don't need to pass it anymore to use a file ID.\n",
            "  category=FutureWarning,\n",
            "Downloading...\n",
            "From: https://drive.google.com/uc?id=1QZFWpoa80rqo7O-HXmlss8J8CnS7IUsN\n",
            "To: /content/BoT-SORT/pretrained/mot17_sbs_S50.pth\n",
            "100% 318M/318M [00:02<00:00, 118MB/s]\n"
          ]
        }
      ]
    },
    {
      "cell_type": "code",
      "source": [
        "# #More Pythonic Code\n",
        "%cd /content/BoT-SORT/"
      ],
      "metadata": {
        "colab": {
          "base_uri": "https://localhost:8080/"
        },
        "id": "Fafj-BEjUonO",
        "outputId": "cd38f46c-dc70-4def-d8d5-2642b89bc595"
      },
      "execution_count": null,
      "outputs": [
        {
          "output_type": "stream",
          "name": "stdout",
          "text": [
            "/content/BoT-SORT\n"
          ]
        }
      ]
    },
    {
      "cell_type": "code",
      "source": [
        "!pip3 install -r requirements.txt\n",
        "!python3 setup.py develop"
      ],
      "metadata": {
        "id": "z_2toBfLVcfW",
        "colab": {
          "base_uri": "https://localhost:8080/"
        },
        "outputId": "a0dc9a1e-7cc9-4548-fe84-016d87321704"
      },
      "execution_count": null,
      "outputs": [
        {
          "output_type": "stream",
          "name": "stdout",
          "text": [
            "Looking in indexes: https://pypi.org/simple, https://us-python.pkg.dev/colab-wheels/public/simple/\n",
            "Requirement already satisfied: numpy in /usr/local/lib/python3.7/dist-packages (from -r requirements.txt (line 1)) (1.21.6)\n",
            "Requirement already satisfied: opencv-python in /usr/local/lib/python3.7/dist-packages (from -r requirements.txt (line 2)) (4.1.2.30)\n",
            "Collecting loguru\n",
            "  Downloading loguru-0.6.0-py3-none-any.whl (58 kB)\n",
            "\u001b[K     |████████████████████████████████| 58 kB 2.9 MB/s \n",
            "\u001b[?25hRequirement already satisfied: scikit-image in /usr/local/lib/python3.7/dist-packages (from -r requirements.txt (line 4)) (0.18.3)\n",
            "Requirement already satisfied: scikit-learn in /usr/local/lib/python3.7/dist-packages (from -r requirements.txt (line 5)) (1.0.2)\n",
            "Requirement already satisfied: tqdm in /usr/local/lib/python3.7/dist-packages (from -r requirements.txt (line 6)) (4.64.0)\n",
            "Requirement already satisfied: torchvision>=0.10.0 in /usr/local/lib/python3.7/dist-packages (from -r requirements.txt (line 7)) (0.12.0+cu113)\n",
            "Requirement already satisfied: Pillow in /usr/local/lib/python3.7/dist-packages (from -r requirements.txt (line 8)) (7.1.2)\n",
            "Collecting thop\n",
            "  Downloading thop-0.1.0.post2207010342-py3-none-any.whl (15 kB)\n",
            "Collecting ninja\n",
            "  Downloading ninja-1.10.2.3-py2.py3-none-manylinux_2_5_x86_64.manylinux1_x86_64.whl (108 kB)\n",
            "\u001b[K     |████████████████████████████████| 108 kB 10.3 MB/s \n",
            "\u001b[?25hRequirement already satisfied: tabulate in /usr/local/lib/python3.7/dist-packages (from -r requirements.txt (line 11)) (0.8.9)\n",
            "Requirement already satisfied: tensorboard in /usr/local/lib/python3.7/dist-packages (from -r requirements.txt (line 12)) (2.8.0)\n",
            "Collecting lap\n",
            "  Downloading lap-0.4.0.tar.gz (1.5 MB)\n",
            "\u001b[K     |████████████████████████████████| 1.5 MB 47.9 MB/s \n",
            "\u001b[?25hCollecting motmetrics\n",
            "  Downloading motmetrics-1.2.5-py3-none-any.whl (161 kB)\n",
            "\u001b[K     |████████████████████████████████| 161 kB 51.9 MB/s \n",
            "\u001b[?25hCollecting filterpy\n",
            "  Downloading filterpy-1.4.5.zip (177 kB)\n",
            "\u001b[K     |████████████████████████████████| 177 kB 66.7 MB/s \n",
            "\u001b[?25hRequirement already satisfied: h5py in /usr/local/lib/python3.7/dist-packages (from -r requirements.txt (line 16)) (3.1.0)\n",
            "Requirement already satisfied: matplotlib in /usr/local/lib/python3.7/dist-packages (from -r requirements.txt (line 17)) (3.2.2)\n",
            "Requirement already satisfied: scipy in /usr/local/lib/python3.7/dist-packages (from -r requirements.txt (line 18)) (1.4.1)\n",
            "Requirement already satisfied: prettytable in /usr/local/lib/python3.7/dist-packages (from -r requirements.txt (line 19)) (3.3.0)\n",
            "Requirement already satisfied: easydict in /usr/local/lib/python3.7/dist-packages (from -r requirements.txt (line 20)) (1.9)\n",
            "Requirement already satisfied: pyyaml in /usr/local/lib/python3.7/dist-packages (from -r requirements.txt (line 22)) (3.13)\n",
            "Collecting yacs\n",
            "  Downloading yacs-0.1.8-py3-none-any.whl (14 kB)\n",
            "Requirement already satisfied: termcolor in /usr/local/lib/python3.7/dist-packages (from -r requirements.txt (line 24)) (1.1.0)\n",
            "Requirement already satisfied: gdown in /usr/local/lib/python3.7/dist-packages (from -r requirements.txt (line 25)) (4.4.0)\n",
            "Collecting onnx==1.8.1\n",
            "  Downloading onnx-1.8.1-cp37-cp37m-manylinux2010_x86_64.whl (14.5 MB)\n",
            "\u001b[K     |████████████████████████████████| 14.5 MB 51.4 MB/s \n",
            "\u001b[?25hCollecting onnxruntime==1.8.0\n",
            "  Downloading onnxruntime-1.8.0-cp37-cp37m-manylinux_2_17_x86_64.manylinux2014_x86_64.whl (4.5 MB)\n",
            "\u001b[K     |████████████████████████████████| 4.5 MB 48.3 MB/s \n",
            "\u001b[?25hCollecting onnx-simplifier==0.3.5\n",
            "  Downloading onnx-simplifier-0.3.5.tar.gz (13 kB)\n",
            "Requirement already satisfied: six in /usr/local/lib/python3.7/dist-packages (from onnx==1.8.1->-r requirements.txt (line 26)) (1.15.0)\n",
            "Requirement already satisfied: typing-extensions>=3.6.2.1 in /usr/local/lib/python3.7/dist-packages (from onnx==1.8.1->-r requirements.txt (line 26)) (4.1.1)\n",
            "Requirement already satisfied: protobuf in /usr/local/lib/python3.7/dist-packages (from onnx==1.8.1->-r requirements.txt (line 26)) (3.17.3)\n",
            "Requirement already satisfied: flatbuffers in /usr/local/lib/python3.7/dist-packages (from onnxruntime==1.8.0->-r requirements.txt (line 27)) (2.0)\n",
            "Collecting onnxoptimizer>=0.2.5\n",
            "  Downloading onnxoptimizer-0.2.7-cp37-cp37m-manylinux2014_x86_64.whl (498 kB)\n",
            "\u001b[K     |████████████████████████████████| 498 kB 58.3 MB/s \n",
            "\u001b[?25hRequirement already satisfied: requests in /usr/local/lib/python3.7/dist-packages (from torchvision>=0.10.0->-r requirements.txt (line 7)) (2.23.0)\n",
            "Requirement already satisfied: torch==1.11.0 in /usr/local/lib/python3.7/dist-packages (from torchvision>=0.10.0->-r requirements.txt (line 7)) (1.11.0+cu113)\n",
            "Requirement already satisfied: imageio>=2.3.0 in /usr/local/lib/python3.7/dist-packages (from scikit-image->-r requirements.txt (line 4)) (2.4.1)\n",
            "Requirement already satisfied: PyWavelets>=1.1.1 in /usr/local/lib/python3.7/dist-packages (from scikit-image->-r requirements.txt (line 4)) (1.3.0)\n",
            "Requirement already satisfied: tifffile>=2019.7.26 in /usr/local/lib/python3.7/dist-packages (from scikit-image->-r requirements.txt (line 4)) (2021.11.2)\n",
            "Requirement already satisfied: networkx>=2.0 in /usr/local/lib/python3.7/dist-packages (from scikit-image->-r requirements.txt (line 4)) (2.6.3)\n",
            "Requirement already satisfied: cycler>=0.10 in /usr/local/lib/python3.7/dist-packages (from matplotlib->-r requirements.txt (line 17)) (0.11.0)\n",
            "Requirement already satisfied: kiwisolver>=1.0.1 in /usr/local/lib/python3.7/dist-packages (from matplotlib->-r requirements.txt (line 17)) (1.4.3)\n",
            "Requirement already satisfied: pyparsing!=2.0.4,!=2.1.2,!=2.1.6,>=2.0.1 in /usr/local/lib/python3.7/dist-packages (from matplotlib->-r requirements.txt (line 17)) (3.0.9)\n",
            "Requirement already satisfied: python-dateutil>=2.1 in /usr/local/lib/python3.7/dist-packages (from matplotlib->-r requirements.txt (line 17)) (2.8.2)\n",
            "Requirement already satisfied: threadpoolctl>=2.0.0 in /usr/local/lib/python3.7/dist-packages (from scikit-learn->-r requirements.txt (line 5)) (3.1.0)\n",
            "Requirement already satisfied: joblib>=0.11 in /usr/local/lib/python3.7/dist-packages (from scikit-learn->-r requirements.txt (line 5)) (1.1.0)\n",
            "Requirement already satisfied: absl-py>=0.4 in /usr/local/lib/python3.7/dist-packages (from tensorboard->-r requirements.txt (line 12)) (1.1.0)\n",
            "Requirement already satisfied: tensorboard-data-server<0.7.0,>=0.6.0 in /usr/local/lib/python3.7/dist-packages (from tensorboard->-r requirements.txt (line 12)) (0.6.1)\n",
            "Requirement already satisfied: grpcio>=1.24.3 in /usr/local/lib/python3.7/dist-packages (from tensorboard->-r requirements.txt (line 12)) (1.46.3)\n",
            "Requirement already satisfied: wheel>=0.26 in /usr/local/lib/python3.7/dist-packages (from tensorboard->-r requirements.txt (line 12)) (0.37.1)\n",
            "Requirement already satisfied: setuptools>=41.0.0 in /usr/local/lib/python3.7/dist-packages (from tensorboard->-r requirements.txt (line 12)) (57.4.0)\n",
            "Requirement already satisfied: google-auth<3,>=1.6.3 in /usr/local/lib/python3.7/dist-packages (from tensorboard->-r requirements.txt (line 12)) (1.35.0)\n",
            "Requirement already satisfied: markdown>=2.6.8 in /usr/local/lib/python3.7/dist-packages (from tensorboard->-r requirements.txt (line 12)) (3.3.7)\n",
            "Requirement already satisfied: google-auth-oauthlib<0.5,>=0.4.1 in /usr/local/lib/python3.7/dist-packages (from tensorboard->-r requirements.txt (line 12)) (0.4.6)\n",
            "Requirement already satisfied: werkzeug>=0.11.15 in /usr/local/lib/python3.7/dist-packages (from tensorboard->-r requirements.txt (line 12)) (1.0.1)\n",
            "Requirement already satisfied: tensorboard-plugin-wit>=1.6.0 in /usr/local/lib/python3.7/dist-packages (from tensorboard->-r requirements.txt (line 12)) (1.8.1)\n",
            "Requirement already satisfied: rsa<5,>=3.1.4 in /usr/local/lib/python3.7/dist-packages (from google-auth<3,>=1.6.3->tensorboard->-r requirements.txt (line 12)) (4.8)\n",
            "Requirement already satisfied: pyasn1-modules>=0.2.1 in /usr/local/lib/python3.7/dist-packages (from google-auth<3,>=1.6.3->tensorboard->-r requirements.txt (line 12)) (0.2.8)\n",
            "Requirement already satisfied: cachetools<5.0,>=2.0.0 in /usr/local/lib/python3.7/dist-packages (from google-auth<3,>=1.6.3->tensorboard->-r requirements.txt (line 12)) (4.2.4)\n",
            "Requirement already satisfied: requests-oauthlib>=0.7.0 in /usr/local/lib/python3.7/dist-packages (from google-auth-oauthlib<0.5,>=0.4.1->tensorboard->-r requirements.txt (line 12)) (1.3.1)\n",
            "Requirement already satisfied: importlib-metadata>=4.4 in /usr/local/lib/python3.7/dist-packages (from markdown>=2.6.8->tensorboard->-r requirements.txt (line 12)) (4.11.4)\n",
            "Requirement already satisfied: zipp>=0.5 in /usr/local/lib/python3.7/dist-packages (from importlib-metadata>=4.4->markdown>=2.6.8->tensorboard->-r requirements.txt (line 12)) (3.8.0)\n",
            "Requirement already satisfied: pyasn1<0.5.0,>=0.4.6 in /usr/local/lib/python3.7/dist-packages (from pyasn1-modules>=0.2.1->google-auth<3,>=1.6.3->tensorboard->-r requirements.txt (line 12)) (0.4.8)\n",
            "Requirement already satisfied: chardet<4,>=3.0.2 in /usr/local/lib/python3.7/dist-packages (from requests->torchvision>=0.10.0->-r requirements.txt (line 7)) (3.0.4)\n",
            "Requirement already satisfied: idna<3,>=2.5 in /usr/local/lib/python3.7/dist-packages (from requests->torchvision>=0.10.0->-r requirements.txt (line 7)) (2.10)\n",
            "Requirement already satisfied: certifi>=2017.4.17 in /usr/local/lib/python3.7/dist-packages (from requests->torchvision>=0.10.0->-r requirements.txt (line 7)) (2022.6.15)\n",
            "Requirement already satisfied: urllib3!=1.25.0,!=1.25.1,<1.26,>=1.21.1 in /usr/local/lib/python3.7/dist-packages (from requests->torchvision>=0.10.0->-r requirements.txt (line 7)) (1.24.3)\n",
            "Requirement already satisfied: oauthlib>=3.0.0 in /usr/local/lib/python3.7/dist-packages (from requests-oauthlib>=0.7.0->google-auth-oauthlib<0.5,>=0.4.1->tensorboard->-r requirements.txt (line 12)) (3.2.0)\n",
            "Requirement already satisfied: pandas>=0.23.1 in /usr/local/lib/python3.7/dist-packages (from motmetrics->-r requirements.txt (line 14)) (1.3.5)\n",
            "Collecting xmltodict>=0.12.0\n",
            "  Downloading xmltodict-0.13.0-py2.py3-none-any.whl (10.0 kB)\n",
            "Requirement already satisfied: pytz>=2017.3 in /usr/local/lib/python3.7/dist-packages (from pandas>=0.23.1->motmetrics->-r requirements.txt (line 14)) (2022.1)\n",
            "Requirement already satisfied: cached-property in /usr/local/lib/python3.7/dist-packages (from h5py->-r requirements.txt (line 16)) (1.5.2)\n",
            "Requirement already satisfied: wcwidth in /usr/local/lib/python3.7/dist-packages (from prettytable->-r requirements.txt (line 19)) (0.2.5)\n",
            "Requirement already satisfied: beautifulsoup4 in /usr/local/lib/python3.7/dist-packages (from gdown->-r requirements.txt (line 25)) (4.6.3)\n",
            "Requirement already satisfied: filelock in /usr/local/lib/python3.7/dist-packages (from gdown->-r requirements.txt (line 25)) (3.7.1)\n",
            "Requirement already satisfied: PySocks!=1.5.7,>=1.5.6 in /usr/local/lib/python3.7/dist-packages (from requests->torchvision>=0.10.0->-r requirements.txt (line 7)) (1.7.1)\n",
            "Building wheels for collected packages: onnx-simplifier, lap, filterpy\n",
            "  Building wheel for onnx-simplifier (setup.py) ... \u001b[?25l\u001b[?25hdone\n",
            "  Created wheel for onnx-simplifier: filename=onnx_simplifier-0.3.5-py3-none-any.whl size=12878 sha256=d33f1089b6e07f756bf693947f09097663a6740e464e4d3dd7c9fe3bc19d6266\n",
            "  Stored in directory: /root/.cache/pip/wheels/8a/b4/1b/6acdd4eb854b215cd4aa1c18ca79399f9d34728edaff47ecce\n",
            "  Building wheel for lap (setup.py) ... \u001b[?25l\u001b[?25hdone\n",
            "  Created wheel for lap: filename=lap-0.4.0-cp37-cp37m-linux_x86_64.whl size=1590203 sha256=8ab59e8fb416dbf2a2ef718f39ce27d7114c558855f13b9e820419b10f840ab1\n",
            "  Stored in directory: /root/.cache/pip/wheels/b1/0b/e3/ef9daf1b5547b56389e42c80c3100f1e6479bf5fd00fd9d6ba\n",
            "  Building wheel for filterpy (setup.py) ... \u001b[?25l\u001b[?25hdone\n",
            "  Created wheel for filterpy: filename=filterpy-1.4.5-py3-none-any.whl size=110474 sha256=1a9c28438a9ec9fdbbeef75ae5dfbb7638853dc86e58da22824ae756cc9314e0\n",
            "  Stored in directory: /root/.cache/pip/wheels/ce/e0/ee/a2b3c5caab3418c1ccd8c4de573d4cbe13315d7e8b0a55fbc2\n",
            "Successfully built onnx-simplifier lap filterpy\n",
            "Installing collected packages: onnx, xmltodict, onnxruntime, onnxoptimizer, yacs, thop, onnx-simplifier, ninja, motmetrics, loguru, lap, filterpy\n",
            "Successfully installed filterpy-1.4.5 lap-0.4.0 loguru-0.6.0 motmetrics-1.2.5 ninja-1.10.2.3 onnx-1.8.1 onnx-simplifier-0.3.5 onnxoptimizer-0.2.7 onnxruntime-1.8.0 thop-0.1.0.post2207010342 xmltodict-0.13.0 yacs-0.1.8\n",
            "running develop\n",
            "running egg_info\n",
            "creating yolox.egg-info\n",
            "writing yolox.egg-info/PKG-INFO\n",
            "writing dependency_links to yolox.egg-info/dependency_links.txt\n",
            "writing top-level names to yolox.egg-info/top_level.txt\n",
            "writing manifest file 'yolox.egg-info/SOURCES.txt'\n",
            "package init file 'pretrained/__init__.py' not found (or not a regular file)\n",
            "package init file 'fast_reid/__init__.py' not found (or not a regular file)\n",
            "package init file 'VideoCameraCorrection/__init__.py' not found (or not a regular file)\n",
            "package init file 'tracker/__init__.py' not found (or not a regular file)\n",
            "package init file 'assets/__init__.py' not found (or not a regular file)\n",
            "package init file 'tools/__init__.py' not found (or not a regular file)\n",
            "package init file 'yolox/exps/__init__.py' not found (or not a regular file)\n",
            "package init file 'yolox/layers/csrc/__init__.py' not found (or not a regular file)\n",
            "package init file 'yolox/layers/csrc/cocoeval/__init__.py' not found (or not a regular file)\n",
            "package init file 'yolox/exps/default/__init__.py' not found (or not a regular file)\n",
            "package init file 'yolox/exps/example/__init__.py' not found (or not a regular file)\n",
            "package init file 'yolox/exps/example/mot/__init__.py' not found (or not a regular file)\n",
            "package init file 'fast_reid/datasets/__init__.py' not found (or not a regular file)\n",
            "package init file 'fast_reid/docs/__init__.py' not found (or not a regular file)\n",
            "package init file 'fast_reid/projects/__init__.py' not found (or not a regular file)\n",
            "package init file 'fast_reid/docker/__init__.py' not found (or not a regular file)\n",
            "package init file 'fast_reid/demo/__init__.py' not found (or not a regular file)\n",
            "package init file 'fast_reid/configs/__init__.py' not found (or not a regular file)\n",
            "package init file 'fast_reid/tools/__init__.py' not found (or not a regular file)\n",
            "package init file 'fast_reid/docs/modules/__init__.py' not found (or not a regular file)\n",
            "package init file 'fast_reid/docs/_static/__init__.py' not found (or not a regular file)\n",
            "package init file 'fast_reid/docs/_static/css/__init__.py' not found (or not a regular file)\n",
            "package init file 'fast_reid/fastreid/modeling/backbones/regnet/regnety/__init__.py' not found (or not a regular file)\n",
            "package init file 'fast_reid/fastreid/modeling/backbones/regnet/regnetx/__init__.py' not found (or not a regular file)\n",
            "package init file 'fast_reid/fastreid/modeling/backbones/regnet/effnet/__init__.py' not found (or not a regular file)\n",
            "package init file 'fast_reid/projects/FastTune/__init__.py' not found (or not a regular file)\n",
            "package init file 'fast_reid/projects/FastClas/__init__.py' not found (or not a regular file)\n",
            "package init file 'fast_reid/projects/FastFace/__init__.py' not found (or not a regular file)\n",
            "package init file 'fast_reid/projects/NAIC20/__init__.py' not found (or not a regular file)\n",
            "package init file 'fast_reid/projects/CrossDomainReID/__init__.py' not found (or not a regular file)\n",
            "package init file 'fast_reid/projects/FastRetri/__init__.py' not found (or not a regular file)\n",
            "package init file 'fast_reid/projects/FastAttr/__init__.py' not found (or not a regular file)\n",
            "package init file 'fast_reid/projects/DG-ReID/__init__.py' not found (or not a regular file)\n",
            "package init file 'fast_reid/projects/FastRT/__init__.py' not found (or not a regular file)\n",
            "package init file 'fast_reid/projects/HAA/__init__.py' not found (or not a regular file)\n",
            "package init file 'fast_reid/projects/PartialReID/__init__.py' not found (or not a regular file)\n",
            "package init file 'fast_reid/projects/FastDistill/__init__.py' not found (or not a regular file)\n",
            "package init file 'fast_reid/projects/FastTune/configs/__init__.py' not found (or not a regular file)\n",
            "package init file 'fast_reid/projects/FastClas/configs/__init__.py' not found (or not a regular file)\n",
            "package init file 'fast_reid/projects/FastFace/configs/__init__.py' not found (or not a regular file)\n",
            "package init file 'fast_reid/projects/NAIC20/configs/__init__.py' not found (or not a regular file)\n",
            "package init file 'fast_reid/projects/FastRetri/configs/__init__.py' not found (or not a regular file)\n",
            "package init file 'fast_reid/projects/FastAttr/configs/__init__.py' not found (or not a regular file)\n",
            "package init file 'fast_reid/projects/FastRT/fastrt/__init__.py' not found (or not a regular file)\n",
            "package init file 'fast_reid/projects/FastRT/pybind_interface/__init__.py' not found (or not a regular file)\n",
            "package init file 'fast_reid/projects/FastRT/docker/__init__.py' not found (or not a regular file)\n",
            "package init file 'fast_reid/projects/FastRT/demo/__init__.py' not found (or not a regular file)\n",
            "package init file 'fast_reid/projects/FastRT/include/__init__.py' not found (or not a regular file)\n",
            "package init file 'fast_reid/projects/FastRT/third_party/__init__.py' not found (or not a regular file)\n",
            "package init file 'fast_reid/projects/FastRT/tools/__init__.py' not found (or not a regular file)\n",
            "package init file 'fast_reid/projects/FastRT/fastrt/heads/__init__.py' not found (or not a regular file)\n",
            "package init file 'fast_reid/projects/FastRT/fastrt/common/__init__.py' not found (or not a regular file)\n",
            "package init file 'fast_reid/projects/FastRT/fastrt/meta_arch/__init__.py' not found (or not a regular file)\n",
            "package init file 'fast_reid/projects/FastRT/fastrt/factory/__init__.py' not found (or not a regular file)\n",
            "package init file 'fast_reid/projects/FastRT/fastrt/backbones/__init__.py' not found (or not a regular file)\n",
            "package init file 'fast_reid/projects/FastRT/fastrt/engine/__init__.py' not found (or not a regular file)\n",
            "package init file 'fast_reid/projects/FastRT/fastrt/layers/__init__.py' not found (or not a regular file)\n",
            "package init file 'fast_reid/projects/FastRT/pybind_interface/docker/__init__.py' not found (or not a regular file)\n",
            "package init file 'fast_reid/projects/FastRT/pybind_interface/docker/trt7cu100/__init__.py' not found (or not a regular file)\n",
            "package init file 'fast_reid/projects/FastRT/pybind_interface/docker/trt7cu102_torch160/__init__.py' not found (or not a regular file)\n",
            "package init file 'fast_reid/projects/FastRT/docker/trt7cu100/__init__.py' not found (or not a regular file)\n",
            "package init file 'fast_reid/projects/FastRT/docker/trt7cu102/__init__.py' not found (or not a regular file)\n",
            "package init file 'fast_reid/projects/FastRT/include/fastrt/__init__.py' not found (or not a regular file)\n",
            "package init file 'fast_reid/projects/FastRT/third_party/cnpy/__init__.py' not found (or not a regular file)\n",
            "package init file 'fast_reid/projects/PartialReID/configs/__init__.py' not found (or not a regular file)\n",
            "package init file 'fast_reid/projects/FastDistill/configs/__init__.py' not found (or not a regular file)\n",
            "package init file 'fast_reid/configs/VERIWild/__init__.py' not found (or not a regular file)\n",
            "package init file 'fast_reid/configs/MSMT17/__init__.py' not found (or not a regular file)\n",
            "package init file 'fast_reid/configs/DukeMTMC/__init__.py' not found (or not a regular file)\n",
            "package init file 'fast_reid/configs/VehicleID/__init__.py' not found (or not a regular file)\n",
            "package init file 'fast_reid/configs/VeRi/__init__.py' not found (or not a regular file)\n",
            "package init file 'fast_reid/configs/Market1501/__init__.py' not found (or not a regular file)\n",
            "package init file 'fast_reid/configs/MOT17/__init__.py' not found (or not a regular file)\n",
            "package init file 'fast_reid/configs/MOT20/__init__.py' not found (or not a regular file)\n",
            "package init file 'fast_reid/tools/deploy/__init__.py' not found (or not a regular file)\n",
            "package init file 'fast_reid/tools/deploy/test_data/__init__.py' not found (or not a regular file)\n",
            "package init file 'VideoCameraCorrection/VideoCameraCorrection/__init__.py' not found (or not a regular file)\n",
            "package init file 'tracker/GMC_files/__init__.py' not found (or not a regular file)\n",
            "package init file 'tracker/tracking_utils/__init__.py' not found (or not a regular file)\n",
            "package init file 'tracker/GMC_files/MOT17_ablation/__init__.py' not found (or not a regular file)\n",
            "package init file 'tracker/GMC_files/MOTChallenge/__init__.py' not found (or not a regular file)\n",
            "package init file 'tools/datasets/__init__.py' not found (or not a regular file)\n",
            "adding license file 'LICENSE'\n",
            "writing manifest file 'yolox.egg-info/SOURCES.txt'\n",
            "running build_ext\n",
            "building 'yolox._C' extension\n",
            "creating /content/BoT-SORT/build\n",
            "creating /content/BoT-SORT/build/temp.linux-x86_64-3.7\n",
            "creating /content/BoT-SORT/build/temp.linux-x86_64-3.7/content\n",
            "creating /content/BoT-SORT/build/temp.linux-x86_64-3.7/content/BoT-SORT\n",
            "creating /content/BoT-SORT/build/temp.linux-x86_64-3.7/content/BoT-SORT/yolox\n",
            "creating /content/BoT-SORT/build/temp.linux-x86_64-3.7/content/BoT-SORT/yolox/layers\n",
            "creating /content/BoT-SORT/build/temp.linux-x86_64-3.7/content/BoT-SORT/yolox/layers/csrc\n",
            "creating /content/BoT-SORT/build/temp.linux-x86_64-3.7/content/BoT-SORT/yolox/layers/csrc/cocoeval\n",
            "Emitting ninja build file /content/BoT-SORT/build/temp.linux-x86_64-3.7/build.ninja...\n",
            "Compiling objects...\n",
            "Allowing ninja to set a default number of workers... (overridable by setting the environment variable MAX_JOBS=N)\n",
            "[1/2] c++ -MMD -MF /content/BoT-SORT/build/temp.linux-x86_64-3.7/content/BoT-SORT/yolox/layers/csrc/cocoeval/cocoeval.o.d -pthread -Wno-unused-result -Wsign-compare -DNDEBUG -g -fwrapv -O2 -Wall -g -fstack-protector-strong -Wformat -Werror=format-security -g -fwrapv -O2 -g -fstack-protector-strong -Wformat -Werror=format-security -Wdate-time -D_FORTIFY_SOURCE=2 -fPIC -I/content/BoT-SORT/yolox/layers/csrc -I/usr/local/lib/python3.7/dist-packages/torch/include -I/usr/local/lib/python3.7/dist-packages/torch/include/torch/csrc/api/include -I/usr/local/lib/python3.7/dist-packages/torch/include/TH -I/usr/local/lib/python3.7/dist-packages/torch/include/THC -I/usr/include/python3.7m -c -c /content/BoT-SORT/yolox/layers/csrc/cocoeval/cocoeval.cpp -o /content/BoT-SORT/build/temp.linux-x86_64-3.7/content/BoT-SORT/yolox/layers/csrc/cocoeval/cocoeval.o -O3 -DTORCH_API_INCLUDE_EXTENSION_H '-DPYBIND11_COMPILER_TYPE=\"_gcc\"' '-DPYBIND11_STDLIB=\"_libstdcpp\"' '-DPYBIND11_BUILD_ABI=\"_cxxabi1011\"' -DTORCH_EXTENSION_NAME=_C -D_GLIBCXX_USE_CXX11_ABI=0 -std=c++14\n",
            "[2/2] c++ -MMD -MF /content/BoT-SORT/build/temp.linux-x86_64-3.7/content/BoT-SORT/yolox/layers/csrc/vision.o.d -pthread -Wno-unused-result -Wsign-compare -DNDEBUG -g -fwrapv -O2 -Wall -g -fstack-protector-strong -Wformat -Werror=format-security -g -fwrapv -O2 -g -fstack-protector-strong -Wformat -Werror=format-security -Wdate-time -D_FORTIFY_SOURCE=2 -fPIC -I/content/BoT-SORT/yolox/layers/csrc -I/usr/local/lib/python3.7/dist-packages/torch/include -I/usr/local/lib/python3.7/dist-packages/torch/include/torch/csrc/api/include -I/usr/local/lib/python3.7/dist-packages/torch/include/TH -I/usr/local/lib/python3.7/dist-packages/torch/include/THC -I/usr/include/python3.7m -c -c /content/BoT-SORT/yolox/layers/csrc/vision.cpp -o /content/BoT-SORT/build/temp.linux-x86_64-3.7/content/BoT-SORT/yolox/layers/csrc/vision.o -O3 -DTORCH_API_INCLUDE_EXTENSION_H '-DPYBIND11_COMPILER_TYPE=\"_gcc\"' '-DPYBIND11_STDLIB=\"_libstdcpp\"' '-DPYBIND11_BUILD_ABI=\"_cxxabi1011\"' -DTORCH_EXTENSION_NAME=_C -D_GLIBCXX_USE_CXX11_ABI=0 -std=c++14\n",
            "creating build/lib.linux-x86_64-3.7\n",
            "creating build/lib.linux-x86_64-3.7/yolox\n",
            "x86_64-linux-gnu-g++ -pthread -shared -Wl,-O1 -Wl,-Bsymbolic-functions -Wl,-Bsymbolic-functions -g -fwrapv -O2 -Wl,-Bsymbolic-functions -g -fwrapv -O2 -g -fstack-protector-strong -Wformat -Werror=format-security -Wdate-time -D_FORTIFY_SOURCE=2 /content/BoT-SORT/build/temp.linux-x86_64-3.7/content/BoT-SORT/yolox/layers/csrc/vision.o /content/BoT-SORT/build/temp.linux-x86_64-3.7/content/BoT-SORT/yolox/layers/csrc/cocoeval/cocoeval.o -L/usr/local/lib/python3.7/dist-packages/torch/lib -lc10 -ltorch -ltorch_cpu -ltorch_python -o build/lib.linux-x86_64-3.7/yolox/_C.cpython-37m-x86_64-linux-gnu.so\n",
            "copying build/lib.linux-x86_64-3.7/yolox/_C.cpython-37m-x86_64-linux-gnu.so -> yolox\n",
            "Creating /usr/local/lib/python3.7/dist-packages/yolox.egg-link (link to .)\n",
            "Adding yolox 0.1.0 to easy-install.pth file\n",
            "\n",
            "Installed /content/BoT-SORT\n",
            "Processing dependencies for yolox==0.1.0\n",
            "Finished processing dependencies for yolox==0.1.0\n"
          ]
        }
      ]
    },
    {
      "cell_type": "code",
      "source": [
        "!pip3 install cython; \n",
        "!pip3 install 'git+https://github.com/cocodataset/cocoapi.git#subdirectory=PythonAPI'"
      ],
      "metadata": {
        "id": "DFVvlDzMVtU9",
        "colab": {
          "base_uri": "https://localhost:8080/"
        },
        "outputId": "f7d16e54-f4ee-46f7-fbae-560be0310ad1"
      },
      "execution_count": null,
      "outputs": [
        {
          "output_type": "stream",
          "name": "stdout",
          "text": [
            "Looking in indexes: https://pypi.org/simple, https://us-python.pkg.dev/colab-wheels/public/simple/\n",
            "Requirement already satisfied: cython in /usr/local/lib/python3.7/dist-packages (0.29.30)\n",
            "Looking in indexes: https://pypi.org/simple, https://us-python.pkg.dev/colab-wheels/public/simple/\n",
            "Collecting git+https://github.com/cocodataset/cocoapi.git#subdirectory=PythonAPI\n",
            "  Cloning https://github.com/cocodataset/cocoapi.git to /tmp/pip-req-build-0a39cavz\n",
            "  Running command git clone -q https://github.com/cocodataset/cocoapi.git /tmp/pip-req-build-0a39cavz\n",
            "Requirement already satisfied: setuptools>=18.0 in /usr/local/lib/python3.7/dist-packages (from pycocotools==2.0) (57.4.0)\n",
            "Requirement already satisfied: cython>=0.27.3 in /usr/local/lib/python3.7/dist-packages (from pycocotools==2.0) (0.29.30)\n",
            "Requirement already satisfied: matplotlib>=2.1.0 in /usr/local/lib/python3.7/dist-packages (from pycocotools==2.0) (3.2.2)\n",
            "Requirement already satisfied: kiwisolver>=1.0.1 in /usr/local/lib/python3.7/dist-packages (from matplotlib>=2.1.0->pycocotools==2.0) (1.4.3)\n",
            "Requirement already satisfied: cycler>=0.10 in /usr/local/lib/python3.7/dist-packages (from matplotlib>=2.1.0->pycocotools==2.0) (0.11.0)\n",
            "Requirement already satisfied: python-dateutil>=2.1 in /usr/local/lib/python3.7/dist-packages (from matplotlib>=2.1.0->pycocotools==2.0) (2.8.2)\n",
            "Requirement already satisfied: numpy>=1.11 in /usr/local/lib/python3.7/dist-packages (from matplotlib>=2.1.0->pycocotools==2.0) (1.21.6)\n",
            "Requirement already satisfied: pyparsing!=2.0.4,!=2.1.2,!=2.1.6,>=2.0.1 in /usr/local/lib/python3.7/dist-packages (from matplotlib>=2.1.0->pycocotools==2.0) (3.0.9)\n",
            "Requirement already satisfied: typing-extensions in /usr/local/lib/python3.7/dist-packages (from kiwisolver>=1.0.1->matplotlib>=2.1.0->pycocotools==2.0) (4.1.1)\n",
            "Requirement already satisfied: six>=1.5 in /usr/local/lib/python3.7/dist-packages (from python-dateutil>=2.1->matplotlib>=2.1.0->pycocotools==2.0) (1.15.0)\n",
            "Building wheels for collected packages: pycocotools\n",
            "  Building wheel for pycocotools (setup.py) ... \u001b[?25l\u001b[?25hdone\n",
            "  Created wheel for pycocotools: filename=pycocotools-2.0-cp37-cp37m-linux_x86_64.whl size=265177 sha256=b8c291c5a4eb61c5dae37766ac28cc393a7b3a8540877e8445471a51e2550334\n",
            "  Stored in directory: /tmp/pip-ephem-wheel-cache-qoxbgtbj/wheels/e2/6b/1d/344ac773c7495ea0b85eb228bc66daec7400a143a92d36b7b1\n",
            "Successfully built pycocotools\n",
            "Installing collected packages: pycocotools\n",
            "  Attempting uninstall: pycocotools\n",
            "    Found existing installation: pycocotools 2.0.4\n",
            "    Uninstalling pycocotools-2.0.4:\n",
            "      Successfully uninstalled pycocotools-2.0.4\n",
            "Successfully installed pycocotools-2.0\n"
          ]
        }
      ]
    },
    {
      "cell_type": "code",
      "source": [
        "# Cython-bbox\n",
        "!pip3 install cython_bbox\n",
        "\n",
        "# faiss gpu\n",
        "!pip3 install faiss-gpu\n",
        "#cpu\n",
        "#!pip3 install faiss-cpu"
      ],
      "metadata": {
        "id": "jP6QELC9V2jt",
        "colab": {
          "base_uri": "https://localhost:8080/"
        },
        "outputId": "afb77207-bbc2-4e3b-e65d-54353d4a0d99"
      },
      "execution_count": null,
      "outputs": [
        {
          "output_type": "stream",
          "name": "stdout",
          "text": [
            "Looking in indexes: https://pypi.org/simple, https://us-python.pkg.dev/colab-wheels/public/simple/\n",
            "Collecting cython_bbox\n",
            "  Downloading cython_bbox-0.1.3.tar.gz (41 kB)\n",
            "\u001b[K     |████████████████████████████████| 41 kB 223 kB/s \n",
            "\u001b[?25hBuilding wheels for collected packages: cython-bbox\n",
            "  Building wheel for cython-bbox (setup.py) ... \u001b[?25l\u001b[?25hdone\n",
            "  Created wheel for cython-bbox: filename=cython_bbox-0.1.3-cp37-cp37m-linux_x86_64.whl size=58457 sha256=a533b02e665932852e4fc8379704436837c252b4fc89f2aee32e480f5a729d0e\n",
            "  Stored in directory: /root/.cache/pip/wheels/51/82/21/5def8bc98ae4ea436d7f0decb7194d20d7e3e6d0578a4129d7\n",
            "Successfully built cython-bbox\n",
            "Installing collected packages: cython-bbox\n",
            "Successfully installed cython-bbox-0.1.3\n",
            "Looking in indexes: https://pypi.org/simple, https://us-python.pkg.dev/colab-wheels/public/simple/\n",
            "Collecting faiss-gpu\n",
            "  Downloading faiss_gpu-1.7.2-cp37-cp37m-manylinux_2_17_x86_64.manylinux2014_x86_64.whl (85.5 MB)\n",
            "\u001b[K     |████████████████████████████████| 85.5 MB 103 kB/s \n",
            "\u001b[?25hInstalling collected packages: faiss-gpu\n",
            "Successfully installed faiss-gpu-1.7.2\n"
          ]
        }
      ]
    },
    {
      "cell_type": "code",
      "source": [
        "# verify CUDA\n",
        "!/usr/local/cuda/bin/nvcc --version"
      ],
      "metadata": {
        "colab": {
          "base_uri": "https://localhost:8080/"
        },
        "id": "rYCWfI-hNITz",
        "outputId": "d9a0ecd9-dd18-4368-c247-daa9934de33b"
      },
      "execution_count": null,
      "outputs": [
        {
          "output_type": "stream",
          "name": "stdout",
          "text": [
            "nvcc: NVIDIA (R) Cuda compiler driver\n",
            "Copyright (c) 2005-2020 NVIDIA Corporation\n",
            "Built on Mon_Oct_12_20:09:46_PDT_2020\n",
            "Cuda compilation tools, release 11.1, V11.1.105\n",
            "Build cuda_11.1.TC455_06.29190527_0\n"
          ]
        }
      ]
    },
    {
      "cell_type": "markdown",
      "source": [
        "## Downloading the dataset MOT17"
      ],
      "metadata": {
        "id": "mf78GEJLnCFt"
      }
    },
    {
      "cell_type": "markdown",
      "source": [
        "### Method 1 Download file locally\n",
        "\n",
        "Available here: https://motchallenge.net/data/MOT17/\n"
      ],
      "metadata": {
        "id": "3jPlhWIwnKC7"
      }
    },
    {
      "cell_type": "markdown",
      "source": [
        "### Method 2 Google Drive\n",
        "\n",
        "The dataset set is 5.5 GB all data is lost when google colab is terminated.\n",
        "\n",
        "Make sure to [mount Google drive](#scrollTo=jjYzsqudSScm) to keep data.\n",
        "```\n",
        "#  Example directory to store on Google drive \n",
        "!wget -P /content/gdrive/MyDrive/Example https://motchallenge.net/data/MOT17.zip\n",
        "```\n",
        "\n",
        "\n"
      ],
      "metadata": {
        "id": "CZmzP1tRWa-c"
      }
    },
    {
      "cell_type": "code",
      "source": [
        "#cd <BoT-SORT_dir>\n",
        "%cd /content/BoT-SORT"
      ],
      "metadata": {
        "colab": {
          "base_uri": "https://localhost:8080/",
          "height": 35
        },
        "id": "kLYDofrQajIF",
        "outputId": "593d84f7-762f-4ad4-b0f4-48f0f3000a5e"
      },
      "execution_count": null,
      "outputs": [
        {
          "output_type": "execute_result",
          "data": {
            "text/plain": [
              "'/content/BoT-SORT'"
            ],
            "application/vnd.google.colaboratory.intrinsic+json": {
              "type": "string"
            }
          },
          "metadata": {},
          "execution_count": 9
        }
      ]
    },
    {
      "cell_type": "code",
      "source": [
        "# Download MOT17 and MOT20 from the official website.\n",
        "!wget -P /content/gdrive/MyDrive/datasets https://motchallenge.net/data/MOT17.zip"
      ],
      "metadata": {
        "id": "LPvLN7iuWHce"
      },
      "execution_count": null,
      "outputs": []
    },
    {
      "cell_type": "code",
      "source": [
        "#unzip file solution: https://stackoverflow.com/a/3451150/11464527\n",
        "import zipfile\n",
        "path_to_zip_file = './Download/MOT17.zip'\n",
        "directory_to_extract_to = './fast_reid/datasets'\n",
        "with zipfile.ZipFile(path_to_zip_file, 'r') as zip_ref:\n",
        "    zip_ref.extractall(directory_to_extract_to)"
      ],
      "metadata": {
        "id": "pg7BD9K0Z9lN"
      },
      "execution_count": null,
      "outputs": []
    },
    {
      "cell_type": "code",
      "source": [
        "#copy dir: Source Destination\n",
        "!cp -r /content/gdrive/MyDrive/Colab/BoT-SORT-data/MOT17 /content/gdrive/MyDrive/gcolab/BoT-SORT/fast_reid/datasets"
      ],
      "metadata": {
        "id": "hVR2L4nmZ7D1"
      },
      "execution_count": null,
      "outputs": []
    },
    {
      "cell_type": "code",
      "source": [
        "#rsync --info=progress2 SOURCE DEST #shows progress solution from https://unix.stackexchange.com/q/68582/455321\n",
        "#This process can take +1hour very slow\n",
        "!rsync -r --info=progress2 /content/gdrive/MyDrive/Colab/BoT-SORT-data/MOT17 ./fast_reid/datasets"
      ],
      "metadata": {
        "id": "1UyQ2etVcHj2"
      },
      "execution_count": null,
      "outputs": []
    },
    {
      "cell_type": "markdown",
      "source": [
        "### Data Preparation\n",
        "For training the ReID, detection patches must be generated as follows:"
      ],
      "metadata": {
        "id": "K3JQ3ciZe2jF"
      }
    },
    {
      "cell_type": "code",
      "source": [
        "!export FASTREID_DATASETS=/content/gdrive/MyDrive/Colab/BoT-SORT-data/"
      ],
      "metadata": {
        "id": "gRaub7-di2S5"
      },
      "execution_count": null,
      "outputs": []
    },
    {
      "cell_type": "code",
      "source": [
        "# For MOT17 \n",
        "!python3 fast_reid/datasets/generate_mot_patches.py --data_path /content/gdrive/MyDrive/Colab/BoT-SORT-data/ --mot 17"
      ],
      "metadata": {
        "id": "U7k9rgapepps",
        "colab": {
          "base_uri": "https://localhost:8080/"
        },
        "outputId": "f10eebab-9e99-462a-cf01-3d770dabe0c9"
      },
      "execution_count": null,
      "outputs": [
        {
          "output_type": "stream",
          "name": "stdout",
          "text": [
            "MOT17-02-DPM\n",
            "0\n",
            "MOT17-02-FRCNN\n",
            "83\n",
            "MOT17-02-SDP\n",
            "166\n",
            "MOT17-04-DPM\n",
            "249\n",
            "MOT17-04-FRCNN\n",
            "390\n",
            "MOT17-04-SDP\n",
            "531\n",
            "MOT17-05-DPM\n",
            "672\n",
            "MOT17-05-FRCNN\n",
            "828\n",
            "MOT17-05-SDP\n",
            "984\n",
            "MOT17-09-DPM\n",
            "1140\n",
            "MOT17-09-FRCNN\n",
            "1204\n",
            "MOT17-09-SDP\n",
            "1268\n",
            "MOT17-10-DPM\n",
            "1332\n",
            "MOT17-10-FRCNN\n",
            "1405\n",
            "MOT17-10-SDP\n",
            "1478\n",
            "MOT17-11-DPM\n",
            "1551\n",
            "MOT17-11-FRCNN\n",
            "1641\n",
            "MOT17-11-SDP\n",
            "1731\n",
            "MOT17-13-DPM\n",
            "1821\n",
            "MOT17-13-FRCNN\n",
            "2009\n",
            "MOT17-13-SDP\n",
            "2197\n"
          ]
        }
      ]
    },
    {
      "cell_type": "markdown",
      "source": [
        "### Training\n",
        "\n",
        "Make sure you are in the BoT-SORT main directory `<BoT-SORT_dir>`."
      ],
      "metadata": {
        "id": "3G_yPXpUfGpm"
      }
    },
    {
      "cell_type": "code",
      "source": [
        "#cd <BoT-SORT_dir>\n",
        "%cd /content/BoT-SORT"
      ],
      "metadata": {
        "colab": {
          "base_uri": "https://localhost:8080/",
          "height": 35
        },
        "id": "q7V7uS3dwejv",
        "outputId": "4c30dfbc-06de-49c5-aac3-ed82a4565354"
      },
      "execution_count": null,
      "outputs": [
        {
          "output_type": "execute_result",
          "data": {
            "text/plain": [
              "'/content/BoT-SORT'"
            ],
            "application/vnd.google.colaboratory.intrinsic+json": {
              "type": "string"
            }
          },
          "metadata": {},
          "execution_count": 9
        }
      ]
    },
    {
      "cell_type": "code",
      "source": [
        "# For training MOT17 \n",
        "!python3 fast_reid/tools/train_net.py --config-file ./fast_reid/configs/MOT17/sbs_S50.yml MODEL.DEVICE \"cuda:0\""
      ],
      "metadata": {
        "id": "KPTLfeYwfHjj",
        "colab": {
          "base_uri": "https://localhost:8080/"
        },
        "outputId": "14952294-ac30-445b-c06e-3b17df166856"
      },
      "execution_count": null,
      "outputs": [
        {
          "output_type": "stream",
          "name": "stdout",
          "text": [
            "Command Line Args: Namespace(config_file='./fast_reid/configs/MOT17/sbs_S50.yml', dist_url='tcp://127.0.0.1:49152', eval_only=False, machine_rank=0, num_gpus=1, num_machines=1, opts=['MODEL.DEVICE', 'cuda:0'], resume=False)\n",
            "\u001b[32m[07/08 15:38:51 fastreid]: \u001b[0mRank of current process: 0. World size: 1\n",
            "\u001b[32m[07/08 15:38:52 fastreid]: \u001b[0mEnvironment info:\n",
            "----------------------  ----------------------------------------------------------------\n",
            "sys.platform            linux\n",
            "Python                  3.7.13 (default, Apr 24 2022, 01:04:09) [GCC 7.5.0]\n",
            "numpy                   1.21.6\n",
            "fastreid                failed to import\n",
            "FASTREID_ENV_MODULE     <not set>\n",
            "PyTorch                 1.11.0+cu113 @/usr/local/lib/python3.7/dist-packages/torch\n",
            "PyTorch debug build     False\n",
            "GPU available           True\n",
            "GPU 0                   Tesla P100-PCIE-16GB\n",
            "CUDA_HOME               /usr/local/cuda\n",
            "Pillow                  7.1.2\n",
            "torchvision             0.12.0+cu113 @/usr/local/lib/python3.7/dist-packages/torchvision\n",
            "torchvision arch flags  sm_35, sm_50, sm_60, sm_70, sm_75, sm_80, sm_86\n",
            "cv2                     4.1.2\n",
            "----------------------  ----------------------------------------------------------------\n",
            "PyTorch built with:\n",
            "  - GCC 7.3\n",
            "  - C++ Version: 201402\n",
            "  - Intel(R) Math Kernel Library Version 2020.0.0 Product Build 20191122 for Intel(R) 64 architecture applications\n",
            "  - Intel(R) MKL-DNN v2.5.2 (Git Hash a9302535553c73243c632ad3c4c80beec3d19a1e)\n",
            "  - OpenMP 201511 (a.k.a. OpenMP 4.5)\n",
            "  - LAPACK is enabled (usually provided by MKL)\n",
            "  - NNPACK is enabled\n",
            "  - CPU capability usage: AVX2\n",
            "  - CUDA Runtime 11.3\n",
            "  - NVCC architecture flags: -gencode;arch=compute_37,code=sm_37;-gencode;arch=compute_50,code=sm_50;-gencode;arch=compute_60,code=sm_60;-gencode;arch=compute_70,code=sm_70;-gencode;arch=compute_75,code=sm_75;-gencode;arch=compute_80,code=sm_80;-gencode;arch=compute_86,code=sm_86\n",
            "  - CuDNN 8.2\n",
            "  - Magma 2.5.2\n",
            "  - Build settings: BLAS_INFO=mkl, BUILD_TYPE=Release, CUDA_VERSION=11.3, CUDNN_VERSION=8.2.0, CXX_COMPILER=/opt/rh/devtoolset-7/root/usr/bin/c++, CXX_FLAGS= -Wno-deprecated -fvisibility-inlines-hidden -DUSE_PTHREADPOOL -fopenmp -DNDEBUG -DUSE_KINETO -DUSE_FBGEMM -DUSE_QNNPACK -DUSE_PYTORCH_QNNPACK -DUSE_XNNPACK -DSYMBOLICATE_MOBILE_DEBUG_HANDLE -DEDGE_PROFILER_USE_KINETO -O2 -fPIC -Wno-narrowing -Wall -Wextra -Werror=return-type -Wno-missing-field-initializers -Wno-type-limits -Wno-array-bounds -Wno-unknown-pragmas -Wno-sign-compare -Wno-unused-parameter -Wno-unused-function -Wno-unused-result -Wno-unused-local-typedefs -Wno-strict-overflow -Wno-strict-aliasing -Wno-error=deprecated-declarations -Wno-stringop-overflow -Wno-psabi -Wno-error=pedantic -Wno-error=redundant-decls -Wno-error=old-style-cast -fdiagnostics-color=always -faligned-new -Wno-unused-but-set-variable -Wno-maybe-uninitialized -fno-math-errno -fno-trapping-math -Werror=format -Wno-stringop-overflow, LAPACK_INFO=mkl, PERF_WITH_AVX=1, PERF_WITH_AVX2=1, PERF_WITH_AVX512=1, TORCH_VERSION=1.11.0, USE_CUDA=ON, USE_CUDNN=ON, USE_EXCEPTION_PTR=1, USE_GFLAGS=OFF, USE_GLOG=OFF, USE_MKL=ON, USE_MKLDNN=OFF, USE_MPI=OFF, USE_NCCL=ON, USE_NNPACK=ON, USE_OPENMP=ON, USE_ROCM=OFF, \n",
            "\n",
            "\u001b[32m[07/08 15:38:52 fastreid]: \u001b[0mCommand line arguments: Namespace(config_file='./fast_reid/configs/MOT17/sbs_S50.yml', dist_url='tcp://127.0.0.1:49152', eval_only=False, machine_rank=0, num_gpus=1, num_machines=1, opts=['MODEL.DEVICE', 'cuda:0'], resume=False)\n",
            "\u001b[32m[07/08 15:38:52 fastreid]: \u001b[0mContents of args.config_file=./fast_reid/configs/MOT17/sbs_S50.yml:\n",
            "_BASE_: ../Base-SBS.yml\n",
            "\n",
            "MODEL:\n",
            "  BACKBONE:\n",
            "    NAME: build_resnest_backbone\n",
            "\n",
            "DATASETS:\n",
            "  NAMES: (\"MOT17\",)\n",
            "  TESTS: (\"MOT17\",)\n",
            "\n",
            "OUTPUT_DIR: logs/MOT17/sbs_S50\n",
            "\n",
            "\u001b[32m[07/08 15:38:52 fastreid]: \u001b[0mRunning with full config:\n",
            "CUDNN_BENCHMARK: False\n",
            "DATALOADER:\n",
            "  NUM_INSTANCE: 16\n",
            "  NUM_WORKERS: 8\n",
            "  SAMPLER_TRAIN: NaiveIdentitySampler\n",
            "  SET_WEIGHT: []\n",
            "DATASETS:\n",
            "  COMBINEALL: False\n",
            "  NAMES: ('MOT17',)\n",
            "  TESTS: ('MOT17',)\n",
            "INPUT:\n",
            "  AFFINE:\n",
            "    ENABLED: False\n",
            "  AUGMIX:\n",
            "    ENABLED: False\n",
            "    PROB: 0.0\n",
            "  AUTOAUG:\n",
            "    ENABLED: True\n",
            "    PROB: 0.1\n",
            "  CJ:\n",
            "    BRIGHTNESS: 0.15\n",
            "    CONTRAST: 0.15\n",
            "    ENABLED: False\n",
            "    HUE: 0.1\n",
            "    PROB: 0.5\n",
            "    SATURATION: 0.1\n",
            "  CROP:\n",
            "    ENABLED: False\n",
            "    RATIO: [0.75, 1.3333333333333333]\n",
            "    SCALE: [0.16, 1]\n",
            "    SIZE: [224, 224]\n",
            "  FLIP:\n",
            "    ENABLED: True\n",
            "    PROB: 0.5\n",
            "  PADDING:\n",
            "    ENABLED: True\n",
            "    MODE: constant\n",
            "    SIZE: 10\n",
            "  REA:\n",
            "    ENABLED: True\n",
            "    PROB: 0.5\n",
            "    VALUE: [123.675, 116.28, 103.53]\n",
            "  RPT:\n",
            "    ENABLED: False\n",
            "    PROB: 0.5\n",
            "  SIZE_TEST: [384, 128]\n",
            "  SIZE_TRAIN: [384, 128]\n",
            "KD:\n",
            "  EMA:\n",
            "    ENABLED: False\n",
            "    MOMENTUM: 0.999\n",
            "  MODEL_CONFIG: []\n",
            "  MODEL_WEIGHTS: []\n",
            "MODEL:\n",
            "  BACKBONE:\n",
            "    ATT_DROP_RATE: 0.0\n",
            "    DEPTH: 50x\n",
            "    DROP_PATH_RATIO: 0.1\n",
            "    DROP_RATIO: 0.0\n",
            "    FEAT_DIM: 2048\n",
            "    LAST_STRIDE: 1\n",
            "    NAME: build_resnest_backbone\n",
            "    NORM: BN\n",
            "    PRETRAIN: True\n",
            "    PRETRAIN_PATH: \n",
            "    SIE_COE: 3.0\n",
            "    STRIDE_SIZE: (16, 16)\n",
            "    WITH_IBN: False\n",
            "    WITH_NL: True\n",
            "    WITH_SE: False\n",
            "  DEVICE: cuda:0\n",
            "  FREEZE_LAYERS: ['backbone']\n",
            "  HEADS:\n",
            "    CLS_LAYER: CircleSoftmax\n",
            "    EMBEDDING_DIM: 0\n",
            "    MARGIN: 0.35\n",
            "    NAME: EmbeddingHead\n",
            "    NECK_FEAT: after\n",
            "    NORM: BN\n",
            "    NUM_CLASSES: 0\n",
            "    POOL_LAYER: GeneralizedMeanPoolingP\n",
            "    SCALE: 64\n",
            "    WITH_BNNECK: True\n",
            "  LOSSES:\n",
            "    CE:\n",
            "      ALPHA: 0.2\n",
            "      EPSILON: 0.1\n",
            "      SCALE: 1.0\n",
            "    CIRCLE:\n",
            "      GAMMA: 128\n",
            "      MARGIN: 0.25\n",
            "      SCALE: 1.0\n",
            "    COSFACE:\n",
            "      GAMMA: 128\n",
            "      MARGIN: 0.25\n",
            "      SCALE: 1.0\n",
            "    FL:\n",
            "      ALPHA: 0.25\n",
            "      GAMMA: 2\n",
            "      SCALE: 1.0\n",
            "    NAME: ('CrossEntropyLoss', 'TripletLoss')\n",
            "    TRI:\n",
            "      HARD_MINING: True\n",
            "      MARGIN: 0.0\n",
            "      NORM_FEAT: False\n",
            "      SCALE: 1.0\n",
            "  META_ARCHITECTURE: Baseline\n",
            "  PIXEL_MEAN: [123.675, 116.28, 103.53]\n",
            "  PIXEL_STD: [58.395, 57.120000000000005, 57.375]\n",
            "  QUEUE_SIZE: 8192\n",
            "  WEIGHTS: \n",
            "OUTPUT_DIR: logs/MOT17/sbs_S50\n",
            "SOLVER:\n",
            "  AMP:\n",
            "    ENABLED: True\n",
            "  BASE_LR: 0.00035\n",
            "  BIAS_LR_FACTOR: 1.0\n",
            "  CHECKPOINT_PERIOD: 1\n",
            "  CLIP_GRADIENTS:\n",
            "    CLIP_TYPE: norm\n",
            "    CLIP_VALUE: 5.0\n",
            "    ENABLED: False\n",
            "    NORM_TYPE: 2.0\n",
            "  DELAY_EPOCHS: 30\n",
            "  ETA_MIN_LR: 7e-07\n",
            "  FREEZE_ITERS: 1000\n",
            "  GAMMA: 0.1\n",
            "  HEADS_LR_FACTOR: 1.0\n",
            "  IMS_PER_BATCH: 64\n",
            "  MAX_EPOCH: 60\n",
            "  MOMENTUM: 0.9\n",
            "  NESTEROV: False\n",
            "  OPT: Adam\n",
            "  SCHED: CosineAnnealingLR\n",
            "  STEPS: [40, 90]\n",
            "  WARMUP_FACTOR: 0.1\n",
            "  WARMUP_ITERS: 2000\n",
            "  WARMUP_METHOD: linear\n",
            "  WEIGHT_DECAY: 0.0005\n",
            "  WEIGHT_DECAY_BIAS: 0.0005\n",
            "  WEIGHT_DECAY_NORM: 0.0005\n",
            "TEST:\n",
            "  AQE:\n",
            "    ALPHA: 3.0\n",
            "    ENABLED: False\n",
            "    QE_K: 5\n",
            "    QE_TIME: 1\n",
            "  EVAL_PERIOD: 1000\n",
            "  FLIP:\n",
            "    ENABLED: False\n",
            "  IMS_PER_BATCH: 128\n",
            "  METRIC: cosine\n",
            "  PRECISE_BN:\n",
            "    DATASET: Market1501\n",
            "    ENABLED: False\n",
            "    NUM_ITER: 300\n",
            "  RERANK:\n",
            "    ENABLED: False\n",
            "    K1: 20\n",
            "    K2: 6\n",
            "    LAMBDA: 0.3\n",
            "  ROC:\n",
            "    ENABLED: False\n",
            "\u001b[32m[07/08 15:38:52 fastreid]: \u001b[0mFull config saved to /content/BoT-SORT/logs/MOT17/sbs_S50/config.yaml\n",
            "/usr/local/lib/python3.7/dist-packages/torchvision/transforms/transforms.py:333: UserWarning: Argument interpolation should be of type InterpolationMode instead of int. Please, use InterpolationMode enum.\n",
            "  \"Argument interpolation should be of type InterpolationMode instead of int. \"\n",
            "Traceback (most recent call last):\n",
            "  File \"fast_reid/tools/train_net.py\", line 60, in <module>\n",
            "    args=(args,),\n",
            "  File \"/content/BoT-SORT/fast_reid/fastreid/engine/launch.py\", line 71, in launch\n",
            "    main_func(*args)\n",
            "  File \"fast_reid/tools/train_net.py\", line 43, in main\n",
            "    trainer = DefaultTrainer(cfg)\n",
            "  File \"/content/BoT-SORT/fast_reid/fastreid/engine/defaults.py\", line 203, in __init__\n",
            "    data_loader = self.build_train_loader(cfg)\n",
            "  File \"/content/BoT-SORT/fast_reid/fastreid/engine/defaults.py\", line 402, in build_train_loader\n",
            "    return build_reid_train_loader(cfg, combineall=cfg.DATASETS.COMBINEALL)\n",
            "  File \"/content/BoT-SORT/fast_reid/fastreid/config/config.py\", line 264, in wrapped\n",
            "    explicit_args = _get_args_from_config(from_config, *args, **kwargs)\n",
            "  File \"/content/BoT-SORT/fast_reid/fastreid/config/config.py\", line 293, in _get_args_from_config\n",
            "    ret = from_config_func(*args, **kwargs)\n",
            "  File \"/content/BoT-SORT/fast_reid/fastreid/data/build.py\", line 40, in _train_loader_from_config\n",
            "    data = DATASET_REGISTRY.get(d)(root=_root, **kwargs)\n",
            "  File \"/content/BoT-SORT/fast_reid/fastreid/data/datasets/mot17.py\", line 70, in __init__\n",
            "    super(MOT17, self).__init__(train, query, gallery, **kwargs)\n",
            "  File \"/content/BoT-SORT/fast_reid/fastreid/data/datasets/bases.py\", line 47, in __init__\n",
            "    self.data = self.train\n",
            "  File \"/content/BoT-SORT/fast_reid/fastreid/data/datasets/bases.py\", line 59, in train\n",
            "    self._train = self._train()\n",
            "  File \"/content/BoT-SORT/fast_reid/fastreid/data/datasets/mot17.py\", line 65, in <lambda>\n",
            "    train = lambda: self.process_dir(self.train_dir)\n",
            "  File \"/content/BoT-SORT/fast_reid/fastreid/data/datasets/mot17.py\", line 79, in process_dir\n",
            "    pid, camid = map(int, pattern.search(img_path).groups())\n",
            "AttributeError: 'NoneType' object has no attribute 'groups'\n"
          ]
        }
      ]
    },
    {
      "cell_type": "markdown",
      "source": [
        "### Tracking"
      ],
      "metadata": {
        "id": "6JUNWYdyfMn8"
      }
    },
    {
      "cell_type": "markdown",
      "source": [
        "*   Test on MOT17\n",
        "\n",
        "\n"
      ],
      "metadata": {
        "id": "duuYkR9ZSIP5"
      }
    },
    {
      "cell_type": "code",
      "source": [
        "#cd <BoT-SORT_dir>\n",
        "%cd /content/BoT-SORT\n",
        "\n",
        "!python3 tools/track.py /content/gdrive/MyDrive/Colab/BoT-SORT-data/MOT17 --default-parameters --with-reid --benchmark \"MOT17\" --eval \"test\" --fp16 --fuse"
      ],
      "metadata": {
        "id": "JwWkB7WgjDOA",
        "colab": {
          "base_uri": "https://localhost:8080/"
        },
        "outputId": "23f046fc-2aaf-4ca5-b46a-e58de4714b22"
      },
      "execution_count": null,
      "outputs": [
        {
          "output_type": "stream",
          "name": "stdout",
          "text": [
            "/content/BoT-SORT\n",
            "\u001b[32m2022-07-10 18:58:26.167\u001b[0m | \u001b[1mINFO    \u001b[0m | \u001b[36m__main__\u001b[0m:\u001b[36mmain\u001b[0m:\u001b[36m224\u001b[0m - \u001b[1mArgs: Namespace(ablation=False, appearance_thresh=0.25, aspect_ratio_thresh=1.6, batch_size=1, benchmark='MOT17', ckpt='./pretrained/bytetrack_x_mot17.pth.tar', cmc_method='file', conf=None, default_parameters=True, device=device(type='cuda'), exp_file='./yolox/exps/example/mot/yolox_x_mix_det.py', experiment_name='yolox_x_mix_det', fast_reid_config='fast_reid/configs/MOT17/sbs_S50.yml', fast_reid_weights='pretrained/mot17_sbs_S50.pth', fp16=True, fps=30, fuse=True, match_thresh=0.8, min_box_area=10, mot20=False, name='MOT17-02-FRCNN', new_track_thresh=0.7, nms=None, path='/content/gdrive/MyDrive/Colab/BoT-SORT-data/MOT17/train/MOT17-02-FRCNN/img1', proximity_thresh=0.5, save_frames=False, split_to_eval='test', track_buffer=30, track_high_thresh=0.6, track_low_thresh=0.1, trt=False, tsize=None, with_reid=True)\u001b[0m\n",
            "/usr/local/lib/python3.7/dist-packages/torch/functional.py:568: UserWarning: torch.meshgrid: in an upcoming release, it will be required to pass the indexing argument. (Triggered internally at  ../aten/src/ATen/native/TensorShape.cpp:2228.)\n",
            "  return _VF.meshgrid(tensors, **kwargs)  # type: ignore[attr-defined]\n",
            "\u001b[32m2022-07-10 18:58:40.510\u001b[0m | \u001b[1mINFO    \u001b[0m | \u001b[36m__main__\u001b[0m:\u001b[36mmain\u001b[0m:\u001b[36m234\u001b[0m - \u001b[1mModel Summary: Params: 99.00M, Gflops: 793.21\u001b[0m\n",
            "\u001b[32m2022-07-10 18:58:40.513\u001b[0m | \u001b[1mINFO    \u001b[0m | \u001b[36m__main__\u001b[0m:\u001b[36mmain\u001b[0m:\u001b[36m241\u001b[0m - \u001b[1mloading checkpoint\u001b[0m\n",
            "\u001b[32m2022-07-10 18:58:45.256\u001b[0m | \u001b[1mINFO    \u001b[0m | \u001b[36m__main__\u001b[0m:\u001b[36mmain\u001b[0m:\u001b[36m246\u001b[0m - \u001b[1mloaded checkpoint done.\u001b[0m\n",
            "\u001b[32m2022-07-10 18:58:45.256\u001b[0m | \u001b[1mINFO    \u001b[0m | \u001b[36m__main__\u001b[0m:\u001b[36mmain\u001b[0m:\u001b[36m249\u001b[0m - \u001b[1m\tFusing model...\u001b[0m\n",
            "/usr/local/lib/python3.7/dist-packages/torch/_tensor.py:1104: UserWarning: The .grad attribute of a Tensor that is not a leaf Tensor is being accessed. Its .grad attribute won't be populated during autograd.backward(). If you indeed want the .grad field to be populated for a non-leaf Tensor, use .retain_grad() on the non-leaf Tensor. If you access the non-leaf Tensor by mistake, make sure you access the leaf Tensor instead. See github.com/pytorch/pytorch/pull/30531 for more informations. (Triggered internally at  aten/src/ATen/core/TensorBody.h:475.)\n",
            "  return self._grad\n",
            "Skip loading parameter 'heads.weight' to the model due to incompatible shapes: (487, 2048) in the checkpoint but (0, 2048) in the model! You might want to double check if this is expected.\n",
            "\u001b[32m2022-07-10 18:58:58.930\u001b[0m | \u001b[1mINFO    \u001b[0m | \u001b[36m__main__\u001b[0m:\u001b[36mimage_track\u001b[0m:\u001b[36m203\u001b[0m - \u001b[1mProcessing frame 20/600 (3.24 fps)\u001b[0m\n",
            "\u001b[32m2022-07-10 18:59:07.826\u001b[0m | \u001b[1mINFO    \u001b[0m | \u001b[36m__main__\u001b[0m:\u001b[36mimage_track\u001b[0m:\u001b[36m203\u001b[0m - \u001b[1mProcessing frame 40/600 (3.26 fps)\u001b[0m\n",
            "\u001b[32m2022-07-10 18:59:16.725\u001b[0m | \u001b[1mINFO    \u001b[0m | \u001b[36m__main__\u001b[0m:\u001b[36mimage_track\u001b[0m:\u001b[36m203\u001b[0m - \u001b[1mProcessing frame 60/600 (3.26 fps)\u001b[0m\n",
            "\u001b[32m2022-07-10 18:59:25.594\u001b[0m | \u001b[1mINFO    \u001b[0m | \u001b[36m__main__\u001b[0m:\u001b[36mimage_track\u001b[0m:\u001b[36m203\u001b[0m - \u001b[1mProcessing frame 80/600 (3.27 fps)\u001b[0m\n",
            "\u001b[32m2022-07-10 18:59:34.651\u001b[0m | \u001b[1mINFO    \u001b[0m | \u001b[36m__main__\u001b[0m:\u001b[36mimage_track\u001b[0m:\u001b[36m203\u001b[0m - \u001b[1mProcessing frame 100/600 (3.27 fps)\u001b[0m\n",
            "\u001b[32m2022-07-10 18:59:43.713\u001b[0m | \u001b[1mINFO    \u001b[0m | \u001b[36m__main__\u001b[0m:\u001b[36mimage_track\u001b[0m:\u001b[36m203\u001b[0m - \u001b[1mProcessing frame 120/600 (3.25 fps)\u001b[0m\n",
            "\u001b[32m2022-07-10 18:59:53.126\u001b[0m | \u001b[1mINFO    \u001b[0m | \u001b[36m__main__\u001b[0m:\u001b[36mimage_track\u001b[0m:\u001b[36m203\u001b[0m - \u001b[1mProcessing frame 140/600 (3.22 fps)\u001b[0m\n",
            "\u001b[32m2022-07-10 19:00:03.024\u001b[0m | \u001b[1mINFO    \u001b[0m | \u001b[36m__main__\u001b[0m:\u001b[36mimage_track\u001b[0m:\u001b[36m203\u001b[0m - \u001b[1mProcessing frame 160/600 (3.16 fps)\u001b[0m\n",
            "\u001b[32m2022-07-10 19:00:12.894\u001b[0m | \u001b[1mINFO    \u001b[0m | \u001b[36m__main__\u001b[0m:\u001b[36mimage_track\u001b[0m:\u001b[36m203\u001b[0m - \u001b[1mProcessing frame 180/600 (3.12 fps)\u001b[0m\n",
            "\u001b[32m2022-07-10 19:00:22.676\u001b[0m | \u001b[1mINFO    \u001b[0m | \u001b[36m__main__\u001b[0m:\u001b[36mimage_track\u001b[0m:\u001b[36m203\u001b[0m - \u001b[1mProcessing frame 200/600 (3.09 fps)\u001b[0m\n",
            "\u001b[32m2022-07-10 19:00:32.713\u001b[0m | \u001b[1mINFO    \u001b[0m | \u001b[36m__main__\u001b[0m:\u001b[36mimage_track\u001b[0m:\u001b[36m203\u001b[0m - \u001b[1mProcessing frame 220/600 (3.06 fps)\u001b[0m\n",
            "\u001b[32m2022-07-10 19:00:42.740\u001b[0m | \u001b[1mINFO    \u001b[0m | \u001b[36m__main__\u001b[0m:\u001b[36mimage_track\u001b[0m:\u001b[36m203\u001b[0m - \u001b[1mProcessing frame 240/600 (3.03 fps)\u001b[0m\n",
            "\u001b[32m2022-07-10 19:00:52.712\u001b[0m | \u001b[1mINFO    \u001b[0m | \u001b[36m__main__\u001b[0m:\u001b[36mimage_track\u001b[0m:\u001b[36m203\u001b[0m - \u001b[1mProcessing frame 260/600 (3.01 fps)\u001b[0m\n",
            "\u001b[32m2022-07-10 19:01:02.755\u001b[0m | \u001b[1mINFO    \u001b[0m | \u001b[36m__main__\u001b[0m:\u001b[36mimage_track\u001b[0m:\u001b[36m203\u001b[0m - \u001b[1mProcessing frame 280/600 (2.99 fps)\u001b[0m\n",
            "\u001b[32m2022-07-10 19:01:12.906\u001b[0m | \u001b[1mINFO    \u001b[0m | \u001b[36m__main__\u001b[0m:\u001b[36mimage_track\u001b[0m:\u001b[36m203\u001b[0m - \u001b[1mProcessing frame 300/600 (2.97 fps)\u001b[0m\n",
            "\u001b[32m2022-07-10 19:01:23.153\u001b[0m | \u001b[1mINFO    \u001b[0m | \u001b[36m__main__\u001b[0m:\u001b[36mimage_track\u001b[0m:\u001b[36m203\u001b[0m - \u001b[1mProcessing frame 320/600 (2.95 fps)\u001b[0m\n",
            "\u001b[32m2022-07-10 19:01:33.183\u001b[0m | \u001b[1mINFO    \u001b[0m | \u001b[36m__main__\u001b[0m:\u001b[36mimage_track\u001b[0m:\u001b[36m203\u001b[0m - \u001b[1mProcessing frame 340/600 (2.94 fps)\u001b[0m\n",
            "\u001b[32m2022-07-10 19:01:43.227\u001b[0m | \u001b[1mINFO    \u001b[0m | \u001b[36m__main__\u001b[0m:\u001b[36mimage_track\u001b[0m:\u001b[36m203\u001b[0m - \u001b[1mProcessing frame 360/600 (2.93 fps)\u001b[0m\n",
            "\u001b[32m2022-07-10 19:01:53.238\u001b[0m | \u001b[1mINFO    \u001b[0m | \u001b[36m__main__\u001b[0m:\u001b[36mimage_track\u001b[0m:\u001b[36m203\u001b[0m - \u001b[1mProcessing frame 380/600 (2.92 fps)\u001b[0m\n",
            "\u001b[32m2022-07-10 19:02:02.992\u001b[0m | \u001b[1mINFO    \u001b[0m | \u001b[36m__main__\u001b[0m:\u001b[36mimage_track\u001b[0m:\u001b[36m203\u001b[0m - \u001b[1mProcessing frame 400/600 (2.92 fps)\u001b[0m\n",
            "\u001b[32m2022-07-10 19:02:12.774\u001b[0m | \u001b[1mINFO    \u001b[0m | \u001b[36m__main__\u001b[0m:\u001b[36mimage_track\u001b[0m:\u001b[36m203\u001b[0m - \u001b[1mProcessing frame 420/600 (2.91 fps)\u001b[0m\n",
            "\u001b[32m2022-07-10 19:02:22.348\u001b[0m | \u001b[1mINFO    \u001b[0m | \u001b[36m__main__\u001b[0m:\u001b[36mimage_track\u001b[0m:\u001b[36m203\u001b[0m - \u001b[1mProcessing frame 440/600 (2.91 fps)\u001b[0m\n",
            "\u001b[32m2022-07-10 19:02:31.338\u001b[0m | \u001b[1mINFO    \u001b[0m | \u001b[36m__main__\u001b[0m:\u001b[36mimage_track\u001b[0m:\u001b[36m203\u001b[0m - \u001b[1mProcessing frame 460/600 (2.93 fps)\u001b[0m\n",
            "\u001b[32m2022-07-10 19:02:40.831\u001b[0m | \u001b[1mINFO    \u001b[0m | \u001b[36m__main__\u001b[0m:\u001b[36mimage_track\u001b[0m:\u001b[36m203\u001b[0m - \u001b[1mProcessing frame 480/600 (2.93 fps)\u001b[0m\n",
            "\u001b[32m2022-07-10 19:02:50.815\u001b[0m | \u001b[1mINFO    \u001b[0m | \u001b[36m__main__\u001b[0m:\u001b[36mimage_track\u001b[0m:\u001b[36m203\u001b[0m - \u001b[1mProcessing frame 500/600 (2.92 fps)\u001b[0m\n",
            "\u001b[32m2022-07-10 19:03:00.841\u001b[0m | \u001b[1mINFO    \u001b[0m | \u001b[36m__main__\u001b[0m:\u001b[36mimage_track\u001b[0m:\u001b[36m203\u001b[0m - \u001b[1mProcessing frame 520/600 (2.91 fps)\u001b[0m\n",
            "\u001b[32m2022-07-10 19:03:10.758\u001b[0m | \u001b[1mINFO    \u001b[0m | \u001b[36m__main__\u001b[0m:\u001b[36mimage_track\u001b[0m:\u001b[36m203\u001b[0m - \u001b[1mProcessing frame 540/600 (2.91 fps)\u001b[0m\n",
            "\u001b[32m2022-07-10 19:03:20.610\u001b[0m | \u001b[1mINFO    \u001b[0m | \u001b[36m__main__\u001b[0m:\u001b[36mimage_track\u001b[0m:\u001b[36m203\u001b[0m - \u001b[1mProcessing frame 560/600 (2.91 fps)\u001b[0m\n",
            "\u001b[32m2022-07-10 19:03:30.472\u001b[0m | \u001b[1mINFO    \u001b[0m | \u001b[36m__main__\u001b[0m:\u001b[36mimage_track\u001b[0m:\u001b[36m203\u001b[0m - \u001b[1mProcessing frame 580/600 (2.90 fps)\u001b[0m\n",
            "\u001b[32m2022-07-10 19:03:39.304\u001b[0m | \u001b[1mINFO    \u001b[0m | \u001b[36m__main__\u001b[0m:\u001b[36mimage_track\u001b[0m:\u001b[36m203\u001b[0m - \u001b[1mProcessing frame 600/600 (2.91 fps)\u001b[0m\n",
            "\u001b[32m2022-07-10 19:03:39.310\u001b[0m | \u001b[1mINFO    \u001b[0m | \u001b[36m__main__\u001b[0m:\u001b[36mimage_track\u001b[0m:\u001b[36m209\u001b[0m - \u001b[1msave results to ./YOLOX_outputs/yolox_x_mix_det/track_results/MOT17-02-FRCNN.txt\u001b[0m\n",
            "\u001b[32m2022-07-10 19:03:39.371\u001b[0m | \u001b[1mINFO    \u001b[0m | \u001b[36m__main__\u001b[0m:\u001b[36mmain\u001b[0m:\u001b[36m224\u001b[0m - \u001b[1mArgs: Namespace(ablation=False, appearance_thresh=0.25, aspect_ratio_thresh=1.6, batch_size=1, benchmark='MOT17', ckpt='./pretrained/bytetrack_x_mot17.pth.tar', cmc_method='file', conf=None, default_parameters=True, device=device(type='cuda'), exp_file='./yolox/exps/example/mot/yolox_x_mix_det.py', experiment_name='yolox_x_mix_det', fast_reid_config='fast_reid/configs/MOT17/sbs_S50.yml', fast_reid_weights='pretrained/mot17_sbs_S50.pth', fp16=True, fps=30, fuse=True, match_thresh=0.8, min_box_area=10, mot20=False, name='MOT17-02-DPM', new_track_thresh=0.7, nms=None, path='/content/gdrive/MyDrive/Colab/BoT-SORT-data/MOT17/train/MOT17-02-DPM/img1', proximity_thresh=0.5, save_frames=False, split_to_eval='test', track_buffer=30, track_high_thresh=0.6, track_low_thresh=0.1, trt=False, tsize=None, with_reid=True)\u001b[0m\n",
            "\u001b[32m2022-07-10 19:03:40.667\u001b[0m | \u001b[1mINFO    \u001b[0m | \u001b[36m__main__\u001b[0m:\u001b[36mmain\u001b[0m:\u001b[36m234\u001b[0m - \u001b[1mModel Summary: Params: 99.00M, Gflops: 793.21\u001b[0m\n",
            "\u001b[32m2022-07-10 19:03:40.669\u001b[0m | \u001b[1mINFO    \u001b[0m | \u001b[36m__main__\u001b[0m:\u001b[36mmain\u001b[0m:\u001b[36m241\u001b[0m - \u001b[1mloading checkpoint\u001b[0m\n",
            "\u001b[32m2022-07-10 19:03:41.365\u001b[0m | \u001b[1mINFO    \u001b[0m | \u001b[36m__main__\u001b[0m:\u001b[36mmain\u001b[0m:\u001b[36m246\u001b[0m - \u001b[1mloaded checkpoint done.\u001b[0m\n",
            "\u001b[32m2022-07-10 19:03:41.365\u001b[0m | \u001b[1mINFO    \u001b[0m | \u001b[36m__main__\u001b[0m:\u001b[36mmain\u001b[0m:\u001b[36m249\u001b[0m - \u001b[1m\tFusing model...\u001b[0m\n",
            "Skip loading parameter 'heads.weight' to the model due to incompatible shapes: (487, 2048) in the checkpoint but (0, 2048) in the model! You might want to double check if this is expected.\n",
            "\u001b[32m2022-07-10 19:03:52.981\u001b[0m | \u001b[1mINFO    \u001b[0m | \u001b[36m__main__\u001b[0m:\u001b[36mimage_track\u001b[0m:\u001b[36m203\u001b[0m - \u001b[1mProcessing frame 20/600 (2.92 fps)\u001b[0m\n",
            "\u001b[32m2022-07-10 19:04:01.822\u001b[0m | \u001b[1mINFO    \u001b[0m | \u001b[36m__main__\u001b[0m:\u001b[36mimage_track\u001b[0m:\u001b[36m203\u001b[0m - \u001b[1mProcessing frame 40/600 (2.93 fps)\u001b[0m\n",
            "\u001b[32m2022-07-10 19:04:10.646\u001b[0m | \u001b[1mINFO    \u001b[0m | \u001b[36m__main__\u001b[0m:\u001b[36mimage_track\u001b[0m:\u001b[36m203\u001b[0m - \u001b[1mProcessing frame 60/600 (2.94 fps)\u001b[0m\n",
            "\u001b[32m2022-07-10 19:04:19.430\u001b[0m | \u001b[1mINFO    \u001b[0m | \u001b[36m__main__\u001b[0m:\u001b[36mimage_track\u001b[0m:\u001b[36m203\u001b[0m - \u001b[1mProcessing frame 80/600 (2.95 fps)\u001b[0m\n",
            "\u001b[32m2022-07-10 19:04:28.302\u001b[0m | \u001b[1mINFO    \u001b[0m | \u001b[36m__main__\u001b[0m:\u001b[36mimage_track\u001b[0m:\u001b[36m203\u001b[0m - \u001b[1mProcessing frame 100/600 (2.96 fps)\u001b[0m\n",
            "\u001b[32m2022-07-10 19:04:37.258\u001b[0m | \u001b[1mINFO    \u001b[0m | \u001b[36m__main__\u001b[0m:\u001b[36mimage_track\u001b[0m:\u001b[36m203\u001b[0m - \u001b[1mProcessing frame 120/600 (2.97 fps)\u001b[0m\n",
            "\u001b[32m2022-07-10 19:04:46.585\u001b[0m | \u001b[1mINFO    \u001b[0m | \u001b[36m__main__\u001b[0m:\u001b[36mimage_track\u001b[0m:\u001b[36m203\u001b[0m - \u001b[1mProcessing frame 140/600 (2.97 fps)\u001b[0m\n",
            "\u001b[32m2022-07-10 19:04:56.487\u001b[0m | \u001b[1mINFO    \u001b[0m | \u001b[36m__main__\u001b[0m:\u001b[36mimage_track\u001b[0m:\u001b[36m203\u001b[0m - \u001b[1mProcessing frame 160/600 (2.97 fps)\u001b[0m\n",
            "\u001b[32m2022-07-10 19:05:06.366\u001b[0m | \u001b[1mINFO    \u001b[0m | \u001b[36m__main__\u001b[0m:\u001b[36mimage_track\u001b[0m:\u001b[36m203\u001b[0m - \u001b[1mProcessing frame 180/600 (2.96 fps)\u001b[0m\n",
            "\u001b[32m2022-07-10 19:05:16.131\u001b[0m | \u001b[1mINFO    \u001b[0m | \u001b[36m__main__\u001b[0m:\u001b[36mimage_track\u001b[0m:\u001b[36m203\u001b[0m - \u001b[1mProcessing frame 200/600 (2.96 fps)\u001b[0m\n",
            "\u001b[32m2022-07-10 19:05:26.122\u001b[0m | \u001b[1mINFO    \u001b[0m | \u001b[36m__main__\u001b[0m:\u001b[36mimage_track\u001b[0m:\u001b[36m203\u001b[0m - \u001b[1mProcessing frame 220/600 (2.95 fps)\u001b[0m\n",
            "\u001b[32m2022-07-10 19:05:36.120\u001b[0m | \u001b[1mINFO    \u001b[0m | \u001b[36m__main__\u001b[0m:\u001b[36mimage_track\u001b[0m:\u001b[36m203\u001b[0m - \u001b[1mProcessing frame 240/600 (2.95 fps)\u001b[0m\n",
            "\u001b[32m2022-07-10 19:05:46.064\u001b[0m | \u001b[1mINFO    \u001b[0m | \u001b[36m__main__\u001b[0m:\u001b[36mimage_track\u001b[0m:\u001b[36m203\u001b[0m - \u001b[1mProcessing frame 260/600 (2.94 fps)\u001b[0m\n",
            "\u001b[32m2022-07-10 19:05:56.058\u001b[0m | \u001b[1mINFO    \u001b[0m | \u001b[36m__main__\u001b[0m:\u001b[36mimage_track\u001b[0m:\u001b[36m203\u001b[0m - \u001b[1mProcessing frame 280/600 (2.94 fps)\u001b[0m\n",
            "\u001b[32m2022-07-10 19:06:06.166\u001b[0m | \u001b[1mINFO    \u001b[0m | \u001b[36m__main__\u001b[0m:\u001b[36mimage_track\u001b[0m:\u001b[36m203\u001b[0m - \u001b[1mProcessing frame 300/600 (2.94 fps)\u001b[0m\n",
            "\u001b[32m2022-07-10 19:06:16.345\u001b[0m | \u001b[1mINFO    \u001b[0m | \u001b[36m__main__\u001b[0m:\u001b[36mimage_track\u001b[0m:\u001b[36m203\u001b[0m - \u001b[1mProcessing frame 320/600 (2.93 fps)\u001b[0m\n",
            "\u001b[32m2022-07-10 19:06:26.374\u001b[0m | \u001b[1mINFO    \u001b[0m | \u001b[36m__main__\u001b[0m:\u001b[36mimage_track\u001b[0m:\u001b[36m203\u001b[0m - \u001b[1mProcessing frame 340/600 (2.93 fps)\u001b[0m\n",
            "\u001b[32m2022-07-10 19:06:36.424\u001b[0m | \u001b[1mINFO    \u001b[0m | \u001b[36m__main__\u001b[0m:\u001b[36mimage_track\u001b[0m:\u001b[36m203\u001b[0m - \u001b[1mProcessing frame 360/600 (2.92 fps)\u001b[0m\n",
            "\u001b[32m2022-07-10 19:06:46.449\u001b[0m | \u001b[1mINFO    \u001b[0m | \u001b[36m__main__\u001b[0m:\u001b[36mimage_track\u001b[0m:\u001b[36m203\u001b[0m - \u001b[1mProcessing frame 380/600 (2.92 fps)\u001b[0m\n",
            "\u001b[32m2022-07-10 19:06:56.228\u001b[0m | \u001b[1mINFO    \u001b[0m | \u001b[36m__main__\u001b[0m:\u001b[36mimage_track\u001b[0m:\u001b[36m203\u001b[0m - \u001b[1mProcessing frame 400/600 (2.92 fps)\u001b[0m\n",
            "\u001b[32m2022-07-10 19:07:06.011\u001b[0m | \u001b[1mINFO    \u001b[0m | \u001b[36m__main__\u001b[0m:\u001b[36mimage_track\u001b[0m:\u001b[36m203\u001b[0m - \u001b[1mProcessing frame 420/600 (2.92 fps)\u001b[0m\n",
            "\u001b[32m2022-07-10 19:07:15.568\u001b[0m | \u001b[1mINFO    \u001b[0m | \u001b[36m__main__\u001b[0m:\u001b[36mimage_track\u001b[0m:\u001b[36m203\u001b[0m - \u001b[1mProcessing frame 440/600 (2.92 fps)\u001b[0m\n",
            "\u001b[32m2022-07-10 19:07:24.503\u001b[0m | \u001b[1mINFO    \u001b[0m | \u001b[36m__main__\u001b[0m:\u001b[36mimage_track\u001b[0m:\u001b[36m203\u001b[0m - \u001b[1mProcessing frame 460/600 (2.92 fps)\u001b[0m\n",
            "\u001b[32m2022-07-10 19:07:33.999\u001b[0m | \u001b[1mINFO    \u001b[0m | \u001b[36m__main__\u001b[0m:\u001b[36mimage_track\u001b[0m:\u001b[36m203\u001b[0m - \u001b[1mProcessing frame 480/600 (2.92 fps)\u001b[0m\n",
            "\u001b[32m2022-07-10 19:07:43.990\u001b[0m | \u001b[1mINFO    \u001b[0m | \u001b[36m__main__\u001b[0m:\u001b[36mimage_track\u001b[0m:\u001b[36m203\u001b[0m - \u001b[1mProcessing frame 500/600 (2.92 fps)\u001b[0m\n",
            "\u001b[32m2022-07-10 19:07:53.986\u001b[0m | \u001b[1mINFO    \u001b[0m | \u001b[36m__main__\u001b[0m:\u001b[36mimage_track\u001b[0m:\u001b[36m203\u001b[0m - \u001b[1mProcessing frame 520/600 (2.92 fps)\u001b[0m\n",
            "\u001b[32m2022-07-10 19:08:03.898\u001b[0m | \u001b[1mINFO    \u001b[0m | \u001b[36m__main__\u001b[0m:\u001b[36mimage_track\u001b[0m:\u001b[36m203\u001b[0m - \u001b[1mProcessing frame 540/600 (2.91 fps)\u001b[0m\n",
            "\u001b[32m2022-07-10 19:08:13.764\u001b[0m | \u001b[1mINFO    \u001b[0m | \u001b[36m__main__\u001b[0m:\u001b[36mimage_track\u001b[0m:\u001b[36m203\u001b[0m - \u001b[1mProcessing frame 560/600 (2.91 fps)\u001b[0m\n",
            "\u001b[32m2022-07-10 19:08:23.594\u001b[0m | \u001b[1mINFO    \u001b[0m | \u001b[36m__main__\u001b[0m:\u001b[36mimage_track\u001b[0m:\u001b[36m203\u001b[0m - \u001b[1mProcessing frame 580/600 (2.91 fps)\u001b[0m\n",
            "\u001b[32m2022-07-10 19:08:32.428\u001b[0m | \u001b[1mINFO    \u001b[0m | \u001b[36m__main__\u001b[0m:\u001b[36mimage_track\u001b[0m:\u001b[36m203\u001b[0m - \u001b[1mProcessing frame 600/600 (2.92 fps)\u001b[0m\n",
            "\u001b[32m2022-07-10 19:08:32.434\u001b[0m | \u001b[1mINFO    \u001b[0m | \u001b[36m__main__\u001b[0m:\u001b[36mimage_track\u001b[0m:\u001b[36m209\u001b[0m - \u001b[1msave results to ./YOLOX_outputs/yolox_x_mix_det/track_results/MOT17-02-DPM.txt\u001b[0m\n",
            "\u001b[32m2022-07-10 19:08:32.477\u001b[0m | \u001b[1mINFO    \u001b[0m | \u001b[36m__main__\u001b[0m:\u001b[36mmain\u001b[0m:\u001b[36m224\u001b[0m - \u001b[1mArgs: Namespace(ablation=False, appearance_thresh=0.25, aspect_ratio_thresh=1.6, batch_size=1, benchmark='MOT17', ckpt='./pretrained/bytetrack_x_mot17.pth.tar', cmc_method='file', conf=None, default_parameters=True, device=device(type='cuda'), exp_file='./yolox/exps/example/mot/yolox_x_mix_det.py', experiment_name='yolox_x_mix_det', fast_reid_config='fast_reid/configs/MOT17/sbs_S50.yml', fast_reid_weights='pretrained/mot17_sbs_S50.pth', fp16=True, fps=30, fuse=True, match_thresh=0.8, min_box_area=10, mot20=False, name='MOT17-02-SDP', new_track_thresh=0.7, nms=None, path='/content/gdrive/MyDrive/Colab/BoT-SORT-data/MOT17/train/MOT17-02-SDP/img1', proximity_thresh=0.5, save_frames=False, split_to_eval='test', track_buffer=30, track_high_thresh=0.6, track_low_thresh=0.1, trt=False, tsize=None, with_reid=True)\u001b[0m\n",
            "\u001b[32m2022-07-10 19:08:33.807\u001b[0m | \u001b[1mINFO    \u001b[0m | \u001b[36m__main__\u001b[0m:\u001b[36mmain\u001b[0m:\u001b[36m234\u001b[0m - \u001b[1mModel Summary: Params: 99.00M, Gflops: 793.21\u001b[0m\n",
            "\u001b[32m2022-07-10 19:08:33.810\u001b[0m | \u001b[1mINFO    \u001b[0m | \u001b[36m__main__\u001b[0m:\u001b[36mmain\u001b[0m:\u001b[36m241\u001b[0m - \u001b[1mloading checkpoint\u001b[0m\n",
            "\u001b[32m2022-07-10 19:08:34.477\u001b[0m | \u001b[1mINFO    \u001b[0m | \u001b[36m__main__\u001b[0m:\u001b[36mmain\u001b[0m:\u001b[36m246\u001b[0m - \u001b[1mloaded checkpoint done.\u001b[0m\n",
            "\u001b[32m2022-07-10 19:08:34.478\u001b[0m | \u001b[1mINFO    \u001b[0m | \u001b[36m__main__\u001b[0m:\u001b[36mmain\u001b[0m:\u001b[36m249\u001b[0m - \u001b[1m\tFusing model...\u001b[0m\n",
            "Skip loading parameter 'heads.weight' to the model due to incompatible shapes: (487, 2048) in the checkpoint but (0, 2048) in the model! You might want to double check if this is expected.\n",
            "\u001b[32m2022-07-10 19:08:46.180\u001b[0m | \u001b[1mINFO    \u001b[0m | \u001b[36m__main__\u001b[0m:\u001b[36mimage_track\u001b[0m:\u001b[36m203\u001b[0m - \u001b[1mProcessing frame 20/600 (2.92 fps)\u001b[0m\n",
            "\u001b[32m2022-07-10 19:08:55.085\u001b[0m | \u001b[1mINFO    \u001b[0m | \u001b[36m__main__\u001b[0m:\u001b[36mimage_track\u001b[0m:\u001b[36m203\u001b[0m - \u001b[1mProcessing frame 40/600 (2.93 fps)\u001b[0m\n",
            "\u001b[32m2022-07-10 19:09:03.969\u001b[0m | \u001b[1mINFO    \u001b[0m | \u001b[36m__main__\u001b[0m:\u001b[36mimage_track\u001b[0m:\u001b[36m203\u001b[0m - \u001b[1mProcessing frame 60/600 (2.93 fps)\u001b[0m\n",
            "\u001b[32m2022-07-10 19:09:12.800\u001b[0m | \u001b[1mINFO    \u001b[0m | \u001b[36m__main__\u001b[0m:\u001b[36mimage_track\u001b[0m:\u001b[36m203\u001b[0m - \u001b[1mProcessing frame 80/600 (2.94 fps)\u001b[0m\n",
            "\u001b[32m2022-07-10 19:09:21.727\u001b[0m | \u001b[1mINFO    \u001b[0m | \u001b[36m__main__\u001b[0m:\u001b[36mimage_track\u001b[0m:\u001b[36m203\u001b[0m - \u001b[1mProcessing frame 100/600 (2.94 fps)\u001b[0m\n",
            "\u001b[32m2022-07-10 19:09:30.733\u001b[0m | \u001b[1mINFO    \u001b[0m | \u001b[36m__main__\u001b[0m:\u001b[36mimage_track\u001b[0m:\u001b[36m203\u001b[0m - \u001b[1mProcessing frame 120/600 (2.94 fps)\u001b[0m\n",
            "\u001b[32m2022-07-10 19:09:40.121\u001b[0m | \u001b[1mINFO    \u001b[0m | \u001b[36m__main__\u001b[0m:\u001b[36mimage_track\u001b[0m:\u001b[36m203\u001b[0m - \u001b[1mProcessing frame 140/600 (2.95 fps)\u001b[0m\n",
            "\u001b[32m2022-07-10 19:09:50.060\u001b[0m | \u001b[1mINFO    \u001b[0m | \u001b[36m__main__\u001b[0m:\u001b[36mimage_track\u001b[0m:\u001b[36m203\u001b[0m - \u001b[1mProcessing frame 160/600 (2.94 fps)\u001b[0m\n",
            "\u001b[32m2022-07-10 19:09:59.979\u001b[0m | \u001b[1mINFO    \u001b[0m | \u001b[36m__main__\u001b[0m:\u001b[36mimage_track\u001b[0m:\u001b[36m203\u001b[0m - \u001b[1mProcessing frame 180/600 (2.94 fps)\u001b[0m\n",
            "\u001b[32m2022-07-10 19:10:09.894\u001b[0m | \u001b[1mINFO    \u001b[0m | \u001b[36m__main__\u001b[0m:\u001b[36mimage_track\u001b[0m:\u001b[36m203\u001b[0m - \u001b[1mProcessing frame 200/600 (2.94 fps)\u001b[0m\n",
            "\u001b[32m2022-07-10 19:10:19.961\u001b[0m | \u001b[1mINFO    \u001b[0m | \u001b[36m__main__\u001b[0m:\u001b[36mimage_track\u001b[0m:\u001b[36m203\u001b[0m - \u001b[1mProcessing frame 220/600 (2.94 fps)\u001b[0m\n",
            "\u001b[32m2022-07-10 19:10:30.127\u001b[0m | \u001b[1mINFO    \u001b[0m | \u001b[36m__main__\u001b[0m:\u001b[36mimage_track\u001b[0m:\u001b[36m203\u001b[0m - \u001b[1mProcessing frame 240/600 (2.93 fps)\u001b[0m\n",
            "\u001b[32m2022-07-10 19:10:40.133\u001b[0m | \u001b[1mINFO    \u001b[0m | \u001b[36m__main__\u001b[0m:\u001b[36mimage_track\u001b[0m:\u001b[36m203\u001b[0m - \u001b[1mProcessing frame 260/600 (2.93 fps)\u001b[0m\n",
            "\u001b[32m2022-07-10 19:10:50.186\u001b[0m | \u001b[1mINFO    \u001b[0m | \u001b[36m__main__\u001b[0m:\u001b[36mimage_track\u001b[0m:\u001b[36m203\u001b[0m - \u001b[1mProcessing frame 280/600 (2.93 fps)\u001b[0m\n",
            "\u001b[32m2022-07-10 19:11:00.321\u001b[0m | \u001b[1mINFO    \u001b[0m | \u001b[36m__main__\u001b[0m:\u001b[36mimage_track\u001b[0m:\u001b[36m203\u001b[0m - \u001b[1mProcessing frame 300/600 (2.93 fps)\u001b[0m\n",
            "\u001b[32m2022-07-10 19:11:10.555\u001b[0m | \u001b[1mINFO    \u001b[0m | \u001b[36m__main__\u001b[0m:\u001b[36mimage_track\u001b[0m:\u001b[36m203\u001b[0m - \u001b[1mProcessing frame 320/600 (2.92 fps)\u001b[0m\n",
            "\u001b[32m2022-07-10 19:11:20.616\u001b[0m | \u001b[1mINFO    \u001b[0m | \u001b[36m__main__\u001b[0m:\u001b[36mimage_track\u001b[0m:\u001b[36m203\u001b[0m - \u001b[1mProcessing frame 340/600 (2.92 fps)\u001b[0m\n",
            "\u001b[32m2022-07-10 19:11:30.664\u001b[0m | \u001b[1mINFO    \u001b[0m | \u001b[36m__main__\u001b[0m:\u001b[36mimage_track\u001b[0m:\u001b[36m203\u001b[0m - \u001b[1mProcessing frame 360/600 (2.92 fps)\u001b[0m\n",
            "\u001b[32m2022-07-10 19:11:40.683\u001b[0m | \u001b[1mINFO    \u001b[0m | \u001b[36m__main__\u001b[0m:\u001b[36mimage_track\u001b[0m:\u001b[36m203\u001b[0m - \u001b[1mProcessing frame 380/600 (2.92 fps)\u001b[0m\n",
            "\u001b[32m2022-07-10 19:11:50.491\u001b[0m | \u001b[1mINFO    \u001b[0m | \u001b[36m__main__\u001b[0m:\u001b[36mimage_track\u001b[0m:\u001b[36m203\u001b[0m - \u001b[1mProcessing frame 400/600 (2.92 fps)\u001b[0m\n",
            "\u001b[32m2022-07-10 19:12:00.290\u001b[0m | \u001b[1mINFO    \u001b[0m | \u001b[36m__main__\u001b[0m:\u001b[36mimage_track\u001b[0m:\u001b[36m203\u001b[0m - \u001b[1mProcessing frame 420/600 (2.92 fps)\u001b[0m\n",
            "\u001b[32m2022-07-10 19:12:09.863\u001b[0m | \u001b[1mINFO    \u001b[0m | \u001b[36m__main__\u001b[0m:\u001b[36mimage_track\u001b[0m:\u001b[36m203\u001b[0m - \u001b[1mProcessing frame 440/600 (2.92 fps)\u001b[0m\n",
            "\u001b[32m2022-07-10 19:12:18.821\u001b[0m | \u001b[1mINFO    \u001b[0m | \u001b[36m__main__\u001b[0m:\u001b[36mimage_track\u001b[0m:\u001b[36m203\u001b[0m - \u001b[1mProcessing frame 460/600 (2.92 fps)\u001b[0m\n",
            "\u001b[32m2022-07-10 19:12:28.339\u001b[0m | \u001b[1mINFO    \u001b[0m | \u001b[36m__main__\u001b[0m:\u001b[36mimage_track\u001b[0m:\u001b[36m203\u001b[0m - \u001b[1mProcessing frame 480/600 (2.92 fps)\u001b[0m\n",
            "\u001b[32m2022-07-10 19:12:38.334\u001b[0m | \u001b[1mINFO    \u001b[0m | \u001b[36m__main__\u001b[0m:\u001b[36mimage_track\u001b[0m:\u001b[36m203\u001b[0m - \u001b[1mProcessing frame 500/600 (2.92 fps)\u001b[0m\n",
            "\u001b[32m2022-07-10 19:12:48.351\u001b[0m | \u001b[1mINFO    \u001b[0m | \u001b[36m__main__\u001b[0m:\u001b[36mimage_track\u001b[0m:\u001b[36m203\u001b[0m - \u001b[1mProcessing frame 520/600 (2.92 fps)\u001b[0m\n",
            "\u001b[32m2022-07-10 19:12:58.298\u001b[0m | \u001b[1mINFO    \u001b[0m | \u001b[36m__main__\u001b[0m:\u001b[36mimage_track\u001b[0m:\u001b[36m203\u001b[0m - \u001b[1mProcessing frame 540/600 (2.91 fps)\u001b[0m\n",
            "\u001b[32m2022-07-10 19:13:08.176\u001b[0m | \u001b[1mINFO    \u001b[0m | \u001b[36m__main__\u001b[0m:\u001b[36mimage_track\u001b[0m:\u001b[36m203\u001b[0m - \u001b[1mProcessing frame 560/600 (2.91 fps)\u001b[0m\n",
            "\u001b[32m2022-07-10 19:13:18.077\u001b[0m | \u001b[1mINFO    \u001b[0m | \u001b[36m__main__\u001b[0m:\u001b[36mimage_track\u001b[0m:\u001b[36m203\u001b[0m - \u001b[1mProcessing frame 580/600 (2.91 fps)\u001b[0m\n",
            "\u001b[32m2022-07-10 19:13:26.942\u001b[0m | \u001b[1mINFO    \u001b[0m | \u001b[36m__main__\u001b[0m:\u001b[36mimage_track\u001b[0m:\u001b[36m203\u001b[0m - \u001b[1mProcessing frame 600/600 (2.92 fps)\u001b[0m\n",
            "\u001b[32m2022-07-10 19:13:26.948\u001b[0m | \u001b[1mINFO    \u001b[0m | \u001b[36m__main__\u001b[0m:\u001b[36mimage_track\u001b[0m:\u001b[36m209\u001b[0m - \u001b[1msave results to ./YOLOX_outputs/yolox_x_mix_det/track_results/MOT17-02-SDP.txt\u001b[0m\n",
            "TOTAL TIME END-to-END (with loading networks and images):  900.8183915615082\n",
            "TOTAL TIME (Detector + Tracker): 617.4321603775024, FPS: 2.9153000370104905\n",
            "TOTAL TIME (Tracker only): 375.3336477279663, FPS: 4.795733105454486\n"
          ]
        }
      ]
    },
    {
      "cell_type": "code",
      "source": [
        "!mkdir results\n",
        "!python3 tools/interpolation.py --txt_path ./results"
      ],
      "metadata": {
        "id": "aZhYau3tfR7c"
      },
      "execution_count": null,
      "outputs": []
    },
    {
      "cell_type": "code",
      "source": [
        "%pwd"
      ],
      "metadata": {
        "colab": {
          "base_uri": "https://localhost:8080/",
          "height": 35
        },
        "id": "BIoerU4F3RgN",
        "outputId": "ad39c80f-a198-47e5-ca62-deb16ab62a90"
      },
      "execution_count": null,
      "outputs": [
        {
          "output_type": "execute_result",
          "data": {
            "text/plain": [
              "'/content/BoT-SORT'"
            ],
            "application/vnd.google.colaboratory.intrinsic+json": {
              "type": "string"
            }
          },
          "metadata": {},
          "execution_count": 11
        }
      ]
    },
    {
      "cell_type": "markdown",
      "source": [
        "\n",
        "\n",
        "*   Evaluation on MOT17 validation set (the second half of the train set)\n",
        "\n"
      ],
      "metadata": {
        "id": "UO-VN7dbfXDl"
      }
    },
    {
      "cell_type": "code",
      "source": [
        "#cd <BoT-SORT_dir>\n",
        "%cd /content/BoT-SORT\n",
        "\n",
        "!python3 tools/track.py /content/gdrive/MyDrive/Colab/BoT-SORT-data/MOT17 --default-parameters --benchmark \"MOT17\" --eval \"val\" --fp16 --fuse"
      ],
      "metadata": {
        "id": "N1mjLS6jfTUc",
        "colab": {
          "base_uri": "https://localhost:8080/"
        },
        "outputId": "e466c226-2d12-4c4b-fa90-68d1d8d1bca4"
      },
      "execution_count": null,
      "outputs": [
        {
          "output_type": "stream",
          "name": "stdout",
          "text": [
            "/content/BoT-SORT\n",
            "\u001b[32m2022-07-10 19:16:06.021\u001b[0m | \u001b[1mINFO    \u001b[0m | \u001b[36m__main__\u001b[0m:\u001b[36mmain\u001b[0m:\u001b[36m224\u001b[0m - \u001b[1mArgs: Namespace(ablation=True, appearance_thresh=0.25, aspect_ratio_thresh=1.6, batch_size=1, benchmark='MOT17', ckpt='./pretrained/bytetrack_ablation.pth.tar', cmc_method='file', conf=None, default_parameters=True, device=device(type='cuda'), exp_file='./yolox/exps/example/mot/yolox_x_ablation.py', experiment_name='yolox_x_ablation', fast_reid_config='fast_reid/configs/MOT17/sbs_S50.yml', fast_reid_weights='pretrained/mot17_sbs_S50.pth', fp16=True, fps=30, fuse=True, match_thresh=0.8, min_box_area=10, mot20=False, name='MOT17-02-FRCNN', new_track_thresh=0.7, nms=None, path='/content/gdrive/MyDrive/Colab/BoT-SORT-data/MOT17/train/MOT17-02-FRCNN/img1', proximity_thresh=0.5, save_frames=False, split_to_eval='val', track_buffer=30, track_high_thresh=0.6, track_low_thresh=0.1, trt=False, tsize=None, with_reid=False)\u001b[0m\n",
            "/usr/local/lib/python3.7/dist-packages/torch/functional.py:568: UserWarning: torch.meshgrid: in an upcoming release, it will be required to pass the indexing argument. (Triggered internally at  ../aten/src/ATen/native/TensorShape.cpp:2228.)\n",
            "  return _VF.meshgrid(tensors, **kwargs)  # type: ignore[attr-defined]\n",
            "\u001b[32m2022-07-10 19:16:10.409\u001b[0m | \u001b[1mINFO    \u001b[0m | \u001b[36m__main__\u001b[0m:\u001b[36mmain\u001b[0m:\u001b[36m234\u001b[0m - \u001b[1mModel Summary: Params: 99.00M, Gflops: 793.21\u001b[0m\n",
            "\u001b[32m2022-07-10 19:16:10.412\u001b[0m | \u001b[1mINFO    \u001b[0m | \u001b[36m__main__\u001b[0m:\u001b[36mmain\u001b[0m:\u001b[36m241\u001b[0m - \u001b[1mloading checkpoint\u001b[0m\n",
            "\u001b[32m2022-07-10 19:16:15.084\u001b[0m | \u001b[1mINFO    \u001b[0m | \u001b[36m__main__\u001b[0m:\u001b[36mmain\u001b[0m:\u001b[36m246\u001b[0m - \u001b[1mloaded checkpoint done.\u001b[0m\n",
            "\u001b[32m2022-07-10 19:16:15.085\u001b[0m | \u001b[1mINFO    \u001b[0m | \u001b[36m__main__\u001b[0m:\u001b[36mmain\u001b[0m:\u001b[36m249\u001b[0m - \u001b[1m\tFusing model...\u001b[0m\n",
            "/usr/local/lib/python3.7/dist-packages/torch/_tensor.py:1104: UserWarning: The .grad attribute of a Tensor that is not a leaf Tensor is being accessed. Its .grad attribute won't be populated during autograd.backward(). If you indeed want the .grad field to be populated for a non-leaf Tensor, use .retain_grad() on the non-leaf Tensor. If you access the non-leaf Tensor by mistake, make sure you access the leaf Tensor instead. See github.com/pytorch/pytorch/pull/30531 for more informations. (Triggered internally at  aten/src/ATen/core/TensorBody.h:475.)\n",
            "  return self._grad\n",
            "\u001b[32m2022-07-10 19:16:22.027\u001b[0m | \u001b[1mINFO    \u001b[0m | \u001b[36m__main__\u001b[0m:\u001b[36mimage_track\u001b[0m:\u001b[36m203\u001b[0m - \u001b[1mProcessing frame 20/299 (7.09 fps)\u001b[0m\n",
            "\u001b[32m2022-07-10 19:16:27.557\u001b[0m | \u001b[1mINFO    \u001b[0m | \u001b[36m__main__\u001b[0m:\u001b[36mimage_track\u001b[0m:\u001b[36m203\u001b[0m - \u001b[1mProcessing frame 40/299 (7.12 fps)\u001b[0m\n",
            "\u001b[32m2022-07-10 19:16:33.061\u001b[0m | \u001b[1mINFO    \u001b[0m | \u001b[36m__main__\u001b[0m:\u001b[36mimage_track\u001b[0m:\u001b[36m203\u001b[0m - \u001b[1mProcessing frame 60/299 (7.13 fps)\u001b[0m\n",
            "\u001b[32m2022-07-10 19:16:38.576\u001b[0m | \u001b[1mINFO    \u001b[0m | \u001b[36m__main__\u001b[0m:\u001b[36mimage_track\u001b[0m:\u001b[36m203\u001b[0m - \u001b[1mProcessing frame 80/299 (7.15 fps)\u001b[0m\n",
            "\u001b[32m2022-07-10 19:16:44.050\u001b[0m | \u001b[1mINFO    \u001b[0m | \u001b[36m__main__\u001b[0m:\u001b[36mimage_track\u001b[0m:\u001b[36m203\u001b[0m - \u001b[1mProcessing frame 100/299 (7.16 fps)\u001b[0m\n",
            "\u001b[32m2022-07-10 19:16:49.540\u001b[0m | \u001b[1mINFO    \u001b[0m | \u001b[36m__main__\u001b[0m:\u001b[36mimage_track\u001b[0m:\u001b[36m203\u001b[0m - \u001b[1mProcessing frame 120/299 (7.16 fps)\u001b[0m\n",
            "\u001b[32m2022-07-10 19:16:55.029\u001b[0m | \u001b[1mINFO    \u001b[0m | \u001b[36m__main__\u001b[0m:\u001b[36mimage_track\u001b[0m:\u001b[36m203\u001b[0m - \u001b[1mProcessing frame 140/299 (7.17 fps)\u001b[0m\n",
            "\u001b[32m2022-07-10 19:17:00.527\u001b[0m | \u001b[1mINFO    \u001b[0m | \u001b[36m__main__\u001b[0m:\u001b[36mimage_track\u001b[0m:\u001b[36m203\u001b[0m - \u001b[1mProcessing frame 160/299 (7.17 fps)\u001b[0m\n",
            "\u001b[32m2022-07-10 19:17:06.023\u001b[0m | \u001b[1mINFO    \u001b[0m | \u001b[36m__main__\u001b[0m:\u001b[36mimage_track\u001b[0m:\u001b[36m203\u001b[0m - \u001b[1mProcessing frame 180/299 (7.17 fps)\u001b[0m\n",
            "\u001b[32m2022-07-10 19:17:11.565\u001b[0m | \u001b[1mINFO    \u001b[0m | \u001b[36m__main__\u001b[0m:\u001b[36mimage_track\u001b[0m:\u001b[36m203\u001b[0m - \u001b[1mProcessing frame 200/299 (7.17 fps)\u001b[0m\n",
            "\u001b[32m2022-07-10 19:17:17.081\u001b[0m | \u001b[1mINFO    \u001b[0m | \u001b[36m__main__\u001b[0m:\u001b[36mimage_track\u001b[0m:\u001b[36m203\u001b[0m - \u001b[1mProcessing frame 220/299 (7.17 fps)\u001b[0m\n",
            "\u001b[32m2022-07-10 19:17:22.636\u001b[0m | \u001b[1mINFO    \u001b[0m | \u001b[36m__main__\u001b[0m:\u001b[36mimage_track\u001b[0m:\u001b[36m203\u001b[0m - \u001b[1mProcessing frame 240/299 (7.16 fps)\u001b[0m\n",
            "\u001b[32m2022-07-10 19:17:28.138\u001b[0m | \u001b[1mINFO    \u001b[0m | \u001b[36m__main__\u001b[0m:\u001b[36mimage_track\u001b[0m:\u001b[36m203\u001b[0m - \u001b[1mProcessing frame 260/299 (7.17 fps)\u001b[0m\n",
            "\u001b[32m2022-07-10 19:17:33.651\u001b[0m | \u001b[1mINFO    \u001b[0m | \u001b[36m__main__\u001b[0m:\u001b[36mimage_track\u001b[0m:\u001b[36m203\u001b[0m - \u001b[1mProcessing frame 280/299 (7.16 fps)\u001b[0m\n",
            "\u001b[32m2022-07-10 19:17:38.887\u001b[0m | \u001b[1mINFO    \u001b[0m | \u001b[36m__main__\u001b[0m:\u001b[36mimage_track\u001b[0m:\u001b[36m209\u001b[0m - \u001b[1msave results to ./YOLOX_outputs/yolox_x_ablation/track_results/MOT17-02-FRCNN.txt\u001b[0m\n",
            "\u001b[32m2022-07-10 19:17:38.950\u001b[0m | \u001b[1mINFO    \u001b[0m | \u001b[36m__main__\u001b[0m:\u001b[36mmain\u001b[0m:\u001b[36m224\u001b[0m - \u001b[1mArgs: Namespace(ablation=True, appearance_thresh=0.25, aspect_ratio_thresh=1.6, batch_size=1, benchmark='MOT17', ckpt='./pretrained/bytetrack_ablation.pth.tar', cmc_method='file', conf=None, default_parameters=True, device=device(type='cuda'), exp_file='./yolox/exps/example/mot/yolox_x_ablation.py', experiment_name='yolox_x_ablation', fast_reid_config='fast_reid/configs/MOT17/sbs_S50.yml', fast_reid_weights='pretrained/mot17_sbs_S50.pth', fp16=True, fps=30, fuse=True, match_thresh=0.8, min_box_area=10, mot20=False, name='MOT17-02-DPM', new_track_thresh=0.7, nms=None, path='/content/gdrive/MyDrive/Colab/BoT-SORT-data/MOT17/train/MOT17-02-DPM/img1', proximity_thresh=0.5, save_frames=False, split_to_eval='val', track_buffer=30, track_high_thresh=0.6, track_low_thresh=0.1, trt=False, tsize=None, with_reid=False)\u001b[0m\n",
            "\u001b[32m2022-07-10 19:17:40.301\u001b[0m | \u001b[1mINFO    \u001b[0m | \u001b[36m__main__\u001b[0m:\u001b[36mmain\u001b[0m:\u001b[36m234\u001b[0m - \u001b[1mModel Summary: Params: 99.00M, Gflops: 793.21\u001b[0m\n",
            "\u001b[32m2022-07-10 19:17:40.304\u001b[0m | \u001b[1mINFO    \u001b[0m | \u001b[36m__main__\u001b[0m:\u001b[36mmain\u001b[0m:\u001b[36m241\u001b[0m - \u001b[1mloading checkpoint\u001b[0m\n",
            "\u001b[32m2022-07-10 19:17:40.975\u001b[0m | \u001b[1mINFO    \u001b[0m | \u001b[36m__main__\u001b[0m:\u001b[36mmain\u001b[0m:\u001b[36m246\u001b[0m - \u001b[1mloaded checkpoint done.\u001b[0m\n",
            "\u001b[32m2022-07-10 19:17:40.976\u001b[0m | \u001b[1mINFO    \u001b[0m | \u001b[36m__main__\u001b[0m:\u001b[36mmain\u001b[0m:\u001b[36m249\u001b[0m - \u001b[1m\tFusing model...\u001b[0m\n",
            "\u001b[32m2022-07-10 19:17:47.825\u001b[0m | \u001b[1mINFO    \u001b[0m | \u001b[36m__main__\u001b[0m:\u001b[36mimage_track\u001b[0m:\u001b[36m203\u001b[0m - \u001b[1mProcessing frame 20/299 (7.16 fps)\u001b[0m\n",
            "\u001b[32m2022-07-10 19:17:53.379\u001b[0m | \u001b[1mINFO    \u001b[0m | \u001b[36m__main__\u001b[0m:\u001b[36mimage_track\u001b[0m:\u001b[36m203\u001b[0m - \u001b[1mProcessing frame 40/299 (7.16 fps)\u001b[0m\n",
            "\u001b[32m2022-07-10 19:17:58.911\u001b[0m | \u001b[1mINFO    \u001b[0m | \u001b[36m__main__\u001b[0m:\u001b[36mimage_track\u001b[0m:\u001b[36m203\u001b[0m - \u001b[1mProcessing frame 60/299 (7.16 fps)\u001b[0m\n",
            "\u001b[32m2022-07-10 19:18:04.418\u001b[0m | \u001b[1mINFO    \u001b[0m | \u001b[36m__main__\u001b[0m:\u001b[36mimage_track\u001b[0m:\u001b[36m203\u001b[0m - \u001b[1mProcessing frame 80/299 (7.16 fps)\u001b[0m\n",
            "\u001b[32m2022-07-10 19:18:09.931\u001b[0m | \u001b[1mINFO    \u001b[0m | \u001b[36m__main__\u001b[0m:\u001b[36mimage_track\u001b[0m:\u001b[36m203\u001b[0m - \u001b[1mProcessing frame 100/299 (7.16 fps)\u001b[0m\n",
            "\u001b[32m2022-07-10 19:18:15.431\u001b[0m | \u001b[1mINFO    \u001b[0m | \u001b[36m__main__\u001b[0m:\u001b[36mimage_track\u001b[0m:\u001b[36m203\u001b[0m - \u001b[1mProcessing frame 120/299 (7.17 fps)\u001b[0m\n",
            "\u001b[32m2022-07-10 19:18:20.999\u001b[0m | \u001b[1mINFO    \u001b[0m | \u001b[36m__main__\u001b[0m:\u001b[36mimage_track\u001b[0m:\u001b[36m203\u001b[0m - \u001b[1mProcessing frame 140/299 (7.17 fps)\u001b[0m\n",
            "\u001b[32m2022-07-10 19:18:26.528\u001b[0m | \u001b[1mINFO    \u001b[0m | \u001b[36m__main__\u001b[0m:\u001b[36mimage_track\u001b[0m:\u001b[36m203\u001b[0m - \u001b[1mProcessing frame 160/299 (7.17 fps)\u001b[0m\n",
            "\u001b[32m2022-07-10 19:18:32.055\u001b[0m | \u001b[1mINFO    \u001b[0m | \u001b[36m__main__\u001b[0m:\u001b[36mimage_track\u001b[0m:\u001b[36m203\u001b[0m - \u001b[1mProcessing frame 180/299 (7.17 fps)\u001b[0m\n",
            "\u001b[32m2022-07-10 19:18:37.634\u001b[0m | \u001b[1mINFO    \u001b[0m | \u001b[36m__main__\u001b[0m:\u001b[36mimage_track\u001b[0m:\u001b[36m203\u001b[0m - \u001b[1mProcessing frame 200/299 (7.17 fps)\u001b[0m\n",
            "\u001b[32m2022-07-10 19:18:43.183\u001b[0m | \u001b[1mINFO    \u001b[0m | \u001b[36m__main__\u001b[0m:\u001b[36mimage_track\u001b[0m:\u001b[36m203\u001b[0m - \u001b[1mProcessing frame 220/299 (7.16 fps)\u001b[0m\n",
            "\u001b[32m2022-07-10 19:18:48.710\u001b[0m | \u001b[1mINFO    \u001b[0m | \u001b[36m__main__\u001b[0m:\u001b[36mimage_track\u001b[0m:\u001b[36m203\u001b[0m - \u001b[1mProcessing frame 240/299 (7.16 fps)\u001b[0m\n",
            "\u001b[32m2022-07-10 19:18:54.256\u001b[0m | \u001b[1mINFO    \u001b[0m | \u001b[36m__main__\u001b[0m:\u001b[36mimage_track\u001b[0m:\u001b[36m203\u001b[0m - \u001b[1mProcessing frame 260/299 (7.16 fps)\u001b[0m\n",
            "\u001b[32m2022-07-10 19:18:59.791\u001b[0m | \u001b[1mINFO    \u001b[0m | \u001b[36m__main__\u001b[0m:\u001b[36mimage_track\u001b[0m:\u001b[36m203\u001b[0m - \u001b[1mProcessing frame 280/299 (7.16 fps)\u001b[0m\n",
            "\u001b[32m2022-07-10 19:19:05.038\u001b[0m | \u001b[1mINFO    \u001b[0m | \u001b[36m__main__\u001b[0m:\u001b[36mimage_track\u001b[0m:\u001b[36m209\u001b[0m - \u001b[1msave results to ./YOLOX_outputs/yolox_x_ablation/track_results/MOT17-02-DPM.txt\u001b[0m\n",
            "\u001b[32m2022-07-10 19:19:05.087\u001b[0m | \u001b[1mINFO    \u001b[0m | \u001b[36m__main__\u001b[0m:\u001b[36mmain\u001b[0m:\u001b[36m224\u001b[0m - \u001b[1mArgs: Namespace(ablation=True, appearance_thresh=0.25, aspect_ratio_thresh=1.6, batch_size=1, benchmark='MOT17', ckpt='./pretrained/bytetrack_ablation.pth.tar', cmc_method='file', conf=None, default_parameters=True, device=device(type='cuda'), exp_file='./yolox/exps/example/mot/yolox_x_ablation.py', experiment_name='yolox_x_ablation', fast_reid_config='fast_reid/configs/MOT17/sbs_S50.yml', fast_reid_weights='pretrained/mot17_sbs_S50.pth', fp16=True, fps=30, fuse=True, match_thresh=0.8, min_box_area=10, mot20=False, name='MOT17-02-SDP', new_track_thresh=0.7, nms=None, path='/content/gdrive/MyDrive/Colab/BoT-SORT-data/MOT17/train/MOT17-02-SDP/img1', proximity_thresh=0.5, save_frames=False, split_to_eval='val', track_buffer=30, track_high_thresh=0.6, track_low_thresh=0.1, trt=False, tsize=None, with_reid=False)\u001b[0m\n",
            "\u001b[32m2022-07-10 19:19:06.345\u001b[0m | \u001b[1mINFO    \u001b[0m | \u001b[36m__main__\u001b[0m:\u001b[36mmain\u001b[0m:\u001b[36m234\u001b[0m - \u001b[1mModel Summary: Params: 99.00M, Gflops: 793.21\u001b[0m\n",
            "\u001b[32m2022-07-10 19:19:06.348\u001b[0m | \u001b[1mINFO    \u001b[0m | \u001b[36m__main__\u001b[0m:\u001b[36mmain\u001b[0m:\u001b[36m241\u001b[0m - \u001b[1mloading checkpoint\u001b[0m\n",
            "\u001b[32m2022-07-10 19:19:07.014\u001b[0m | \u001b[1mINFO    \u001b[0m | \u001b[36m__main__\u001b[0m:\u001b[36mmain\u001b[0m:\u001b[36m246\u001b[0m - \u001b[1mloaded checkpoint done.\u001b[0m\n",
            "\u001b[32m2022-07-10 19:19:07.015\u001b[0m | \u001b[1mINFO    \u001b[0m | \u001b[36m__main__\u001b[0m:\u001b[36mmain\u001b[0m:\u001b[36m249\u001b[0m - \u001b[1m\tFusing model...\u001b[0m\n",
            "\u001b[32m2022-07-10 19:19:13.923\u001b[0m | \u001b[1mINFO    \u001b[0m | \u001b[36m__main__\u001b[0m:\u001b[36mimage_track\u001b[0m:\u001b[36m203\u001b[0m - \u001b[1mProcessing frame 20/299 (7.16 fps)\u001b[0m\n",
            "\u001b[32m2022-07-10 19:19:19.488\u001b[0m | \u001b[1mINFO    \u001b[0m | \u001b[36m__main__\u001b[0m:\u001b[36mimage_track\u001b[0m:\u001b[36m203\u001b[0m - \u001b[1mProcessing frame 40/299 (7.16 fps)\u001b[0m\n",
            "\u001b[32m2022-07-10 19:19:25.032\u001b[0m | \u001b[1mINFO    \u001b[0m | \u001b[36m__main__\u001b[0m:\u001b[36mimage_track\u001b[0m:\u001b[36m203\u001b[0m - \u001b[1mProcessing frame 60/299 (7.16 fps)\u001b[0m\n",
            "\u001b[32m2022-07-10 19:19:30.564\u001b[0m | \u001b[1mINFO    \u001b[0m | \u001b[36m__main__\u001b[0m:\u001b[36mimage_track\u001b[0m:\u001b[36m203\u001b[0m - \u001b[1mProcessing frame 80/299 (7.16 fps)\u001b[0m\n",
            "\u001b[32m2022-07-10 19:19:36.080\u001b[0m | \u001b[1mINFO    \u001b[0m | \u001b[36m__main__\u001b[0m:\u001b[36mimage_track\u001b[0m:\u001b[36m203\u001b[0m - \u001b[1mProcessing frame 100/299 (7.16 fps)\u001b[0m\n",
            "\u001b[32m2022-07-10 19:19:41.582\u001b[0m | \u001b[1mINFO    \u001b[0m | \u001b[36m__main__\u001b[0m:\u001b[36mimage_track\u001b[0m:\u001b[36m203\u001b[0m - \u001b[1mProcessing frame 120/299 (7.16 fps)\u001b[0m\n",
            "\u001b[32m2022-07-10 19:19:47.099\u001b[0m | \u001b[1mINFO    \u001b[0m | \u001b[36m__main__\u001b[0m:\u001b[36mimage_track\u001b[0m:\u001b[36m203\u001b[0m - \u001b[1mProcessing frame 140/299 (7.16 fps)\u001b[0m\n",
            "\u001b[32m2022-07-10 19:19:52.633\u001b[0m | \u001b[1mINFO    \u001b[0m | \u001b[36m__main__\u001b[0m:\u001b[36mimage_track\u001b[0m:\u001b[36m203\u001b[0m - \u001b[1mProcessing frame 160/299 (7.16 fps)\u001b[0m\n",
            "\u001b[32m2022-07-10 19:19:58.143\u001b[0m | \u001b[1mINFO    \u001b[0m | \u001b[36m__main__\u001b[0m:\u001b[36mimage_track\u001b[0m:\u001b[36m203\u001b[0m - \u001b[1mProcessing frame 180/299 (7.16 fps)\u001b[0m\n",
            "\u001b[32m2022-07-10 19:20:03.677\u001b[0m | \u001b[1mINFO    \u001b[0m | \u001b[36m__main__\u001b[0m:\u001b[36mimage_track\u001b[0m:\u001b[36m203\u001b[0m - \u001b[1mProcessing frame 200/299 (7.16 fps)\u001b[0m\n",
            "\u001b[32m2022-07-10 19:20:09.227\u001b[0m | \u001b[1mINFO    \u001b[0m | \u001b[36m__main__\u001b[0m:\u001b[36mimage_track\u001b[0m:\u001b[36m203\u001b[0m - \u001b[1mProcessing frame 220/299 (7.16 fps)\u001b[0m\n",
            "\u001b[32m2022-07-10 19:20:14.785\u001b[0m | \u001b[1mINFO    \u001b[0m | \u001b[36m__main__\u001b[0m:\u001b[36mimage_track\u001b[0m:\u001b[36m203\u001b[0m - \u001b[1mProcessing frame 240/299 (7.16 fps)\u001b[0m\n",
            "\u001b[32m2022-07-10 19:20:20.351\u001b[0m | \u001b[1mINFO    \u001b[0m | \u001b[36m__main__\u001b[0m:\u001b[36mimage_track\u001b[0m:\u001b[36m203\u001b[0m - \u001b[1mProcessing frame 260/299 (7.16 fps)\u001b[0m\n",
            "\u001b[32m2022-07-10 19:20:25.896\u001b[0m | \u001b[1mINFO    \u001b[0m | \u001b[36m__main__\u001b[0m:\u001b[36mimage_track\u001b[0m:\u001b[36m203\u001b[0m - \u001b[1mProcessing frame 280/299 (7.16 fps)\u001b[0m\n",
            "\u001b[32m2022-07-10 19:20:31.167\u001b[0m | \u001b[1mINFO    \u001b[0m | \u001b[36m__main__\u001b[0m:\u001b[36mimage_track\u001b[0m:\u001b[36m209\u001b[0m - \u001b[1msave results to ./YOLOX_outputs/yolox_x_ablation/track_results/MOT17-02-SDP.txt\u001b[0m\n",
            "TOTAL TIME END-to-END (with loading networks and images):  265.19951939582825\n",
            "TOTAL TIME (Detector + Tracker): 125.2346363067627, FPS: 7.162555235939642\n",
            "TOTAL TIME (Tracker only): 4.986443042755127, FPS: 179.8877460965415\n"
          ]
        }
      ]
    },
    {
      "cell_type": "markdown",
      "source": [
        "# Demo"
      ],
      "metadata": {
        "id": "7P1EWV0i3c80"
      }
    },
    {
      "cell_type": "code",
      "source": [
        "#cd <BoT-SORT_dir>\n",
        "%cd /content/BoT-SORT\n",
        "!python3 tools/demo.py video --path /content/BoT-SORT/assets/BoT-SORT-MOT17-06.mov -f yolox/exps/example/mot/yolox_x_mix_det.py -c pretrained/bytetrack_x_mot17.pth.tar --with-reid --fuse-score --fp16 --fuse --save_result"
      ],
      "metadata": {
        "id": "RXDjmOvV3ZA0",
        "colab": {
          "base_uri": "https://localhost:8080/"
        },
        "outputId": "556c6d57-f33f-42ac-920a-a30d2d81f3bf"
      },
      "execution_count": null,
      "outputs": [
        {
          "output_type": "stream",
          "name": "stdout",
          "text": [
            "/content/BoT-SORT\n",
            "\u001b[32m2022-07-10 19:25:02.954\u001b[0m | \u001b[1mINFO    \u001b[0m | \u001b[36m__main__\u001b[0m:\u001b[36mmain\u001b[0m:\u001b[36m307\u001b[0m - \u001b[1mArgs: Namespace(ablation=False, appearance_thresh=0.25, aspect_ratio_thresh=1.6, camid=0, ckpt='pretrained/bytetrack_x_mot17.pth.tar', cmc_method='orb', conf=None, demo='video', device=device(type='cuda'), exp_file='yolox/exps/example/mot/yolox_x_mix_det.py', experiment_name='yolox_x_mix_det', fast_reid_config='fast_reid/configs/MOT17/sbs_S50.yml', fast_reid_weights='pretrained/mot17_sbs_S50.pth', fp16=True, fps=30, fuse=True, fuse_score=True, match_thresh=0.8, min_box_area=10, mot20=False, name=None, new_track_thresh=0.7, nms=None, path='/content/BoT-SORT/assets/BoT-SORT-MOT17-06.mov', proximity_thresh=0.5, save_result=True, track_buffer=30, track_high_thresh=0.6, track_low_thresh=0.1, trt=False, tsize=None, with_reid=True)\u001b[0m\n",
            "/usr/local/lib/python3.7/dist-packages/torch/functional.py:568: UserWarning: torch.meshgrid: in an upcoming release, it will be required to pass the indexing argument. (Triggered internally at  ../aten/src/ATen/native/TensorShape.cpp:2228.)\n",
            "  return _VF.meshgrid(tensors, **kwargs)  # type: ignore[attr-defined]\n",
            "\u001b[32m2022-07-10 19:25:07.331\u001b[0m | \u001b[1mINFO    \u001b[0m | \u001b[36m__main__\u001b[0m:\u001b[36mmain\u001b[0m:\u001b[36m317\u001b[0m - \u001b[1mModel Summary: Params: 99.00M, Gflops: 793.21\u001b[0m\n",
            "\u001b[32m2022-07-10 19:25:07.334\u001b[0m | \u001b[1mINFO    \u001b[0m | \u001b[36m__main__\u001b[0m:\u001b[36mmain\u001b[0m:\u001b[36m325\u001b[0m - \u001b[1mloading checkpoint\u001b[0m\n",
            "\u001b[32m2022-07-10 19:25:08.083\u001b[0m | \u001b[1mINFO    \u001b[0m | \u001b[36m__main__\u001b[0m:\u001b[36mmain\u001b[0m:\u001b[36m329\u001b[0m - \u001b[1mloaded checkpoint done.\u001b[0m\n",
            "\u001b[32m2022-07-10 19:25:08.084\u001b[0m | \u001b[1mINFO    \u001b[0m | \u001b[36m__main__\u001b[0m:\u001b[36mmain\u001b[0m:\u001b[36m332\u001b[0m - \u001b[1m\tFusing model...\u001b[0m\n",
            "/usr/local/lib/python3.7/dist-packages/torch/_tensor.py:1104: UserWarning: The .grad attribute of a Tensor that is not a leaf Tensor is being accessed. Its .grad attribute won't be populated during autograd.backward(). If you indeed want the .grad field to be populated for a non-leaf Tensor, use .retain_grad() on the non-leaf Tensor. If you access the non-leaf Tensor by mistake, make sure you access the leaf Tensor instead. See github.com/pytorch/pytorch/pull/30531 for more informations. (Triggered internally at  aten/src/ATen/core/TensorBody.h:475.)\n",
            "  return self._grad\n",
            "\u001b[32m2022-07-10 19:25:09.245\u001b[0m | \u001b[1mINFO    \u001b[0m | \u001b[36m__main__\u001b[0m:\u001b[36mimageflow_demo\u001b[0m:\u001b[36m230\u001b[0m - \u001b[1mvideo save_path is ./YOLOX_outputs/yolox_x_mix_det/track_vis/2022_07_10_19_25_09/BoT-SORT-MOT17-06.mov\u001b[0m\n",
            "Skip loading parameter 'heads.weight' to the model due to incompatible shapes: (487, 2048) in the checkpoint but (0, 2048) in the model! You might want to double check if this is expected.\n",
            "\u001b[32m2022-07-10 19:25:10.136\u001b[0m | \u001b[1mINFO    \u001b[0m | \u001b[36m__main__\u001b[0m:\u001b[36mimageflow_demo\u001b[0m:\u001b[36m240\u001b[0m - \u001b[1mProcessing frame 0 (100000.00 fps)\u001b[0m\n",
            "\u001b[32m2022-07-10 19:25:15.889\u001b[0m | \u001b[1mINFO    \u001b[0m | \u001b[36m__main__\u001b[0m:\u001b[36mimageflow_demo\u001b[0m:\u001b[36m240\u001b[0m - \u001b[1mProcessing frame 20 (5.38 fps)\u001b[0m\n",
            "\u001b[32m2022-07-10 19:25:21.470\u001b[0m | \u001b[1mINFO    \u001b[0m | \u001b[36m__main__\u001b[0m:\u001b[36mimageflow_demo\u001b[0m:\u001b[36m240\u001b[0m - \u001b[1mProcessing frame 40 (5.50 fps)\u001b[0m\n",
            "\u001b[32m2022-07-10 19:25:27.032\u001b[0m | \u001b[1mINFO    \u001b[0m | \u001b[36m__main__\u001b[0m:\u001b[36mimageflow_demo\u001b[0m:\u001b[36m240\u001b[0m - \u001b[1mProcessing frame 60 (5.54 fps)\u001b[0m\n",
            "\u001b[32m2022-07-10 19:25:32.651\u001b[0m | \u001b[1mINFO    \u001b[0m | \u001b[36m__main__\u001b[0m:\u001b[36mimageflow_demo\u001b[0m:\u001b[36m240\u001b[0m - \u001b[1mProcessing frame 80 (5.53 fps)\u001b[0m\n",
            "\u001b[32m2022-07-10 19:25:38.335\u001b[0m | \u001b[1mINFO    \u001b[0m | \u001b[36m__main__\u001b[0m:\u001b[36mimageflow_demo\u001b[0m:\u001b[36m240\u001b[0m - \u001b[1mProcessing frame 100 (5.51 fps)\u001b[0m\n",
            "\u001b[32m2022-07-10 19:25:44.019\u001b[0m | \u001b[1mINFO    \u001b[0m | \u001b[36m__main__\u001b[0m:\u001b[36mimageflow_demo\u001b[0m:\u001b[36m240\u001b[0m - \u001b[1mProcessing frame 120 (5.49 fps)\u001b[0m\n",
            "\u001b[32m2022-07-10 19:25:49.660\u001b[0m | \u001b[1mINFO    \u001b[0m | \u001b[36m__main__\u001b[0m:\u001b[36mimageflow_demo\u001b[0m:\u001b[36m240\u001b[0m - \u001b[1mProcessing frame 140 (5.48 fps)\u001b[0m\n",
            "\u001b[32m2022-07-10 19:25:55.219\u001b[0m | \u001b[1mINFO    \u001b[0m | \u001b[36m__main__\u001b[0m:\u001b[36mimageflow_demo\u001b[0m:\u001b[36m240\u001b[0m - \u001b[1mProcessing frame 160 (5.50 fps)\u001b[0m\n",
            "\u001b[32m2022-07-10 19:26:00.782\u001b[0m | \u001b[1mINFO    \u001b[0m | \u001b[36m__main__\u001b[0m:\u001b[36mimageflow_demo\u001b[0m:\u001b[36m240\u001b[0m - \u001b[1mProcessing frame 180 (5.50 fps)\u001b[0m\n",
            "\u001b[32m2022-07-10 19:26:06.249\u001b[0m | \u001b[1mINFO    \u001b[0m | \u001b[36m__main__\u001b[0m:\u001b[36mimageflow_demo\u001b[0m:\u001b[36m240\u001b[0m - \u001b[1mProcessing frame 200 (5.52 fps)\u001b[0m\n",
            "\u001b[32m2022-07-10 19:26:11.847\u001b[0m | \u001b[1mINFO    \u001b[0m | \u001b[36m__main__\u001b[0m:\u001b[36mimageflow_demo\u001b[0m:\u001b[36m240\u001b[0m - \u001b[1mProcessing frame 220 (5.52 fps)\u001b[0m\n",
            "\u001b[32m2022-07-10 19:26:17.404\u001b[0m | \u001b[1mINFO    \u001b[0m | \u001b[36m__main__\u001b[0m:\u001b[36mimageflow_demo\u001b[0m:\u001b[36m240\u001b[0m - \u001b[1mProcessing frame 240 (5.52 fps)\u001b[0m\n",
            "\u001b[32m2022-07-10 19:26:22.919\u001b[0m | \u001b[1mINFO    \u001b[0m | \u001b[36m__main__\u001b[0m:\u001b[36mimageflow_demo\u001b[0m:\u001b[36m240\u001b[0m - \u001b[1mProcessing frame 260 (5.53 fps)\u001b[0m\n",
            "\u001b[32m2022-07-10 19:26:28.531\u001b[0m | \u001b[1mINFO    \u001b[0m | \u001b[36m__main__\u001b[0m:\u001b[36mimageflow_demo\u001b[0m:\u001b[36m240\u001b[0m - \u001b[1mProcessing frame 280 (5.54 fps)\u001b[0m\n",
            "\u001b[32m2022-07-10 19:26:34.235\u001b[0m | \u001b[1mINFO    \u001b[0m | \u001b[36m__main__\u001b[0m:\u001b[36mimageflow_demo\u001b[0m:\u001b[36m240\u001b[0m - \u001b[1mProcessing frame 300 (5.54 fps)\u001b[0m\n",
            "\u001b[32m2022-07-10 19:26:39.864\u001b[0m | \u001b[1mINFO    \u001b[0m | \u001b[36m__main__\u001b[0m:\u001b[36mimageflow_demo\u001b[0m:\u001b[36m240\u001b[0m - \u001b[1mProcessing frame 320 (5.54 fps)\u001b[0m\n",
            "\u001b[32m2022-07-10 19:26:45.399\u001b[0m | \u001b[1mINFO    \u001b[0m | \u001b[36m__main__\u001b[0m:\u001b[36mimageflow_demo\u001b[0m:\u001b[36m240\u001b[0m - \u001b[1mProcessing frame 340 (5.54 fps)\u001b[0m\n",
            "\u001b[32m2022-07-10 19:26:51.327\u001b[0m | \u001b[1mINFO    \u001b[0m | \u001b[36m__main__\u001b[0m:\u001b[36mimageflow_demo\u001b[0m:\u001b[36m240\u001b[0m - \u001b[1mProcessing frame 360 (5.52 fps)\u001b[0m\n",
            "\u001b[32m2022-07-10 19:26:57.042\u001b[0m | \u001b[1mINFO    \u001b[0m | \u001b[36m__main__\u001b[0m:\u001b[36mimageflow_demo\u001b[0m:\u001b[36m240\u001b[0m - \u001b[1mProcessing frame 380 (5.51 fps)\u001b[0m\n",
            "\u001b[32m2022-07-10 19:27:02.781\u001b[0m | \u001b[1mINFO    \u001b[0m | \u001b[36m__main__\u001b[0m:\u001b[36mimageflow_demo\u001b[0m:\u001b[36m240\u001b[0m - \u001b[1mProcessing frame 400 (5.50 fps)\u001b[0m\n",
            "\u001b[32m2022-07-10 19:27:08.540\u001b[0m | \u001b[1mINFO    \u001b[0m | \u001b[36m__main__\u001b[0m:\u001b[36mimageflow_demo\u001b[0m:\u001b[36m240\u001b[0m - \u001b[1mProcessing frame 420 (5.49 fps)\u001b[0m\n",
            "\u001b[32m2022-07-10 19:27:14.112\u001b[0m | \u001b[1mINFO    \u001b[0m | \u001b[36m__main__\u001b[0m:\u001b[36mimageflow_demo\u001b[0m:\u001b[36m240\u001b[0m - \u001b[1mProcessing frame 440 (5.50 fps)\u001b[0m\n",
            "\u001b[32m2022-07-10 19:27:19.798\u001b[0m | \u001b[1mINFO    \u001b[0m | \u001b[36m__main__\u001b[0m:\u001b[36mimageflow_demo\u001b[0m:\u001b[36m240\u001b[0m - \u001b[1mProcessing frame 460 (5.50 fps)\u001b[0m\n",
            "\u001b[32m2022-07-10 19:27:25.396\u001b[0m | \u001b[1mINFO    \u001b[0m | \u001b[36m__main__\u001b[0m:\u001b[36mimageflow_demo\u001b[0m:\u001b[36m240\u001b[0m - \u001b[1mProcessing frame 480 (5.50 fps)\u001b[0m\n",
            "\u001b[32m2022-07-10 19:27:30.915\u001b[0m | \u001b[1mINFO    \u001b[0m | \u001b[36m__main__\u001b[0m:\u001b[36mimageflow_demo\u001b[0m:\u001b[36m240\u001b[0m - \u001b[1mProcessing frame 500 (5.51 fps)\u001b[0m\n",
            "\u001b[32m2022-07-10 19:27:36.432\u001b[0m | \u001b[1mINFO    \u001b[0m | \u001b[36m__main__\u001b[0m:\u001b[36mimageflow_demo\u001b[0m:\u001b[36m240\u001b[0m - \u001b[1mProcessing frame 520 (5.51 fps)\u001b[0m\n",
            "\u001b[32m2022-07-10 19:27:42.059\u001b[0m | \u001b[1mINFO    \u001b[0m | \u001b[36m__main__\u001b[0m:\u001b[36mimageflow_demo\u001b[0m:\u001b[36m240\u001b[0m - \u001b[1mProcessing frame 540 (5.51 fps)\u001b[0m\n",
            "\u001b[32m2022-07-10 19:27:47.740\u001b[0m | \u001b[1mINFO    \u001b[0m | \u001b[36m__main__\u001b[0m:\u001b[36mimageflow_demo\u001b[0m:\u001b[36m240\u001b[0m - \u001b[1mProcessing frame 560 (5.51 fps)\u001b[0m\n",
            "\u001b[32m2022-07-10 19:27:53.223\u001b[0m | \u001b[1mINFO    \u001b[0m | \u001b[36m__main__\u001b[0m:\u001b[36mimageflow_demo\u001b[0m:\u001b[36m240\u001b[0m - \u001b[1mProcessing frame 580 (5.52 fps)\u001b[0m\n",
            "\u001b[32m2022-07-10 19:27:58.696\u001b[0m | \u001b[1mINFO    \u001b[0m | \u001b[36m__main__\u001b[0m:\u001b[36mimageflow_demo\u001b[0m:\u001b[36m240\u001b[0m - \u001b[1mProcessing frame 600 (5.52 fps)\u001b[0m\n",
            "\u001b[32m2022-07-10 19:28:04.281\u001b[0m | \u001b[1mINFO    \u001b[0m | \u001b[36m__main__\u001b[0m:\u001b[36mimageflow_demo\u001b[0m:\u001b[36m240\u001b[0m - \u001b[1mProcessing frame 620 (5.52 fps)\u001b[0m\n",
            "\u001b[32m2022-07-10 19:28:09.844\u001b[0m | \u001b[1mINFO    \u001b[0m | \u001b[36m__main__\u001b[0m:\u001b[36mimageflow_demo\u001b[0m:\u001b[36m240\u001b[0m - \u001b[1mProcessing frame 640 (5.53 fps)\u001b[0m\n",
            "\u001b[32m2022-07-10 19:28:15.360\u001b[0m | \u001b[1mINFO    \u001b[0m | \u001b[36m__main__\u001b[0m:\u001b[36mimageflow_demo\u001b[0m:\u001b[36m240\u001b[0m - \u001b[1mProcessing frame 660 (5.53 fps)\u001b[0m\n",
            "\u001b[32m2022-07-10 19:28:20.880\u001b[0m | \u001b[1mINFO    \u001b[0m | \u001b[36m__main__\u001b[0m:\u001b[36mimageflow_demo\u001b[0m:\u001b[36m240\u001b[0m - \u001b[1mProcessing frame 680 (5.54 fps)\u001b[0m\n",
            "\u001b[32m2022-07-10 19:28:26.432\u001b[0m | \u001b[1mINFO    \u001b[0m | \u001b[36m__main__\u001b[0m:\u001b[36mimageflow_demo\u001b[0m:\u001b[36m240\u001b[0m - \u001b[1mProcessing frame 700 (5.54 fps)\u001b[0m\n",
            "\u001b[32m2022-07-10 19:28:31.955\u001b[0m | \u001b[1mINFO    \u001b[0m | \u001b[36m__main__\u001b[0m:\u001b[36mimageflow_demo\u001b[0m:\u001b[36m240\u001b[0m - \u001b[1mProcessing frame 720 (5.54 fps)\u001b[0m\n",
            "\u001b[32m2022-07-10 19:28:37.547\u001b[0m | \u001b[1mINFO    \u001b[0m | \u001b[36m__main__\u001b[0m:\u001b[36mimageflow_demo\u001b[0m:\u001b[36m240\u001b[0m - \u001b[1mProcessing frame 740 (5.54 fps)\u001b[0m\n",
            "\u001b[32m2022-07-10 19:28:43.137\u001b[0m | \u001b[1mINFO    \u001b[0m | \u001b[36m__main__\u001b[0m:\u001b[36mimageflow_demo\u001b[0m:\u001b[36m240\u001b[0m - \u001b[1mProcessing frame 760 (5.55 fps)\u001b[0m\n",
            "\u001b[32m2022-07-10 19:28:48.753\u001b[0m | \u001b[1mINFO    \u001b[0m | \u001b[36m__main__\u001b[0m:\u001b[36mimageflow_demo\u001b[0m:\u001b[36m240\u001b[0m - \u001b[1mProcessing frame 780 (5.55 fps)\u001b[0m\n",
            "\u001b[32m2022-07-10 19:28:54.368\u001b[0m | \u001b[1mINFO    \u001b[0m | \u001b[36m__main__\u001b[0m:\u001b[36mimageflow_demo\u001b[0m:\u001b[36m240\u001b[0m - \u001b[1mProcessing frame 800 (5.54 fps)\u001b[0m\n",
            "\u001b[32m2022-07-10 19:28:59.947\u001b[0m | \u001b[1mINFO    \u001b[0m | \u001b[36m__main__\u001b[0m:\u001b[36mimageflow_demo\u001b[0m:\u001b[36m240\u001b[0m - \u001b[1mProcessing frame 820 (5.55 fps)\u001b[0m\n",
            "\u001b[32m2022-07-10 19:29:05.500\u001b[0m | \u001b[1mINFO    \u001b[0m | \u001b[36m__main__\u001b[0m:\u001b[36mimageflow_demo\u001b[0m:\u001b[36m240\u001b[0m - \u001b[1mProcessing frame 840 (5.55 fps)\u001b[0m\n",
            "\u001b[32m2022-07-10 19:29:11.122\u001b[0m | \u001b[1mINFO    \u001b[0m | \u001b[36m__main__\u001b[0m:\u001b[36mimageflow_demo\u001b[0m:\u001b[36m240\u001b[0m - \u001b[1mProcessing frame 860 (5.55 fps)\u001b[0m\n",
            "\u001b[32m2022-07-10 19:29:16.694\u001b[0m | \u001b[1mINFO    \u001b[0m | \u001b[36m__main__\u001b[0m:\u001b[36mimageflow_demo\u001b[0m:\u001b[36m240\u001b[0m - \u001b[1mProcessing frame 880 (5.55 fps)\u001b[0m\n",
            "\u001b[32m2022-07-10 19:29:22.262\u001b[0m | \u001b[1mINFO    \u001b[0m | \u001b[36m__main__\u001b[0m:\u001b[36mimageflow_demo\u001b[0m:\u001b[36m240\u001b[0m - \u001b[1mProcessing frame 900 (5.55 fps)\u001b[0m\n",
            "\u001b[32m2022-07-10 19:29:27.840\u001b[0m | \u001b[1mINFO    \u001b[0m | \u001b[36m__main__\u001b[0m:\u001b[36mimageflow_demo\u001b[0m:\u001b[36m240\u001b[0m - \u001b[1mProcessing frame 920 (5.55 fps)\u001b[0m\n",
            "\u001b[32m2022-07-10 19:29:33.561\u001b[0m | \u001b[1mINFO    \u001b[0m | \u001b[36m__main__\u001b[0m:\u001b[36mimageflow_demo\u001b[0m:\u001b[36m240\u001b[0m - \u001b[1mProcessing frame 940 (5.55 fps)\u001b[0m\n",
            "\u001b[32m2022-07-10 19:29:39.323\u001b[0m | \u001b[1mINFO    \u001b[0m | \u001b[36m__main__\u001b[0m:\u001b[36mimageflow_demo\u001b[0m:\u001b[36m240\u001b[0m - \u001b[1mProcessing frame 960 (5.55 fps)\u001b[0m\n",
            "\u001b[32m2022-07-10 19:29:45.099\u001b[0m | \u001b[1mINFO    \u001b[0m | \u001b[36m__main__\u001b[0m:\u001b[36mimageflow_demo\u001b[0m:\u001b[36m240\u001b[0m - \u001b[1mProcessing frame 980 (5.54 fps)\u001b[0m\n",
            "\u001b[32m2022-07-10 19:29:50.859\u001b[0m | \u001b[1mINFO    \u001b[0m | \u001b[36m__main__\u001b[0m:\u001b[36mimageflow_demo\u001b[0m:\u001b[36m240\u001b[0m - \u001b[1mProcessing frame 1000 (5.54 fps)\u001b[0m\n",
            "\u001b[32m2022-07-10 19:29:56.550\u001b[0m | \u001b[1mINFO    \u001b[0m | \u001b[36m__main__\u001b[0m:\u001b[36mimageflow_demo\u001b[0m:\u001b[36m240\u001b[0m - \u001b[1mProcessing frame 1020 (5.54 fps)\u001b[0m\n",
            "\u001b[32m2022-07-10 19:30:02.246\u001b[0m | \u001b[1mINFO    \u001b[0m | \u001b[36m__main__\u001b[0m:\u001b[36mimageflow_demo\u001b[0m:\u001b[36m240\u001b[0m - \u001b[1mProcessing frame 1040 (5.54 fps)\u001b[0m\n",
            "\u001b[32m2022-07-10 19:30:07.815\u001b[0m | \u001b[1mINFO    \u001b[0m | \u001b[36m__main__\u001b[0m:\u001b[36mimageflow_demo\u001b[0m:\u001b[36m240\u001b[0m - \u001b[1mProcessing frame 1060 (5.54 fps)\u001b[0m\n",
            "\u001b[32m2022-07-10 19:30:13.466\u001b[0m | \u001b[1mINFO    \u001b[0m | \u001b[36m__main__\u001b[0m:\u001b[36mimageflow_demo\u001b[0m:\u001b[36m240\u001b[0m - \u001b[1mProcessing frame 1080 (5.54 fps)\u001b[0m\n",
            "\u001b[32m2022-07-10 19:30:19.025\u001b[0m | \u001b[1mINFO    \u001b[0m | \u001b[36m__main__\u001b[0m:\u001b[36mimageflow_demo\u001b[0m:\u001b[36m240\u001b[0m - \u001b[1mProcessing frame 1100 (5.54 fps)\u001b[0m\n",
            "\u001b[32m2022-07-10 19:30:24.569\u001b[0m | \u001b[1mINFO    \u001b[0m | \u001b[36m__main__\u001b[0m:\u001b[36mimageflow_demo\u001b[0m:\u001b[36m240\u001b[0m - \u001b[1mProcessing frame 1120 (5.54 fps)\u001b[0m\n",
            "\u001b[32m2022-07-10 19:30:30.164\u001b[0m | \u001b[1mINFO    \u001b[0m | \u001b[36m__main__\u001b[0m:\u001b[36mimageflow_demo\u001b[0m:\u001b[36m240\u001b[0m - \u001b[1mProcessing frame 1140 (5.54 fps)\u001b[0m\n",
            "\u001b[32m2022-07-10 19:30:35.741\u001b[0m | \u001b[1mINFO    \u001b[0m | \u001b[36m__main__\u001b[0m:\u001b[36mimageflow_demo\u001b[0m:\u001b[36m240\u001b[0m - \u001b[1mProcessing frame 1160 (5.54 fps)\u001b[0m\n",
            "\u001b[32m2022-07-10 19:30:41.334\u001b[0m | \u001b[1mINFO    \u001b[0m | \u001b[36m__main__\u001b[0m:\u001b[36mimageflow_demo\u001b[0m:\u001b[36m240\u001b[0m - \u001b[1mProcessing frame 1180 (5.54 fps)\u001b[0m\n",
            "\u001b[32m2022-07-10 19:30:45.352\u001b[0m | \u001b[1mINFO    \u001b[0m | \u001b[36m__main__\u001b[0m:\u001b[36mimageflow_demo\u001b[0m:\u001b[36m289\u001b[0m - \u001b[1msave results to ./YOLOX_outputs/yolox_x_mix_det/track_vis/2022_07_10_19_25_09.txt\u001b[0m\n"
          ]
        }
      ]
    }
  ]
}